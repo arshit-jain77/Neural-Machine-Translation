{
 "cells": [
  {
   "cell_type": "markdown",
   "metadata": {},
   "source": [
    "# Neural Machine Translation\n",
    "\n",
    "Welcome to your first programming assignment for this week! \n",
    "\n",
    "* You will build a Neural Machine Translation (NMT) model to translate human-readable dates (\"25th of June, 2009\") into machine-readable dates (\"2009-06-25\"). \n",
    "* You will do this using an attention model, one of the most sophisticated sequence-to-sequence models. \n",
    "\n",
    "This notebook was produced together with NVIDIA's Deep Learning Institute. "
   ]
  },
  {
   "cell_type": "markdown",
   "metadata": {},
   "source": [
    "## <font color='darkblue'>Updates</font>\n",
    "\n",
    "#### If you were working on the notebook before this update...\n",
    "* The current notebook is version \"4a\".\n",
    "* You can find your original work saved in the notebook with the previous version name (\"v4\") \n",
    "* To view the file directory, go to the menu \"File->Open\", and this will open a new tab that shows the file directory.\n",
    "\n",
    "#### List of updates\n",
    "* Clarified names of variables to be consistent with the lectures and consistent within the assignment\n",
    "    - pre-attention bi-directional LSTM: the first LSTM that processes the input data.\n",
    "        - 'a': the hidden state of the pre-attention LSTM.\n",
    "    - post-attention LSTM: the LSTM that outputs the translation.\n",
    "        - 's': the hidden state of the post-attention LSTM.\n",
    "    - energies \"e\".  The output of the dense function that takes \"a\" and \"s\" as inputs.\n",
    "    - All references to \"output activation\" are updated to \"hidden state\".\n",
    "    - \"post-activation\" sequence model is updated to \"post-attention sequence model\".\n",
    "    - 3.1: \"Getting the activations from the Network\" renamed to \"Getting the attention weights from the network.\"\n",
    "    - Appropriate mentions of \"activation\" replaced \"attention weights.\"\n",
    "    - Sequence of alphas corrected to be a sequence of \"a\" hidden states.\n",
    "* one_step_attention:\n",
    "    - Provides sample code for each Keras layer, to show how to call the functions.\n",
    "    - Reminds students to provide the list of hidden states in a specific order, in order to pause the autograder.\n",
    "* model\n",
    "    - Provides sample code for each Keras layer, to show how to call the functions.\n",
    "    - Added a troubleshooting note about handling errors.\n",
    "    - Fixed typo: outputs should be of length 10 and not 11.\n",
    "* define optimizer and compile model\n",
    "    - Provides sample code for each Keras layer, to show how to call the functions.\n",
    "\n",
    "* Spelling, grammar and wording corrections."
   ]
  },
  {
   "cell_type": "markdown",
   "metadata": {},
   "source": [
    "Let's load all the packages you will need for this assignment."
   ]
  },
  {
   "cell_type": "code",
   "execution_count": 2,
   "metadata": {},
   "outputs": [],
   "source": [
    "fake = Faker()\n",
    "Faker.seed(12345)\n",
    "random.seed(12345)"
   ]
  },
  {
   "cell_type": "code",
   "execution_count": 1,
   "metadata": {},
   "outputs": [
    {
     "name": "stderr",
     "output_type": "stream",
     "text": [
      "Using TensorFlow backend.\n"
     ]
    }
   ],
   "source": [
    "from keras.layers import Bidirectional, Concatenate, Permute, Dot, Input, LSTM, Multiply\n",
    "from keras.layers import RepeatVector, Dense, Activation, Lambda\n",
    "from keras.optimizers import Adam\n",
    "from keras.utils import to_categorical\n",
    "from keras.models import load_model, Model\n",
    "import keras.backend as K\n",
    "import numpy as np\n",
    "\n",
    "from faker import Faker\n",
    "import random\n",
    "from tqdm import tqdm\n",
    "from babel.dates import format_date\n",
    "from nmt_utils import *\n",
    "import matplotlib.pyplot as plt\n",
    "%matplotlib inline"
   ]
  },
  {
   "cell_type": "markdown",
   "metadata": {},
   "source": [
    "## 1 - Translating human readable dates into machine readable dates\n",
    "\n",
    "* The model you will build here could be used to translate from one language to another, such as translating from English to Hindi. \n",
    "* However, language translation requires massive datasets and usually takes days of training on GPUs. \n",
    "* To give you a place to experiment with these models without using massive datasets, we will perform a simpler \"date translation\" task. \n",
    "* The network will input a date written in a variety of possible formats (*e.g. \"the 29th of August 1958\", \"03/30/1968\", \"24 JUNE 1987\"*) \n",
    "* The network will translate them into standardized, machine readable dates (*e.g. \"1958-08-29\", \"1968-03-30\", \"1987-06-24\"*). \n",
    "* We will have the network learn to output dates in the common machine-readable format YYYY-MM-DD. \n",
    "\n",
    "<!-- \n",
    "Take a look at [nmt_utils.py](./nmt_utils.py) to see all the formatting. Count and figure out how the formats work, you will need this knowledge later. !--> "
   ]
  },
  {
   "cell_type": "markdown",
   "metadata": {},
   "source": [
    "### 1.1 - Dataset\n",
    "\n",
    "We will train the model on a dataset of 10,000 human readable dates and their equivalent, standardized, machine readable dates. Let's run the following cells to load the dataset and print some examples. "
   ]
  },
  {
   "cell_type": "code",
   "execution_count": 3,
   "metadata": {},
   "outputs": [],
   "source": [
    "def load_datee():\n",
    "    \"\"\"\n",
    "        Loads some fake dates \n",
    "        :returns: tuple containing human readable string, machine readable string, and date object\n",
    "    \"\"\"\n",
    "    dt = fake.date_object()\n",
    "\n",
    "    try:\n",
    "        human_readable = format_date(dt, format=random.choice(FORMATS),  locale='en_US') # locale=random.choice(LOCALES))\n",
    "        human_readable = human_readable.lower()\n",
    "        human_readable = human_readable.replace(',','')\n",
    "        machine_readable = dt.isoformat()\n",
    "        \n",
    "    except AttributeError as e:\n",
    "        return None, None, None\n",
    "\n",
    "    return human_readable, machine_readable, dt"
   ]
  },
  {
   "cell_type": "code",
   "execution_count": 4,
   "metadata": {},
   "outputs": [],
   "source": [
    "def load_datasett(m):\n",
    "    \"\"\"\n",
    "        Loads a dataset with m examples and vocabularies\n",
    "        :m: the number of examples to generate\n",
    "    \"\"\"\n",
    "    \n",
    "    human_vocab = set()\n",
    "    machine_vocab = set()\n",
    "    dataset = []\n",
    "    Tx = 30\n",
    "    \n",
    "\n",
    "    for i in tqdm(range(m)):\n",
    "        h, m, _ = load_datee()\n",
    "        if h is not None:\n",
    "            dataset.append((h, m))\n",
    "            human_vocab.update(tuple(h))\n",
    "            machine_vocab.update(tuple(m))\n",
    "    \n",
    "    human = dict(zip(sorted(human_vocab) + ['<unk>', '<pad>'], \n",
    "                     list(range(len(human_vocab) + 2))))\n",
    "    inv_machine = dict(enumerate(sorted(machine_vocab)))\n",
    "    machine = {v:k for k,v in inv_machine.items()}\n",
    " \n",
    "    return dataset, human, machine, inv_machine\n"
   ]
  },
  {
   "cell_type": "code",
   "execution_count": 5,
   "metadata": {},
   "outputs": [
    {
     "name": "stderr",
     "output_type": "stream",
     "text": [
      "100%|██████████| 10000/10000 [00:00<00:00, 21318.00it/s]\n"
     ]
    }
   ],
   "source": [
    "m = 10000\n",
    "dataset, human_vocab, machine_vocab, inv_machine_vocab = load_datasett(m)"
   ]
  },
  {
   "cell_type": "code",
   "execution_count": 6,
   "metadata": {},
   "outputs": [
    {
     "data": {
      "text/plain": [
       "{' ': 0,\n",
       " '.': 1,\n",
       " '/': 2,\n",
       " '0': 3,\n",
       " '1': 4,\n",
       " '2': 5,\n",
       " '3': 6,\n",
       " '4': 7,\n",
       " '5': 8,\n",
       " '6': 9,\n",
       " '7': 10,\n",
       " '8': 11,\n",
       " '9': 12,\n",
       " 'a': 13,\n",
       " 'b': 14,\n",
       " 'c': 15,\n",
       " 'd': 16,\n",
       " 'e': 17,\n",
       " 'f': 18,\n",
       " 'g': 19,\n",
       " 'h': 20,\n",
       " 'i': 21,\n",
       " 'j': 22,\n",
       " 'l': 23,\n",
       " 'm': 24,\n",
       " 'n': 25,\n",
       " 'o': 26,\n",
       " 'p': 27,\n",
       " 'r': 28,\n",
       " 's': 29,\n",
       " 't': 30,\n",
       " 'u': 31,\n",
       " 'v': 32,\n",
       " 'w': 33,\n",
       " 'y': 34,\n",
       " '<unk>': 35,\n",
       " '<pad>': 36}"
      ]
     },
     "execution_count": 6,
     "metadata": {},
     "output_type": "execute_result"
    }
   ],
   "source": [
    "human_vocab"
   ]
  },
  {
   "cell_type": "code",
   "execution_count": 7,
   "metadata": {},
   "outputs": [
    {
     "data": {
      "text/plain": [
       "{'-': 0,\n",
       " '0': 1,\n",
       " '1': 2,\n",
       " '2': 3,\n",
       " '3': 4,\n",
       " '4': 5,\n",
       " '5': 6,\n",
       " '6': 7,\n",
       " '7': 8,\n",
       " '8': 9,\n",
       " '9': 10}"
      ]
     },
     "execution_count": 7,
     "metadata": {},
     "output_type": "execute_result"
    }
   ],
   "source": [
    "machine_vocab"
   ]
  },
  {
   "cell_type": "code",
   "execution_count": 8,
   "metadata": {},
   "outputs": [
    {
     "data": {
      "text/plain": [
       "{0: '-',\n",
       " 1: '0',\n",
       " 2: '1',\n",
       " 3: '2',\n",
       " 4: '3',\n",
       " 5: '4',\n",
       " 6: '5',\n",
       " 7: '6',\n",
       " 8: '7',\n",
       " 9: '8',\n",
       " 10: '9'}"
      ]
     },
     "execution_count": 8,
     "metadata": {},
     "output_type": "execute_result"
    }
   ],
   "source": [
    "inv_machine_vocab"
   ]
  },
  {
   "cell_type": "code",
   "execution_count": 9,
   "metadata": {},
   "outputs": [
    {
     "data": {
      "text/plain": [
       "[('9 may 1998', '1998-05-09'),\n",
       " ('10.11.19', '2019-11-10'),\n",
       " ('9/10/70', '1970-09-10'),\n",
       " ('saturday april 28 1990', '1990-04-28'),\n",
       " ('thursday january 26 1995', '1995-01-26'),\n",
       " ('monday march 7 1983', '1983-03-07'),\n",
       " ('sunday may 22 1988', '1988-05-22'),\n",
       " ('08 jul 2008', '2008-07-08'),\n",
       " ('8 sep 1999', '1999-09-08'),\n",
       " ('thursday january 1 1981', '1981-01-01')]"
      ]
     },
     "execution_count": 9,
     "metadata": {},
     "output_type": "execute_result"
    }
   ],
   "source": [
    "dataset[:10]"
   ]
  },
  {
   "cell_type": "code",
   "execution_count": 10,
   "metadata": {},
   "outputs": [
    {
     "data": {
      "text/plain": [
       "10000"
      ]
     },
     "execution_count": 10,
     "metadata": {},
     "output_type": "execute_result"
    }
   ],
   "source": [
    "len(dataset)"
   ]
  },
  {
   "cell_type": "code",
   "execution_count": 11,
   "metadata": {},
   "outputs": [
    {
     "data": {
      "text/plain": [
       "('oct 15 1980', '1980-10-15')"
      ]
     },
     "execution_count": 11,
     "metadata": {},
     "output_type": "execute_result"
    }
   ],
   "source": [
    "dataset[1000]"
   ]
  },
  {
   "cell_type": "markdown",
   "metadata": {},
   "source": [
    "You've loaded:\n",
    "- `dataset`: a list of tuples of (human readable date, machine readable date).\n",
    "- `human_vocab`: a python dictionary mapping all characters used in the human readable dates to an integer-valued index.\n",
    "- `machine_vocab`: a python dictionary mapping all characters used in machine readable dates to an integer-valued index. \n",
    "    - **Note**: These indices are not necessarily consistent with `human_vocab`. \n",
    "- `inv_machine_vocab`: the inverse dictionary of `machine_vocab`, mapping from indices back to characters. \n",
    "\n",
    "Let's preprocess the data and map the raw text data into the index values. \n",
    "- We will set Tx=30 \n",
    "    - We assume Tx is the maximum length of the human readable date.\n",
    "    - If we get a longer input, we would have to truncate it.\n",
    "- We will set Ty=10\n",
    "    - \"YYYY-MM-DD\" is 10 characters long."
   ]
  },
  {
   "cell_type": "code",
   "execution_count": 12,
   "metadata": {},
   "outputs": [
    {
     "name": "stdout",
     "output_type": "stream",
     "text": [
      "X.shape: (10000, 30)\n",
      "Y.shape: (10000, 10)\n",
      "Xoh.shape: (10000, 30, 37)\n",
      "Yoh.shape: (10000, 10, 11)\n"
     ]
    }
   ],
   "source": [
    "Tx = 30\n",
    "Ty = 10\n",
    "X, Y, Xoh, Yoh = preprocess_data(dataset, human_vocab, machine_vocab, Tx, Ty)\n",
    "\n",
    "print(\"X.shape:\", X.shape)\n",
    "print(\"Y.shape:\", Y.shape)\n",
    "print(\"Xoh.shape:\", Xoh.shape)\n",
    "print(\"Yoh.shape:\", Yoh.shape)"
   ]
  },
  {
   "cell_type": "code",
   "execution_count": 13,
   "metadata": {},
   "outputs": [
    {
     "data": {
      "text/plain": [
       "numpy.ndarray"
      ]
     },
     "execution_count": 13,
     "metadata": {},
     "output_type": "execute_result"
    }
   ],
   "source": [
    "type(X)"
   ]
  },
  {
   "cell_type": "code",
   "execution_count": 24,
   "metadata": {},
   "outputs": [
    {
     "data": {
      "text/plain": [
       "('10.11.19', '2019-11-10')"
      ]
     },
     "execution_count": 24,
     "metadata": {},
     "output_type": "execute_result"
    }
   ],
   "source": [
    "dataset[1]"
   ]
  },
  {
   "cell_type": "code",
   "execution_count": 15,
   "metadata": {},
   "outputs": [
    {
     "data": {
      "text/plain": [
       "(10000, 10)"
      ]
     },
     "execution_count": 15,
     "metadata": {},
     "output_type": "execute_result"
    }
   ],
   "source": [
    "Y.shape"
   ]
  },
  {
   "cell_type": "code",
   "execution_count": 14,
   "metadata": {},
   "outputs": [
    {
     "data": {
      "text/plain": [
       "array([12,  0, 24, 13, 34,  0,  4, 12, 12, 11, 36, 36, 36, 36, 36, 36, 36,\n",
       "       36, 36, 36, 36, 36, 36, 36, 36, 36, 36, 36, 36, 36])"
      ]
     },
     "execution_count": 14,
     "metadata": {},
     "output_type": "execute_result"
    }
   ],
   "source": [
    "X[0]"
   ]
  },
  {
   "cell_type": "code",
   "execution_count": 67,
   "metadata": {},
   "outputs": [
    {
     "data": {
      "text/plain": [
       "array([ 4,  3,  1,  4,  4,  1,  4, 12, 36, 36, 36, 36, 36, 36, 36, 36, 36,\n",
       "       36, 36, 36, 36, 36, 36, 36, 36, 36, 36, 36, 36, 36])"
      ]
     },
     "execution_count": 67,
     "metadata": {},
     "output_type": "execute_result"
    }
   ],
   "source": [
    "X[1]"
   ]
  },
  {
   "cell_type": "code",
   "execution_count": 68,
   "metadata": {},
   "outputs": [
    {
     "data": {
      "text/plain": [
       "(30,)"
      ]
     },
     "execution_count": 68,
     "metadata": {},
     "output_type": "execute_result"
    }
   ],
   "source": [
    "X[1].shape"
   ]
  },
  {
   "cell_type": "code",
   "execution_count": 26,
   "metadata": {},
   "outputs": [
    {
     "data": {
      "text/plain": [
       "array([[0., 0., 0., ..., 0., 0., 0.],\n",
       "       [0., 0., 0., ..., 0., 0., 0.],\n",
       "       [0., 1., 0., ..., 0., 0., 0.],\n",
       "       ...,\n",
       "       [0., 0., 0., ..., 0., 0., 1.],\n",
       "       [0., 0., 0., ..., 0., 0., 1.],\n",
       "       [0., 0., 0., ..., 0., 0., 1.]], dtype=float32)"
      ]
     },
     "execution_count": 26,
     "metadata": {},
     "output_type": "execute_result"
    }
   ],
   "source": [
    "Xoh[1]"
   ]
  },
  {
   "cell_type": "code",
   "execution_count": 69,
   "metadata": {},
   "outputs": [
    {
     "data": {
      "text/plain": [
       "(30, 37)"
      ]
     },
     "execution_count": 69,
     "metadata": {},
     "output_type": "execute_result"
    }
   ],
   "source": [
    "Xoh[1].shape"
   ]
  },
  {
   "cell_type": "markdown",
   "metadata": {},
   "source": [
    "You now have:\n",
    "- `X`: a processed version of the human readable dates in the training set.\n",
    "    - Each character in X is replaced by an index (integer) mapped to the character using `human_vocab`. \n",
    "    - Each date is padded to ensure a length of $T_x$ using a special character (< pad >). \n",
    "    - `X.shape = (m, Tx)` where m is the number of training examples in a batch.\n",
    "- `Y`: a processed version of the machine readable dates in the training set.\n",
    "    - Each character is replaced by the index (integer) it is mapped to in `machine_vocab`. \n",
    "    - `Y.shape = (m, Ty)`. \n",
    "- `Xoh`: one-hot version of `X`\n",
    "    - Each index in `X` is converted to the one-hot representation (if the index is 2, the one-hot version has the index position 2 set to 1, and the remaining positions are 0.\n",
    "    - `Xoh.shape = (m, Tx, len(human_vocab))`\n",
    "- `Yoh`: one-hot version of `Y`\n",
    "    - Each index in `Y` is converted to the one-hot representation. \n",
    "    - `Yoh.shape = (m, Tx, len(machine_vocab))`. \n",
    "    - `len(machine_vocab) = 11` since there are 10 numeric digits (0 to 9) and the `-` symbol."
   ]
  },
  {
   "cell_type": "markdown",
   "metadata": {},
   "source": [
    "* Let's also look at some examples of preprocessed training examples. \n",
    "* Feel free to play with `index` in the cell below to navigate the dataset and see how source/target dates are preprocessed. "
   ]
  },
  {
   "cell_type": "code",
   "execution_count": 27,
   "metadata": {},
   "outputs": [
    {
     "name": "stdout",
     "output_type": "stream",
     "text": [
      "Source date: 9 may 1998\n",
      "Target date: 1998-05-09\n",
      "\n",
      "Source after preprocessing (indices): [12  0 24 13 34  0  4 12 12 11 36 36 36 36 36 36 36 36 36 36 36 36 36 36\n",
      " 36 36 36 36 36 36]\n",
      "Target after preprocessing (indices): [ 2 10 10  9  0  1  6  0  1 10]\n",
      "\n",
      "Source after preprocessing (one-hot): [[0. 0. 0. ... 0. 0. 0.]\n",
      " [1. 0. 0. ... 0. 0. 0.]\n",
      " [0. 0. 0. ... 0. 0. 0.]\n",
      " ...\n",
      " [0. 0. 0. ... 0. 0. 1.]\n",
      " [0. 0. 0. ... 0. 0. 1.]\n",
      " [0. 0. 0. ... 0. 0. 1.]]\n",
      "Target after preprocessing (one-hot): [[0. 0. 1. 0. 0. 0. 0. 0. 0. 0. 0.]\n",
      " [0. 0. 0. 0. 0. 0. 0. 0. 0. 0. 1.]\n",
      " [0. 0. 0. 0. 0. 0. 0. 0. 0. 0. 1.]\n",
      " [0. 0. 0. 0. 0. 0. 0. 0. 0. 1. 0.]\n",
      " [1. 0. 0. 0. 0. 0. 0. 0. 0. 0. 0.]\n",
      " [0. 1. 0. 0. 0. 0. 0. 0. 0. 0. 0.]\n",
      " [0. 0. 0. 0. 0. 0. 1. 0. 0. 0. 0.]\n",
      " [1. 0. 0. 0. 0. 0. 0. 0. 0. 0. 0.]\n",
      " [0. 1. 0. 0. 0. 0. 0. 0. 0. 0. 0.]\n",
      " [0. 0. 0. 0. 0. 0. 0. 0. 0. 0. 1.]]\n"
     ]
    }
   ],
   "source": [
    "index = 0\n",
    "print(\"Source date:\", dataset[index][0])\n",
    "print(\"Target date:\", dataset[index][1])\n",
    "print()\n",
    "print(\"Source after preprocessing (indices):\", X[index])\n",
    "print(\"Target after preprocessing (indices):\", Y[index])\n",
    "print()\n",
    "print(\"Source after preprocessing (one-hot):\", Xoh[index])\n",
    "print(\"Target after preprocessing (one-hot):\", Yoh[index])"
   ]
  },
  {
   "cell_type": "markdown",
   "metadata": {},
   "source": [
    "## 2 - Neural machine translation with attention\n",
    "\n",
    "* If you had to translate a book's paragraph from French to English, you would not read the whole paragraph, then close the book and translate. \n",
    "* Even during the translation process, you would read/re-read and focus on the parts of the French paragraph corresponding to the parts of the English you are writing down. \n",
    "* The attention mechanism tells a Neural Machine Translation model where it should pay attention to at any step. \n",
    "\n",
    "\n",
    "### 2.1 - Attention mechanism\n",
    "\n",
    "In this part, you will implement the attention mechanism presented in the lecture videos. \n",
    "* Here is a figure to remind you how the model works. \n",
    "    * The diagram on the left shows the attention model. \n",
    "    * The diagram on the right shows what one \"attention\" step does to calculate the attention variables $\\alpha^{\\langle t, t' \\rangle}$.\n",
    "    * The attention variables $\\alpha^{\\langle t, t' \\rangle}$ are used to compute the context variable $context^{\\langle t \\rangle}$ for each timestep in the output ($t=1, \\ldots, T_y$). \n",
    "\n",
    "<table>\n",
    "<td> \n",
    "<img src=\"images/attn_model.png\" style=\"width:500;height:500px;\"> <br>\n",
    "</td> \n",
    "<td> \n",
    "<img src=\"images/attn_mechanism.png\" style=\"width:500;height:500px;\"> <br>\n",
    "</td> \n",
    "</table>\n",
    "<caption><center> **Figure 1**: Neural machine translation with attention</center></caption>\n"
   ]
  },
  {
   "cell_type": "markdown",
   "metadata": {},
   "source": [
    "Here are some properties of the model that you may notice: \n",
    "\n",
    "#### Pre-attention and Post-attention LSTMs on both sides of the attention mechanism\n",
    "- There are two separate LSTMs in this model (see diagram on the left): pre-attention and post-attention LSTMs.\n",
    "- *Pre-attention* Bi-LSTM is the one at the bottom of the picture is a Bi-directional LSTM and comes *before* the attention mechanism.\n",
    "    - The attention mechanism is shown in the middle of the left-hand diagram.\n",
    "    - The pre-attention Bi-LSTM goes through $T_x$ time steps\n",
    "- *Post-attention* LSTM: at the top of the diagram comes *after* the attention mechanism. \n",
    "    - The post-attention LSTM goes through $T_y$ time steps. \n",
    "\n",
    "- The post-attention LSTM passes the hidden state $s^{\\langle t \\rangle}$ and cell state $c^{\\langle t \\rangle}$ from one time step to the next. "
   ]
  },
  {
   "cell_type": "markdown",
   "metadata": {},
   "source": [
    "#### An LSTM has both a hidden state and cell state\n",
    "* In the lecture videos, we were using only a basic RNN for the post-attention sequence model\n",
    "    * This means that the state captured by the RNN was outputting only the hidden state $s^{\\langle t\\rangle}$. \n",
    "* In this assignment, we are using an LSTM instead of a basic RNN.\n",
    "    * So the LSTM has both the hidden state $s^{\\langle t\\rangle}$ and the cell state $c^{\\langle t\\rangle}$. "
   ]
  },
  {
   "cell_type": "markdown",
   "metadata": {},
   "source": [
    "#### Each time step does not use predictions from the previous time step\n",
    "* Unlike previous text generation examples earlier in the course, in this model, the post-attention LSTM at time $t$ does not take the previous time step's prediction $y^{\\langle t-1 \\rangle}$ as input.\n",
    "* The post-attention LSTM at time 't' only takes the hidden state $s^{\\langle t\\rangle}$ and cell state $c^{\\langle t\\rangle}$ as input. \n",
    "* We have designed the model this way because unlike language generation (where adjacent characters are highly correlated) there isn't as strong a dependency between the previous character and the next character in a YYYY-MM-DD date."
   ]
  },
  {
   "cell_type": "markdown",
   "metadata": {},
   "source": [
    "#### Concatenation of hidden states from the forward and backward pre-attention LSTMs\n",
    "- $\\overrightarrow{a}^{\\langle t \\rangle}$: hidden state of the forward-direction, pre-attention LSTM.\n",
    "- $\\overleftarrow{a}^{\\langle t \\rangle}$: hidden state of the backward-direction, pre-attention LSTM.\n",
    "- $a^{\\langle t \\rangle} = [\\overrightarrow{a}^{\\langle t \\rangle}, \\overleftarrow{a}^{\\langle t \\rangle}]$: the concatenation of the activations of both the forward-direction $\\overrightarrow{a}^{\\langle t \\rangle}$ and backward-directions $\\overleftarrow{a}^{\\langle t \\rangle}$ of the pre-attention Bi-LSTM. "
   ]
  },
  {
   "cell_type": "markdown",
   "metadata": {},
   "source": [
    "#### Computing \"energies\" $e^{\\langle t, t' \\rangle}$ as a function of $s^{\\langle t-1 \\rangle}$ and $a^{\\langle t' \\rangle}$\n",
    "- Recall in the lesson videos \"Attention Model\", at time 6:45 to 8:16, the definition of \"e\" as a function of $s^{\\langle t-1 \\rangle}$ and $a^{\\langle t \\rangle}$.\n",
    "    - \"e\" is called the \"energies\" variable.\n",
    "    - $s^{\\langle t-1 \\rangle}$ is the hidden state of the post-attention LSTM\n",
    "    - $a^{\\langle t' \\rangle}$ is the hidden state of the pre-attention LSTM.\n",
    "    - $s^{\\langle t-1 \\rangle}$ and $a^{\\langle t \\rangle}$ are fed into a simple neural network, which learns the function to output $e^{\\langle t, t' \\rangle}$.\n",
    "    - $e^{\\langle t, t' \\rangle}$ is then used when computing the attention $a^{\\langle t, t' \\rangle}$ that $y^{\\langle t \\rangle}$ should pay to $a^{\\langle t' \\rangle}$."
   ]
  },
  {
   "cell_type": "markdown",
   "metadata": {},
   "source": [
    "- The diagram on the right of figure 1 uses a `RepeatVector` node to copy $s^{\\langle t-1 \\rangle}$'s value $T_x$ times.\n",
    "- Then it uses `Concatenation` to concatenate $s^{\\langle t-1 \\rangle}$ and $a^{\\langle t \\rangle}$.\n",
    "- The concatenation of $s^{\\langle t-1 \\rangle}$ and $a^{\\langle t \\rangle}$ is fed into a \"Dense\" layer, which computes $e^{\\langle t, t' \\rangle}$. \n",
    "- $e^{\\langle t, t' \\rangle}$ is then passed through a softmax to compute $\\alpha^{\\langle t, t' \\rangle}$.\n",
    "- Note that the diagram doesn't explicitly show variable $e^{\\langle t, t' \\rangle}$, but $e^{\\langle t, t' \\rangle}$ is above the Dense layer and below the Softmax layer in the diagram in the right half of figure 1.\n",
    "- We'll explain how to use `RepeatVector` and `Concatenation` in Keras below. "
   ]
  },
  {
   "cell_type": "markdown",
   "metadata": {},
   "source": [
    "### Implementation Details\n",
    "   \n",
    "Let's implement this neural translator. You will start by implementing two functions: `one_step_attention()` and `model()`.\n",
    "\n",
    "#### one_step_attention\n",
    "* The inputs to the one_step_attention at time step $t$ are:\n",
    "    - $[a^{<1>},a^{<2>}, ..., a^{<T_x>}]$: all hidden states of the pre-attention Bi-LSTM.\n",
    "    - $s^{<t-1>}$: the previous hidden state of the post-attention LSTM \n",
    "* one_step_attention computes:\n",
    "    - $[\\alpha^{<t,1>},\\alpha^{<t,2>}, ..., \\alpha^{<t,T_x>}]$: the attention weights\n",
    "    - $context^{ \\langle t \\rangle }$: the context vector:\n",
    "    \n",
    "$$context^{<t>} = \\sum_{t' = 1}^{T_x} \\alpha^{<t,t'>}a^{<t'>}\\tag{1}$$ \n",
    "\n",
    "##### Clarifying 'context' and 'c'\n",
    "- In the lecture videos, the context was denoted $c^{\\langle t \\rangle}$\n",
    "- In the assignment, we are calling the context $context^{\\langle t \\rangle}$.\n",
    "    - This is to avoid confusion with the post-attention LSTM's internal memory cell variable, which is also denoted $c^{\\langle t \\rangle}$."
   ]
  },
  {
   "cell_type": "markdown",
   "metadata": {},
   "source": [
    "#### Implement `one_step_attention`\n",
    "\n",
    "**Exercise**: Implement `one_step_attention()`. \n",
    "\n",
    "* The function `model()` will call the layers in `one_step_attention()` $T_y$ using a for-loop.\n",
    "* It is important that all $T_y$ copies have the same weights. \n",
    "    * It should not reinitialize the weights every time. \n",
    "    * In other words, all $T_y$ steps should have shared weights. \n",
    "* Here's how you can implement layers with shareable weights in Keras:\n",
    "    1. Define the layer objects in a variable scope that is outside of the `one_step_attention` function.  For example, defining the objects as global variables would work.\n",
    "        - Note that defining these variables inside the scope of the function `model` would technically work, since `model` will then call the `one_step_attention` function.  For the purposes of making grading and troubleshooting easier, we are defining these as global variables.  Note that the automatic grader will expect these to be global variables as well.\n",
    "    2. Call these objects when propagating the input.\n",
    "* We have defined the layers you need as global variables. \n",
    "    * Please run the following cells to create them. \n",
    "    * Please note that the automatic grader expects these global variables with the given variable names.  For grading purposes, please do not rename the global variables.\n",
    "* Please check the Keras documentation to learn more about these layers.  The layers are functions.  Below are examples of how to call these functions.\n",
    "    * [RepeatVector()](https://keras.io/layers/core/#repeatvector)\n",
    "```Python\n",
    "var_repeated = repeat_layer(var1)\n",
    "```\n",
    "    * [Concatenate()](https://keras.io/layers/merge/#concatenate)   \n",
    "```Python\n",
    "concatenated_vars = concatenate_layer([var1,var2,var3])\n",
    "```\n",
    "    * [Dense()](https://keras.io/layers/core/#dense)  \n",
    "```Python\n",
    "var_out = dense_layer(var_in)\n",
    "```\n",
    "    * [Activation()](https://keras.io/layers/core/#activation)  \n",
    "```Python\n",
    "activation = activation_layer(var_in)  \n",
    "```\n",
    "    * [Dot()](https://keras.io/layers/merge/#dot)  \n",
    "```Python\n",
    "dot_product = dot_layer([var1,var2])\n",
    "```"
   ]
  },
  {
   "cell_type": "code",
   "execution_count": 28,
   "metadata": {},
   "outputs": [],
   "source": [
    "# Defined shared layers as global variables\n",
    "repeator = RepeatVector(Tx) #<Gema> Repeats the input Tx times.\n",
    "concatenator = Concatenate(axis=-1) #<Gema> Layer that concatenates a list of inputs. axis: Axis along which to concatenate, in this case, on the last axis.\n",
    "densor1 = Dense(10, activation = \"tanh\") #<Gema> Just your regular densely-connected NN layer.\n",
    "#<Gema> Dense implements the operation: output = activation(dot(input, kernel) + bias) where kernel is a weights matrix created by the layer\n",
    "densor2 = Dense(1, activation = \"relu\")\n",
    "activator = Activation(softmax, name='attention_weights') # We are using a custom softmax(axis = 1) loaded in this notebook\n",
    "#<Gema> Applies an activation function to an output.\n",
    "dotor = Dot(axes = 1) \n",
    "#<Gema> Layer that computes a dot product between samples in two tensors."
   ]
  },
  {
   "cell_type": "code",
   "execution_count": 52,
   "metadata": {},
   "outputs": [
    {
     "data": {
      "text/plain": [
       "<keras.layers.core.RepeatVector at 0x207499e5908>"
      ]
     },
     "execution_count": 52,
     "metadata": {},
     "output_type": "execute_result"
    }
   ],
   "source": [
    "repeator"
   ]
  },
  {
   "cell_type": "code",
   "execution_count": 53,
   "metadata": {},
   "outputs": [
    {
     "data": {
      "text/plain": [
       "<keras.layers.merge.Concatenate at 0x20749614dc8>"
      ]
     },
     "execution_count": 53,
     "metadata": {},
     "output_type": "execute_result"
    }
   ],
   "source": [
    "concatenator"
   ]
  },
  {
   "cell_type": "code",
   "execution_count": 54,
   "metadata": {},
   "outputs": [
    {
     "data": {
      "text/plain": [
       "<keras.layers.core.Dense at 0x20749614488>"
      ]
     },
     "execution_count": 54,
     "metadata": {},
     "output_type": "execute_result"
    }
   ],
   "source": [
    "densor1"
   ]
  },
  {
   "cell_type": "code",
   "execution_count": 55,
   "metadata": {},
   "outputs": [
    {
     "data": {
      "text/plain": [
       "<keras.layers.core.Dense at 0x207499c61c8>"
      ]
     },
     "execution_count": 55,
     "metadata": {},
     "output_type": "execute_result"
    }
   ],
   "source": [
    "densor2"
   ]
  },
  {
   "cell_type": "code",
   "execution_count": 56,
   "metadata": {},
   "outputs": [
    {
     "data": {
      "text/plain": [
       "<keras.layers.core.Activation at 0x207499c6648>"
      ]
     },
     "execution_count": 56,
     "metadata": {},
     "output_type": "execute_result"
    }
   ],
   "source": [
    "activator"
   ]
  },
  {
   "cell_type": "code",
   "execution_count": 57,
   "metadata": {},
   "outputs": [
    {
     "data": {
      "text/plain": [
       "<keras.layers.merge.Dot at 0x207499c6548>"
      ]
     },
     "execution_count": 57,
     "metadata": {},
     "output_type": "execute_result"
    }
   ],
   "source": [
    "dotor"
   ]
  },
  {
   "cell_type": "code",
   "execution_count": 74,
   "metadata": {},
   "outputs": [],
   "source": [
    "def one_step_attention(a, s_prev):\n",
    "    \"\"\"\n",
    "    Performs one step of attention: Outputs a context vector computed as a dot product of the attention weights\n",
    "    \"alphas\" and the hidden states \"a\" of the Bi-LSTM.\n",
    "    \n",
    "    Arguments:\n",
    "    a -- hidden state output of the Bi-LSTM, numpy-array of shape (m, Tx, 2*n_a)\n",
    "    s_prev -- previous hidden state of the (post-attention) LSTM, numpy-array of shape (m, n_s)\n",
    "    \n",
    "    Returns:\n",
    "    context -- context vector, input of the next (post-attetion) LSTM cell\n",
    "    \"\"\"\n",
    "    \n",
    "    ### START CODE HERE ###\n",
    "    # Use repeator to repeat s_prev to be of shape (m, Tx, n_s) so that you can concatenate it with all hidden states \"a\" (≈ 1 line)\n",
    "    s_prev = repeator(s_prev)\n",
    "    print(\"s-prev \",s_prev.shape)\n",
    "    \n",
    "    # Use concatenator to concatenate a and s_prev on the last axis (≈ 1 line)\n",
    "    concat = concatenator([a,s_prev])\n",
    "    print(\"concat \",concat.shape)\n",
    "    \n",
    "    # Use densor1 to propagate concat through a small fully-connected neural network to compute the \"intermediate energies\" variable e. (≈1 lines)\n",
    "    e = densor1(concat)\n",
    "    print(\"e \",e.shape)\n",
    "    \n",
    "    # Use densor2 to propagate e through a small fully-connected neural network to compute the \"energies\" variable energies. (≈1 lines)\n",
    "    energies = densor2(e)\n",
    "    print(\"energies \",energies.shape)\n",
    "    \n",
    "    # Use \"activator\" on \"energies\" to compute the attention weights \"alphas\" (≈ 1 line)\n",
    "    alphas = activator(energies)\n",
    "    print(\"alphas \",alphas.shape)\n",
    "    \n",
    "    # Use dotor together with \"alphas\" and \"a\" to compute the context vector to be given to the next (post-attention) LSTM-cell (≈ 1 line)\n",
    "    context = dotor([alphas,a])\n",
    "    print(\"context \",context.shape)\n",
    "    print()\n",
    "    \n",
    "    ### END CODE HERE ###\n",
    "    \n",
    "    return context"
   ]
  },
  {
   "cell_type": "markdown",
   "metadata": {},
   "source": [
    "You will be able to check the expected output of `one_step_attention()` after you've coded the `model()` function."
   ]
  },
  {
   "cell_type": "markdown",
   "metadata": {},
   "source": [
    "#### model\n",
    "* `model` first runs the input through a Bi-LSTM to get $[a^{<1>},a^{<2>}, ..., a^{<T_x>}]$. \n",
    "* Then, `model` calls `one_step_attention()` $T_y$ times using a `for` loop.  At each iteration of this loop:\n",
    "    - It gives the computed context vector $context^{<t>}$ to the post-attention LSTM.\n",
    "    - It runs the output of the post-attention LSTM through a dense layer with softmax activation.\n",
    "    - The softmax generates a prediction $\\hat{y}^{<t>}$. "
   ]
  },
  {
   "cell_type": "markdown",
   "metadata": {},
   "source": [
    "**Exercise**: Implement `model()` as explained in figure 1 and the text above. Again, we have defined global layers that will share weights to be used in `model()`."
   ]
  },
  {
   "cell_type": "code",
   "execution_count": 30,
   "metadata": {},
   "outputs": [],
   "source": [
    "n_a = 32 # number of units for the pre-attention, bi-directional LSTM's hidden state 'a'\n",
    "n_s = 64 # number of units for the post-attention LSTM's hidden state \"s\"\n",
    "\n",
    "# Please note, this is the post attention LSTM cell.  \n",
    "# For the purposes of passing the automatic grader\n",
    "# please do not modify this global variable.  This will be corrected once the automatic grader is also updated.\n",
    "post_activation_LSTM_cell = LSTM(n_s, return_state = True) # post-attention LSTM \n",
    "output_layer = Dense(len(machine_vocab), activation=softmax)"
   ]
  },
  {
   "cell_type": "code",
   "execution_count": 60,
   "metadata": {},
   "outputs": [
    {
     "data": {
      "text/plain": [
       "<keras.layers.recurrent.LSTM at 0x207499e58c8>"
      ]
     },
     "execution_count": 60,
     "metadata": {},
     "output_type": "execute_result"
    }
   ],
   "source": [
    "post_activation_LSTM_cell"
   ]
  },
  {
   "cell_type": "code",
   "execution_count": 61,
   "metadata": {},
   "outputs": [
    {
     "data": {
      "text/plain": [
       "<keras.layers.core.Dense at 0x207499e5808>"
      ]
     },
     "execution_count": 61,
     "metadata": {},
     "output_type": "execute_result"
    }
   ],
   "source": [
    "output_layer"
   ]
  },
  {
   "cell_type": "markdown",
   "metadata": {},
   "source": [
    "Now you can use these layers $T_y$ times in a `for` loop to generate the outputs, and their parameters will not be reinitialized. You will have to carry out the following steps: \n",
    "\n",
    "1. Propagate the input `X` into a bi-directional LSTM.\n",
    "    * [Bidirectional](https://keras.io/layers/wrappers/#bidirectional) \n",
    "    * [LSTM](https://keras.io/layers/recurrent/#lstm)\n",
    "    * Remember that we want the LSTM to return a full sequence instead of just the last hidden state.  \n",
    "    \n",
    "Sample code:\n",
    "\n",
    "```Python\n",
    "sequence_of_hidden_states = Bidirectional(LSTM(units=..., return_sequences=...))(the_input_X)\n",
    "```\n",
    "    \n",
    "2. Iterate for $t = 0, \\cdots, T_y-1$: \n",
    "    1. Call `one_step_attention()`, passing in the sequence of hidden states $[a^{\\langle 1 \\rangle},a^{\\langle 2 \\rangle}, ..., a^{ \\langle T_x \\rangle}]$ from the pre-attention bi-directional LSTM, and the previous hidden state $s^{<t-1>}$ from the post-attention LSTM to calculate the context vector $context^{<t>}$.\n",
    "    2. Give $context^{<t>}$ to the post-attention LSTM cell. \n",
    "        - Remember to pass in the previous hidden-state $s^{\\langle t-1\\rangle}$ and cell-states $c^{\\langle t-1\\rangle}$ of this LSTM \n",
    "        * This outputs the new hidden state $s^{<t>}$ and the new cell state $c^{<t>}$.  \n",
    "\n",
    "        Sample code:\n",
    "        ```Python\n",
    "        next_hidden_state, _ , next_cell_state = \n",
    "            post_activation_LSTM_cell(inputs=..., initial_state=[prev_hidden_state, prev_cell_state])\n",
    "        ```   \n",
    "        Please note that the layer is actually the \"post attention LSTM cell\".  For the purposes of passing the automatic grader, please do not modify the naming of this global variable.  This will be fixed when we deploy updates to the automatic grader.\n",
    "    3. Apply a dense, softmax layer to $s^{<t>}$, get the output.  \n",
    "        Sample code:\n",
    "        ```Python\n",
    "        output = output_layer(inputs=...)\n",
    "        ```\n",
    "    4. Save the output by adding it to the list of outputs.\n",
    "\n",
    "3. Create your Keras model instance.\n",
    "    * It should have three inputs:\n",
    "        * `X`, the one-hot encoded inputs to the model, of shape ($T_{x}, humanVocabSize)$\n",
    "        * $s^{\\langle 0 \\rangle}$, the initial hidden state of the post-attention LSTM\n",
    "        * $c^{\\langle 0 \\rangle}$), the initial cell state of the post-attention LSTM\n",
    "    * The output is the list of outputs.  \n",
    "    Sample code\n",
    "    ```Python\n",
    "    model = Model(inputs=[...,...,...], outputs=...)\n",
    "    ```"
   ]
  },
  {
   "cell_type": "code",
   "execution_count": 86,
   "metadata": {},
   "outputs": [],
   "source": [
    "def model(Tx, Ty, n_a, n_s, human_vocab_size, machine_vocab_size):\n",
    "    \"\"\"\n",
    "    Arguments:\n",
    "    Tx -- length of the input sequence\n",
    "    Ty -- length of the output sequence\n",
    "    n_a -- hidden state size of the Bi-LSTM\n",
    "    n_s -- hidden state size of the post-attention LSTM\n",
    "    human_vocab_size -- size of the python dictionary \"human_vocab\"\n",
    "    machine_vocab_size -- size of the python dictionary \"machine_vocab\"\n",
    "\n",
    "    Returns:\n",
    "    model -- Keras model instance\n",
    "    \"\"\"\n",
    "    \n",
    "    # Define the inputs of your model with a shape (Tx,)\n",
    "    # Define s0 and c0, initial hidden state for the decoder LSTM of shape (n_s,)\n",
    "    X = Input(shape=(Tx, human_vocab_size))\n",
    "    s0 = Input(shape=(n_s,), name='s0')\n",
    "    c0 = Input(shape=(n_s,), name='c0')\n",
    "    s = s0\n",
    "    c = c0\n",
    "    \n",
    "    # Initialize empty list of outputs\n",
    "    outputs = []\n",
    "    \n",
    "    ### START CODE HERE ###\n",
    "    \n",
    "    # Step 1: Define your pre-attention Bi-LSTM. Remember to use return_sequences=True. (≈ 1 line)\n",
    "    a = Bidirectional(LSTM(n_a, return_sequences=True))(X)\n",
    "    print(\"a \",a.shape)\n",
    "    print(\"s \",s.shape)\n",
    "    print()\n",
    "    # Step 2: Iterate for Ty steps\n",
    "    for t in range(Ty):\n",
    "    \n",
    "        # Step 2.A: Perform one step of the attention mechanism to get back the context vector at step t (≈ 1 line)\n",
    "        context = one_step_attention(a, s)\n",
    "        \n",
    "        # Step 2.B: Apply the post-attention LSTM cell to the \"context\" vector.\n",
    "        # Don't forget to pass: initial_state = [hidden state, cell state] (≈ 1 line)\n",
    "        s, _, c = post_activation_LSTM_cell(context,initial_state=[s, c])\n",
    "        print(\"s \",s.shape)\n",
    "        \n",
    "        # Step 2.C: Apply Dense layer to the hidden state output of the post-attention LSTM (≈ 1 line)\n",
    "        out = output_layer(s)\n",
    "        print(\"out \",out.shape)\n",
    "        print()\n",
    "        # Step 2.D: Append \"out\" to the \"outputs\" list (≈ 1 line)\n",
    "        outputs.append(out)\n",
    "    \n",
    "    # Step 3: Create model instance taking three inputs and returning the list of outputs. (≈ 1 line)\n",
    "    model = Model(inputs=[X, s0, c0], outputs=outputs)\n",
    "    \n",
    "    ### END CODE HERE ###\n",
    "    \n",
    "    return model"
   ]
  },
  {
   "cell_type": "code",
   "execution_count": 87,
   "metadata": {},
   "outputs": [
    {
     "name": "stdout",
     "output_type": "stream",
     "text": [
      "Tx  30\n",
      "Ty  10\n",
      "n_a  32\n",
      "n_s  64\n",
      "human_vocab_size  37\n",
      "machine_vocab_size  11\n"
     ]
    }
   ],
   "source": [
    "print(\"Tx \",Tx)\n",
    "print(\"Ty \",Ty)\n",
    "print(\"n_a \",n_a)\n",
    "print(\"n_s \",n_s)\n",
    "print(\"human_vocab_size \",len(human_vocab))\n",
    "print(\"machine_vocab_size \",len(machine_vocab))"
   ]
  },
  {
   "cell_type": "markdown",
   "metadata": {},
   "source": [
    "Run the following cell to create your model."
   ]
  },
  {
   "cell_type": "code",
   "execution_count": 88,
   "metadata": {},
   "outputs": [
    {
     "name": "stdout",
     "output_type": "stream",
     "text": [
      "a  (?, 30, 64)\n",
      "s  (?, 64)\n",
      "\n",
      "s-prev  (?, 30, 64)\n",
      "concat  (?, 30, 128)\n",
      "e  (?, 30, 10)\n",
      "energies  (?, 30, 1)\n",
      "alphas  (?, 30, 1)\n",
      "context  (?, 1, 64)\n",
      "\n",
      "s  (?, 64)\n",
      "out  (?, 11)\n",
      "\n",
      "s-prev  (?, 30, 64)\n",
      "concat  (?, 30, 128)\n",
      "e  (?, 30, 10)\n",
      "energies  (?, 30, 1)\n",
      "alphas  (?, 30, 1)\n",
      "context  (?, 1, 64)\n",
      "\n",
      "s  (?, 64)\n",
      "out  (?, 11)\n",
      "\n",
      "s-prev  (?, 30, 64)\n",
      "concat  (?, 30, 128)\n",
      "e  (?, 30, 10)\n",
      "energies  (?, 30, 1)\n",
      "alphas  (?, 30, 1)\n",
      "context  (?, 1, 64)\n",
      "\n",
      "s  (?, 64)\n",
      "out  (?, 11)\n",
      "\n",
      "s-prev  (?, 30, 64)\n",
      "concat  (?, 30, 128)\n",
      "e  (?, 30, 10)\n",
      "energies  (?, 30, 1)\n",
      "alphas  (?, 30, 1)\n",
      "context  (?, 1, 64)\n",
      "\n",
      "s  (?, 64)\n",
      "out  (?, 11)\n",
      "\n",
      "s-prev  (?, 30, 64)\n",
      "concat  (?, 30, 128)\n",
      "e  (?, 30, 10)\n",
      "energies  (?, 30, 1)\n",
      "alphas  (?, 30, 1)\n",
      "context  (?, 1, 64)\n",
      "\n",
      "s  (?, 64)\n",
      "out  (?, 11)\n",
      "\n",
      "s-prev  (?, 30, 64)\n",
      "concat  (?, 30, 128)\n",
      "e  (?, 30, 10)\n",
      "energies  (?, 30, 1)\n",
      "alphas  (?, 30, 1)\n",
      "context  (?, 1, 64)\n",
      "\n",
      "s  (?, 64)\n",
      "out  (?, 11)\n",
      "\n",
      "s-prev  (?, 30, 64)\n",
      "concat  (?, 30, 128)\n",
      "e  (?, 30, 10)\n",
      "energies  (?, 30, 1)\n",
      "alphas  (?, 30, 1)\n",
      "context  (?, 1, 64)\n",
      "\n",
      "s  (?, 64)\n",
      "out  (?, 11)\n",
      "\n",
      "s-prev  (?, 30, 64)\n",
      "concat  (?, 30, 128)\n",
      "e  (?, 30, 10)\n",
      "energies  (?, 30, 1)\n",
      "alphas  (?, 30, 1)\n",
      "context  (?, 1, 64)\n",
      "\n",
      "s  (?, 64)\n",
      "out  (?, 11)\n",
      "\n",
      "s-prev  (?, 30, 64)\n",
      "concat  (?, 30, 128)\n",
      "e  (?, 30, 10)\n",
      "energies  (?, 30, 1)\n",
      "alphas  (?, 30, 1)\n",
      "context  (?, 1, 64)\n",
      "\n",
      "s  (?, 64)\n",
      "out  (?, 11)\n",
      "\n",
      "s-prev  (?, 30, 64)\n",
      "concat  (?, 30, 128)\n",
      "e  (?, 30, 10)\n",
      "energies  (?, 30, 1)\n",
      "alphas  (?, 30, 1)\n",
      "context  (?, 1, 64)\n",
      "\n",
      "s  (?, 64)\n",
      "out  (?, 11)\n",
      "\n"
     ]
    }
   ],
   "source": [
    "model = model(Tx, Ty, n_a, n_s, len(human_vocab), len(machine_vocab))"
   ]
  },
  {
   "cell_type": "markdown",
   "metadata": {},
   "source": [
    "#### Troubleshooting Note\n",
    "* If you are getting repeated errors after an initially incorrect implementation of \"model\", but believe that you have corrected the error, you may still see error messages when building your model.  \n",
    "* A solution is to save and restart your kernel (or shutdown then restart your notebook), and re-run the cells."
   ]
  },
  {
   "cell_type": "markdown",
   "metadata": {},
   "source": [
    "Let's get a summary of the model to check if it matches the expected output."
   ]
  },
  {
   "cell_type": "code",
   "execution_count": 33,
   "metadata": {},
   "outputs": [
    {
     "name": "stdout",
     "output_type": "stream",
     "text": [
      "Model: \"model_1\"\n",
      "__________________________________________________________________________________________________\n",
      "Layer (type)                    Output Shape         Param #     Connected to                     \n",
      "==================================================================================================\n",
      "input_1 (InputLayer)            (None, 30, 37)       0                                            \n",
      "__________________________________________________________________________________________________\n",
      "s0 (InputLayer)                 (None, 64)           0                                            \n",
      "__________________________________________________________________________________________________\n",
      "bidirectional_1 (Bidirectional) (None, 30, 64)       17920       input_1[0][0]                    \n",
      "__________________________________________________________________________________________________\n",
      "repeat_vector_1 (RepeatVector)  (None, 30, 64)       0           s0[0][0]                         \n",
      "                                                                 lstm_1[0][0]                     \n",
      "                                                                 lstm_1[1][0]                     \n",
      "                                                                 lstm_1[2][0]                     \n",
      "                                                                 lstm_1[3][0]                     \n",
      "                                                                 lstm_1[4][0]                     \n",
      "                                                                 lstm_1[5][0]                     \n",
      "                                                                 lstm_1[6][0]                     \n",
      "                                                                 lstm_1[7][0]                     \n",
      "                                                                 lstm_1[8][0]                     \n",
      "__________________________________________________________________________________________________\n",
      "concatenate_1 (Concatenate)     (None, 30, 128)      0           bidirectional_1[0][0]            \n",
      "                                                                 repeat_vector_1[0][0]            \n",
      "                                                                 bidirectional_1[0][0]            \n",
      "                                                                 repeat_vector_1[1][0]            \n",
      "                                                                 bidirectional_1[0][0]            \n",
      "                                                                 repeat_vector_1[2][0]            \n",
      "                                                                 bidirectional_1[0][0]            \n",
      "                                                                 repeat_vector_1[3][0]            \n",
      "                                                                 bidirectional_1[0][0]            \n",
      "                                                                 repeat_vector_1[4][0]            \n",
      "                                                                 bidirectional_1[0][0]            \n",
      "                                                                 repeat_vector_1[5][0]            \n",
      "                                                                 bidirectional_1[0][0]            \n",
      "                                                                 repeat_vector_1[6][0]            \n",
      "                                                                 bidirectional_1[0][0]            \n",
      "                                                                 repeat_vector_1[7][0]            \n",
      "                                                                 bidirectional_1[0][0]            \n",
      "                                                                 repeat_vector_1[8][0]            \n",
      "                                                                 bidirectional_1[0][0]            \n",
      "                                                                 repeat_vector_1[9][0]            \n",
      "__________________________________________________________________________________________________\n",
      "dense_1 (Dense)                 (None, 30, 10)       1290        concatenate_1[0][0]              \n",
      "                                                                 concatenate_1[1][0]              \n",
      "                                                                 concatenate_1[2][0]              \n",
      "                                                                 concatenate_1[3][0]              \n",
      "                                                                 concatenate_1[4][0]              \n",
      "                                                                 concatenate_1[5][0]              \n",
      "                                                                 concatenate_1[6][0]              \n",
      "                                                                 concatenate_1[7][0]              \n",
      "                                                                 concatenate_1[8][0]              \n",
      "                                                                 concatenate_1[9][0]              \n",
      "__________________________________________________________________________________________________\n",
      "dense_2 (Dense)                 (None, 30, 1)        11          dense_1[0][0]                    \n",
      "                                                                 dense_1[1][0]                    \n",
      "                                                                 dense_1[2][0]                    \n",
      "                                                                 dense_1[3][0]                    \n",
      "                                                                 dense_1[4][0]                    \n",
      "                                                                 dense_1[5][0]                    \n",
      "                                                                 dense_1[6][0]                    \n",
      "                                                                 dense_1[7][0]                    \n",
      "                                                                 dense_1[8][0]                    \n",
      "                                                                 dense_1[9][0]                    \n",
      "__________________________________________________________________________________________________\n",
      "attention_weights (Activation)  (None, 30, 1)        0           dense_2[0][0]                    \n",
      "                                                                 dense_2[1][0]                    \n",
      "                                                                 dense_2[2][0]                    \n",
      "                                                                 dense_2[3][0]                    \n",
      "                                                                 dense_2[4][0]                    \n",
      "                                                                 dense_2[5][0]                    \n",
      "                                                                 dense_2[6][0]                    \n",
      "                                                                 dense_2[7][0]                    \n",
      "                                                                 dense_2[8][0]                    \n",
      "                                                                 dense_2[9][0]                    \n",
      "__________________________________________________________________________________________________\n",
      "dot_1 (Dot)                     (None, 1, 64)        0           attention_weights[0][0]          \n",
      "                                                                 bidirectional_1[0][0]            \n",
      "                                                                 attention_weights[1][0]          \n",
      "                                                                 bidirectional_1[0][0]            \n",
      "                                                                 attention_weights[2][0]          \n",
      "                                                                 bidirectional_1[0][0]            \n",
      "                                                                 attention_weights[3][0]          \n",
      "                                                                 bidirectional_1[0][0]            \n",
      "                                                                 attention_weights[4][0]          \n",
      "                                                                 bidirectional_1[0][0]            \n",
      "                                                                 attention_weights[5][0]          \n",
      "                                                                 bidirectional_1[0][0]            \n",
      "                                                                 attention_weights[6][0]          \n",
      "                                                                 bidirectional_1[0][0]            \n",
      "                                                                 attention_weights[7][0]          \n",
      "                                                                 bidirectional_1[0][0]            \n",
      "                                                                 attention_weights[8][0]          \n",
      "                                                                 bidirectional_1[0][0]            \n",
      "                                                                 attention_weights[9][0]          \n",
      "                                                                 bidirectional_1[0][0]            \n",
      "__________________________________________________________________________________________________\n",
      "c0 (InputLayer)                 (None, 64)           0                                            \n",
      "__________________________________________________________________________________________________\n",
      "lstm_1 (LSTM)                   [(None, 64), (None,  33024       dot_1[0][0]                      \n",
      "                                                                 s0[0][0]                         \n",
      "                                                                 c0[0][0]                         \n",
      "                                                                 dot_1[1][0]                      \n",
      "                                                                 lstm_1[0][0]                     \n",
      "                                                                 lstm_1[0][2]                     \n",
      "                                                                 dot_1[2][0]                      \n",
      "                                                                 lstm_1[1][0]                     \n",
      "                                                                 lstm_1[1][2]                     \n",
      "                                                                 dot_1[3][0]                      \n",
      "                                                                 lstm_1[2][0]                     \n",
      "                                                                 lstm_1[2][2]                     \n",
      "                                                                 dot_1[4][0]                      \n",
      "                                                                 lstm_1[3][0]                     \n",
      "                                                                 lstm_1[3][2]                     \n",
      "                                                                 dot_1[5][0]                      \n",
      "                                                                 lstm_1[4][0]                     \n",
      "                                                                 lstm_1[4][2]                     \n",
      "                                                                 dot_1[6][0]                      \n",
      "                                                                 lstm_1[5][0]                     \n",
      "                                                                 lstm_1[5][2]                     \n",
      "                                                                 dot_1[7][0]                      \n",
      "                                                                 lstm_1[6][0]                     \n",
      "                                                                 lstm_1[6][2]                     \n",
      "                                                                 dot_1[8][0]                      \n",
      "                                                                 lstm_1[7][0]                     \n",
      "                                                                 lstm_1[7][2]                     \n",
      "                                                                 dot_1[9][0]                      \n",
      "                                                                 lstm_1[8][0]                     \n",
      "                                                                 lstm_1[8][2]                     \n",
      "__________________________________________________________________________________________________\n",
      "dense_3 (Dense)                 (None, 11)           715         lstm_1[0][0]                     \n",
      "                                                                 lstm_1[1][0]                     \n",
      "                                                                 lstm_1[2][0]                     \n",
      "                                                                 lstm_1[3][0]                     \n",
      "                                                                 lstm_1[4][0]                     \n",
      "                                                                 lstm_1[5][0]                     \n",
      "                                                                 lstm_1[6][0]                     \n",
      "                                                                 lstm_1[7][0]                     \n",
      "                                                                 lstm_1[8][0]                     \n",
      "                                                                 lstm_1[9][0]                     \n",
      "==================================================================================================\n",
      "Total params: 52,960\n",
      "Trainable params: 52,960\n",
      "Non-trainable params: 0\n",
      "__________________________________________________________________________________________________\n"
     ]
    }
   ],
   "source": [
    "model.summary()"
   ]
  },
  {
   "cell_type": "markdown",
   "metadata": {},
   "source": [
    "**Expected Output**:\n",
    "\n",
    "Here is the summary you should see\n",
    "<table>\n",
    "    <tr>\n",
    "        <td>\n",
    "            **Total params:**\n",
    "        </td>\n",
    "        <td>\n",
    "         52,960\n",
    "        </td>\n",
    "    </tr>\n",
    "        <tr>\n",
    "        <td>\n",
    "            **Trainable params:**\n",
    "        </td>\n",
    "        <td>\n",
    "         52,960\n",
    "        </td>\n",
    "    </tr>\n",
    "            <tr>\n",
    "        <td>\n",
    "            **Non-trainable params:**\n",
    "        </td>\n",
    "        <td>\n",
    "         0\n",
    "        </td>\n",
    "    </tr>\n",
    "                    <tr>\n",
    "        <td>\n",
    "            **bidirectional_1's output shape **\n",
    "        </td>\n",
    "        <td>\n",
    "         (None, 30, 64)  \n",
    "        </td>\n",
    "    </tr>\n",
    "    <tr>\n",
    "        <td>\n",
    "            **repeat_vector_1's output shape **\n",
    "        </td>\n",
    "        <td>\n",
    "         (None, 30, 64) \n",
    "        </td>\n",
    "    </tr>\n",
    "                <tr>\n",
    "        <td>\n",
    "            **concatenate_1's output shape **\n",
    "        </td>\n",
    "        <td>\n",
    "         (None, 30, 128) \n",
    "        </td>\n",
    "    </tr>\n",
    "            <tr>\n",
    "        <td>\n",
    "            **attention_weights's output shape **\n",
    "        </td>\n",
    "        <td>\n",
    "         (None, 30, 1)  \n",
    "        </td>\n",
    "    </tr>\n",
    "        <tr>\n",
    "        <td>\n",
    "            **dot_1's output shape **\n",
    "        </td>\n",
    "        <td>\n",
    "         (None, 1, 64)\n",
    "        </td>\n",
    "    </tr>\n",
    "           <tr>\n",
    "        <td>\n",
    "            **dense_3's output shape **\n",
    "        </td>\n",
    "        <td>\n",
    "         (None, 11) \n",
    "        </td>\n",
    "    </tr>\n",
    "</table>\n"
   ]
  },
  {
   "cell_type": "markdown",
   "metadata": {},
   "source": [
    "#### Compile the model\n",
    "* After creating your model in Keras, you need to compile it and define the loss function, optimizer and metrics you want to use. \n",
    "    * Loss function: 'categorical_crossentropy'.\n",
    "    * Optimizer: [Adam](https://keras.io/optimizers/#adam) [optimizer](https://keras.io/optimizers/#usage-of-optimizers)\n",
    "        - learning rate = 0.005 \n",
    "        - $\\beta_1 = 0.9$\n",
    "        - $\\beta_2 = 0.999$\n",
    "        - decay = 0.01  \n",
    "    * metric: 'accuracy'\n",
    "    \n",
    "Sample code\n",
    "```Python\n",
    "optimizer = Adam(lr=..., beta_1=..., beta_2=..., decay=...)\n",
    "model.compile(optimizer=..., loss=..., metrics=[...])\n",
    "```"
   ]
  },
  {
   "cell_type": "code",
   "execution_count": 34,
   "metadata": {},
   "outputs": [],
   "source": [
    "### START CODE HERE ### (≈2 lines)\n",
    "opt =  Adam(lr=0.005, beta_1=0.9, beta_2=0.999, decay=0.01)\n",
    "model.compile(optimizer=opt, loss='categorical_crossentropy', metrics=['accuracy'])\n",
    "### END CODE HERE ###"
   ]
  },
  {
   "cell_type": "markdown",
   "metadata": {},
   "source": [
    "#### Define inputs and outputs, and fit the model\n",
    "The last step is to define all your inputs and outputs to fit the model:\n",
    "- You have input X of shape $(m = 10000, T_x = 30)$ containing the training examples.\n",
    "- You need to create `s0` and `c0` to initialize your `post_attention_LSTM_cell` with zeros.\n",
    "- Given the `model()` you coded, you need the \"outputs\" to be a list of 10 elements of shape (m, T_y). \n",
    "    - The list `outputs[i][0], ..., outputs[i][Ty]` represents the true labels (characters) corresponding to the $i^{th}$ training example (`X[i]`). \n",
    "    - `outputs[i][j]` is the true label of the $j^{th}$ character in the $i^{th}$ training example."
   ]
  },
  {
   "cell_type": "code",
   "execution_count": 44,
   "metadata": {},
   "outputs": [
    {
     "name": "stdout",
     "output_type": "stream",
     "text": [
      "(10000, 64)\n",
      "(10000, 64)\n"
     ]
    }
   ],
   "source": [
    "s0 = np.zeros((m, n_s))\n",
    "print(s0.shape)\n",
    "c0 = np.zeros((m, n_s))\n",
    "print(c0.shape)\n",
    "outputs = list(Yoh.swapaxes(0,1))"
   ]
  },
  {
   "cell_type": "markdown",
   "metadata": {},
   "source": [
    "Let's now fit the model and run it for one epoch."
   ]
  },
  {
   "cell_type": "code",
   "execution_count": 36,
   "metadata": {},
   "outputs": [
    {
     "name": "stdout",
     "output_type": "stream",
     "text": [
      "WARNING:tensorflow:From C:\\Users\\Arshit\\Anaconda3\\lib\\site-packages\\keras\\backend\\tensorflow_backend.py:422: The name tf.global_variables is deprecated. Please use tf.compat.v1.global_variables instead.\n",
      "\n",
      "Epoch 1/1\n"
     ]
    },
    {
     "name": "stdout",
     "output_type": "stream",
     "text": [
      " 2400/10000 [======>.......................] - ETA: 7:29 - loss: 23.9987 - dense_3_loss: 2.3977 - dense_3_accuracy: 0.0200 - dense_3_accuracy_1: 0.0200 - dense_3_accuracy_2: 0.1000 - dense_3_accuracy_3: 0.1100 - dense_3_accuracy_4: 0.0000e+00 - dense_3_accuracy_5: 0.0000e+00 - dense_3_accuracy_6: 0.0900 - dense_3_accuracy_7: 0.0000e+00 - dense_3_accuracy_8: 0.0200 - dense_3_accuracy_9: 0.090 - ETA: 3:49 - loss: 23.7864 - dense_3_loss: 2.4162 - dense_3_accuracy: 0.0100 - dense_3_accuracy_1: 0.1600 - dense_3_accuracy_2: 0.1600 - dense_3_accuracy_3: 0.1150 - dense_3_accuracy_4: 0.0000e+00 - dense_3_accuracy_5: 0.3550 - dense_3_accuracy_6: 0.0800 - dense_3_accuracy_7: 0.0000e+00 - dense_3_accuracy_8: 0.1700 - dense_3_accuracy_9: 0.0750    - ETA: 2:33 - loss: 23.5741 - dense_3_loss: 2.4344 - dense_3_accuracy: 0.0067 - dense_3_accuracy_1: 0.2100 - dense_3_accuracy_2: 0.1433 - dense_3_accuracy_3: 0.1033 - dense_3_accuracy_4: 0.0000e+00 - dense_3_accuracy_5: 0.4533 - dense_3_accuracy_6: 0.0867 - dense_3_accuracy_7: 0.0000e+00 - dense_3_accuracy_8: 0.1900 - dense_3_accuracy_9: 0.073 - ETA: 1:56 - loss: 23.2762 - dense_3_loss: 2.4709 - dense_3_accuracy: 0.0050 - dense_3_accuracy_1: 0.2600 - dense_3_accuracy_2: 0.1425 - dense_3_accuracy_3: 0.1100 - dense_3_accuracy_4: 0.0000e+00 - dense_3_accuracy_5: 0.5175 - dense_3_accuracy_6: 0.0925 - dense_3_accuracy_7: 0.0000e+00 - dense_3_accuracy_8: 0.2100 - dense_3_accuracy_9: 0.080 - ETA: 1:33 - loss: 22.9773 - dense_3_loss: 2.5298 - dense_3_accuracy: 0.0040 - dense_3_accuracy_1: 0.2880 - dense_3_accuracy_2: 0.1580 - dense_3_accuracy_3: 0.1220 - dense_3_accuracy_4: 0.0000e+00 - dense_3_accuracy_5: 0.5620 - dense_3_accuracy_6: 0.0900 - dense_3_accuracy_7: 0.0000e+00 - dense_3_accuracy_8: 0.2300 - dense_3_accuracy_9: 0.088 - ETA: 1:18 - loss: 22.8092 - dense_3_loss: 2.6339 - dense_3_accuracy: 0.0033 - dense_3_accuracy_1: 0.3033 - dense_3_accuracy_2: 0.1633 - dense_3_accuracy_3: 0.1050 - dense_3_accuracy_4: 0.1667 - dense_3_accuracy_5: 0.4683 - dense_3_accuracy_6: 0.0750 - dense_3_accuracy_7: 0.1667 - dense_3_accuracy_8: 0.1917 - dense_3_accuracy_9: 0.0733        - ETA: 1:07 - loss: 22.6772 - dense_3_loss: 2.7552 - dense_3_accuracy: 0.0029 - dense_3_accuracy_1: 0.2600 - dense_3_accuracy_2: 0.1400 - dense_3_accuracy_3: 0.0900 - dense_3_accuracy_4: 0.2857 - dense_3_accuracy_5: 0.4014 - dense_3_accuracy_6: 0.0643 - dense_3_accuracy_7: 0.2857 - dense_3_accuracy_8: 0.1643 - dense_3_accuracy_9: 0.062 - ETA: 59s - loss: 22.5660 - dense_3_loss: 2.8024 - dense_3_accuracy: 0.0025 - dense_3_accuracy_1: 0.2275 - dense_3_accuracy_2: 0.1225 - dense_3_accuracy_3: 0.0787 - dense_3_accuracy_4: 0.3750 - dense_3_accuracy_5: 0.3512 - dense_3_accuracy_6: 0.0562 - dense_3_accuracy_7: 0.3750 - dense_3_accuracy_8: 0.1437 - dense_3_accuracy_9: 0.055 - ETA: 52s - loss: 22.4715 - dense_3_loss: 2.8158 - dense_3_accuracy: 0.0022 - dense_3_accuracy_1: 0.2167 - dense_3_accuracy_2: 0.1089 - dense_3_accuracy_3: 0.0700 - dense_3_accuracy_4: 0.4444 - dense_3_accuracy_5: 0.3122 - dense_3_accuracy_6: 0.0500 - dense_3_accuracy_7: 0.4444 - dense_3_accuracy_8: 0.1278 - dense_3_accuracy_9: 0.04 - ETA: 47s - loss: 22.3565 - dense_3_loss: 2.8236 - dense_3_accuracy: 0.0020 - dense_3_accuracy_1: 0.2410 - dense_3_accuracy_2: 0.1000 - dense_3_accuracy_3: 0.0630 - dense_3_accuracy_4: 0.5000 - dense_3_accuracy_5: 0.2810 - dense_3_accuracy_6: 0.0450 - dense_3_accuracy_7: 0.5000 - dense_3_accuracy_8: 0.1150 - dense_3_accuracy_9: 0.04 - ETA: 43s - loss: 22.2749 - dense_3_loss: 2.8213 - dense_3_accuracy: 0.0018 - dense_3_accuracy_1: 0.2527 - dense_3_accuracy_2: 0.1073 - dense_3_accuracy_3: 0.0627 - dense_3_accuracy_4: 0.5455 - dense_3_accuracy_5: 0.2555 - dense_3_accuracy_6: 0.0409 - dense_3_accuracy_7: 0.5455 - dense_3_accuracy_8: 0.1045 - dense_3_accuracy_9: 0.04 - ETA: 40s - loss: 22.1868 - dense_3_loss: 2.8098 - dense_3_accuracy: 0.0017 - dense_3_accuracy_1: 0.2708 - dense_3_accuracy_2: 0.1142 - dense_3_accuracy_3: 0.0683 - dense_3_accuracy_4: 0.5683 - dense_3_accuracy_5: 0.2342 - dense_3_accuracy_6: 0.0375 - dense_3_accuracy_7: 0.5833 - dense_3_accuracy_8: 0.0958 - dense_3_accuracy_9: 0.03 - ETA: 37s - loss: 22.1209 - dense_3_loss: 2.8065 - dense_3_accuracy: 0.0015 - dense_3_accuracy_1: 0.2838 - dense_3_accuracy_2: 0.1254 - dense_3_accuracy_3: 0.0677 - dense_3_accuracy_4: 0.5246 - dense_3_accuracy_5: 0.2162 - dense_3_accuracy_6: 0.0346 - dense_3_accuracy_7: 0.6154 - dense_3_accuracy_8: 0.0885 - dense_3_accuracy_9: 0.03 - ETA: 34s - loss: 22.0510 - dense_3_loss: 2.7986 - dense_3_accuracy: 0.0014 - dense_3_accuracy_1: 0.2929 - dense_3_accuracy_2: 0.1343 - dense_3_accuracy_3: 0.0700 - dense_3_accuracy_4: 0.4871 - dense_3_accuracy_5: 0.2050 - dense_3_accuracy_6: 0.0321 - dense_3_accuracy_7: 0.6429 - dense_3_accuracy_8: 0.0821 - dense_3_accuracy_9: 0.03 - ETA: 32s - loss: 21.9879 - dense_3_loss: 2.7944 - dense_3_accuracy: 0.0013 - dense_3_accuracy_1: 0.2993 - dense_3_accuracy_2: 0.1373 - dense_3_accuracy_3: 0.0707 - dense_3_accuracy_4: 0.4600 - dense_3_accuracy_5: 0.1913 - dense_3_accuracy_6: 0.0300 - dense_3_accuracy_7: 0.6667 - dense_3_accuracy_8: 0.0767 - dense_3_accuracy_9: 0.02 - ETA: 30s - loss: 21.9185 - dense_3_loss: 2.7951 - dense_3_accuracy: 0.0012 - dense_3_accuracy_1: 0.3081 - dense_3_accuracy_2: 0.1425 - dense_3_accuracy_3: 0.0737 - dense_3_accuracy_4: 0.4712 - dense_3_accuracy_5: 0.1794 - dense_3_accuracy_6: 0.0281 - dense_3_accuracy_7: 0.6875 - dense_3_accuracy_8: 0.0719 - dense_3_accuracy_9: 0.02 - ETA: 28s - loss: 21.8680 - dense_3_loss: 2.7959 - dense_3_accuracy: 0.0012 - dense_3_accuracy_1: 0.3118 - dense_3_accuracy_2: 0.1459 - dense_3_accuracy_3: 0.0729 - dense_3_accuracy_4: 0.5024 - dense_3_accuracy_5: 0.1688 - dense_3_accuracy_6: 0.0265 - dense_3_accuracy_7: 0.7059 - dense_3_accuracy_8: 0.0676 - dense_3_accuracy_9: 0.02 - ETA: 27s - loss: 21.8064 - dense_3_loss: 2.7969 - dense_3_accuracy: 0.0011 - dense_3_accuracy_1: 0.3211 - dense_3_accuracy_2: 0.1489 - dense_3_accuracy_3: 0.0750 - dense_3_accuracy_4: 0.5300 - dense_3_accuracy_5: 0.1594 - dense_3_accuracy_6: 0.0250 - dense_3_accuracy_7: 0.7222 - dense_3_accuracy_8: 0.0639 - dense_3_accuracy_9: 0.02 - ETA: 25s - loss: 21.7379 - dense_3_loss: 2.8005 - dense_3_accuracy: 0.0011 - dense_3_accuracy_1: 0.3300 - dense_3_accuracy_2: 0.1516 - dense_3_accuracy_3: 0.0779 - dense_3_accuracy_4: 0.5542 - dense_3_accuracy_5: 0.1511 - dense_3_accuracy_6: 0.0237 - dense_3_accuracy_7: 0.7368 - dense_3_accuracy_8: 0.0605 - dense_3_accuracy_9: 0.02 - ETA: 24s - loss: 21.6861 - dense_3_loss: 2.8009 - dense_3_accuracy: 0.0010 - dense_3_accuracy_1: 0.3320 - dense_3_accuracy_2: 0.1525 - dense_3_accuracy_3: 0.0820 - dense_3_accuracy_4: 0.5355 - dense_3_accuracy_5: 0.1435 - dense_3_accuracy_6: 0.0225 - dense_3_accuracy_7: 0.7500 - dense_3_accuracy_8: 0.0575 - dense_3_accuracy_9: 0.02 - ETA: 23s - loss: 21.6247 - dense_3_loss: 2.8000 - dense_3_accuracy: 9.5238e-04 - dense_3_accuracy_1: 0.3352 - dense_3_accuracy_2: 0.1543 - dense_3_accuracy_3: 0.0838 - dense_3_accuracy_4: 0.5100 - dense_3_accuracy_5: 0.1395 - dense_3_accuracy_6: 0.0214 - dense_3_accuracy_7: 0.7619 - dense_3_accuracy_8: 0.0548 - dense_3_accuracy_9: 0.02 - ETA: 22s - loss: 21.5672 - dense_3_loss: 2.8034 - dense_3_accuracy: 9.0909e-04 - dense_3_accuracy_1: 0.3468 - dense_3_accuracy_2: 0.1586 - dense_3_accuracy_3: 0.0859 - dense_3_accuracy_4: 0.4914 - dense_3_accuracy_5: 0.1332 - dense_3_accuracy_6: 0.0205 - dense_3_accuracy_7: 0.7727 - dense_3_accuracy_8: 0.0523 - dense_3_accuracy_9: 0.02 - ETA: 21s - loss: 21.5106 - dense_3_loss: 2.7992 - dense_3_accuracy: 8.6957e-04 - dense_3_accuracy_1: 0.3604 - dense_3_accuracy_2: 0.1626 - dense_3_accuracy_3: 0.0878 - dense_3_accuracy_4: 0.5117 - dense_3_accuracy_5: 0.1274 - dense_3_accuracy_6: 0.0196 - dense_3_accuracy_7: 0.7826 - dense_3_accuracy_8: 0.0500 - dense_3_accuracy_9: 0.01 - ETA: 20s - loss: 21.4539 - dense_3_loss: 2.8012 - dense_3_accuracy: 8.3333e-04 - dense_3_accuracy_1: 0.3713 - dense_3_accuracy_2: 0.1646 - dense_3_accuracy_3: 0.0913 - dense_3_accuracy_4: 0.5321 - dense_3_accuracy_5: 0.1221 - dense_3_accuracy_6: 0.0188 - dense_3_accuracy_7: 0.7917 - dense_3_accuracy_8: 0.0479 - dense_3_accuracy_9: 0.01 4900/10000 [=============>................] - ETA: 19s - loss: 21.4070 - dense_3_loss: 2.7972 - dense_3_accuracy: 8.0000e-04 - dense_3_accuracy_1: 0.3804 - dense_3_accuracy_2: 0.1672 - dense_3_accuracy_3: 0.0904 - dense_3_accuracy_4: 0.5508 - dense_3_accuracy_5: 0.1172 - dense_3_accuracy_6: 0.0180 - dense_3_accuracy_7: 0.8000 - dense_3_accuracy_8: 0.0460 - dense_3_accuracy_9: 0.02 - ETA: 18s - loss: 21.3590 - dense_3_loss: 2.7989 - dense_3_accuracy: 7.6923e-04 - dense_3_accuracy_1: 0.3888 - dense_3_accuracy_2: 0.1692 - dense_3_accuracy_3: 0.0919 - dense_3_accuracy_4: 0.5681 - dense_3_accuracy_5: 0.1127 - dense_3_accuracy_6: 0.0173 - dense_3_accuracy_7: 0.8077 - dense_3_accuracy_8: 0.0442 - dense_3_accuracy_9: 0.02 - ETA: 17s - loss: 21.3044 - dense_3_loss: 2.7979 - dense_3_accuracy: 7.4074e-04 - dense_3_accuracy_1: 0.3981 - dense_3_accuracy_2: 0.1733 - dense_3_accuracy_3: 0.0937 - dense_3_accuracy_4: 0.5796 - dense_3_accuracy_5: 0.1085 - dense_3_accuracy_6: 0.0167 - dense_3_accuracy_7: 0.8148 - dense_3_accuracy_8: 0.0426 - dense_3_accuracy_9: 0.02 - ETA: 17s - loss: 21.2453 - dense_3_loss: 2.7942 - dense_3_accuracy: 7.1429e-04 - dense_3_accuracy_1: 0.4057 - dense_3_accuracy_2: 0.1793 - dense_3_accuracy_3: 0.0936 - dense_3_accuracy_4: 0.5946 - dense_3_accuracy_5: 0.1046 - dense_3_accuracy_6: 0.0161 - dense_3_accuracy_7: 0.8214 - dense_3_accuracy_8: 0.0411 - dense_3_accuracy_9: 0.02 - ETA: 16s - loss: 21.1914 - dense_3_loss: 2.7917 - dense_3_accuracy: 6.8966e-04 - dense_3_accuracy_1: 0.4131 - dense_3_accuracy_2: 0.1841 - dense_3_accuracy_3: 0.0941 - dense_3_accuracy_4: 0.6086 - dense_3_accuracy_5: 0.1010 - dense_3_accuracy_6: 0.0155 - dense_3_accuracy_7: 0.8276 - dense_3_accuracy_8: 0.0497 - dense_3_accuracy_9: 0.02 - ETA: 16s - loss: 21.1482 - dense_3_loss: 2.7858 - dense_3_accuracy: 6.6667e-04 - dense_3_accuracy_1: 0.4193 - dense_3_accuracy_2: 0.1830 - dense_3_accuracy_3: 0.0933 - dense_3_accuracy_4: 0.6217 - dense_3_accuracy_5: 0.0977 - dense_3_accuracy_6: 0.0150 - dense_3_accuracy_7: 0.8333 - dense_3_accuracy_8: 0.0503 - dense_3_accuracy_9: 0.03 - ETA: 15s - loss: 21.1026 - dense_3_loss: 2.7847 - dense_3_accuracy: 6.4516e-04 - dense_3_accuracy_1: 0.4248 - dense_3_accuracy_2: 0.1842 - dense_3_accuracy_3: 0.0923 - dense_3_accuracy_4: 0.6339 - dense_3_accuracy_5: 0.0945 - dense_3_accuracy_6: 0.0145 - dense_3_accuracy_7: 0.8387 - dense_3_accuracy_8: 0.0519 - dense_3_accuracy_9: 0.03 - ETA: 14s - loss: 21.0483 - dense_3_loss: 2.7827 - dense_3_accuracy: 6.2500e-04 - dense_3_accuracy_1: 0.4297 - dense_3_accuracy_2: 0.1891 - dense_3_accuracy_3: 0.0913 - dense_3_accuracy_4: 0.6453 - dense_3_accuracy_5: 0.0916 - dense_3_accuracy_6: 0.0141 - dense_3_accuracy_7: 0.8434 - dense_3_accuracy_8: 0.0653 - dense_3_accuracy_9: 0.03 - ETA: 14s - loss: 20.9985 - dense_3_loss: 2.7833 - dense_3_accuracy: 6.0606e-04 - dense_3_accuracy_1: 0.4355 - dense_3_accuracy_2: 0.1882 - dense_3_accuracy_3: 0.0897 - dense_3_accuracy_4: 0.6561 - dense_3_accuracy_5: 0.0888 - dense_3_accuracy_6: 0.0136 - dense_3_accuracy_7: 0.8482 - dense_3_accuracy_8: 0.0733 - dense_3_accuracy_9: 0.03 - ETA: 13s - loss: 20.9435 - dense_3_loss: 2.7826 - dense_3_accuracy: 5.8824e-04 - dense_3_accuracy_1: 0.4435 - dense_3_accuracy_2: 0.1888 - dense_3_accuracy_3: 0.0894 - dense_3_accuracy_4: 0.6662 - dense_3_accuracy_5: 0.0862 - dense_3_accuracy_6: 0.0132 - dense_3_accuracy_7: 0.8526 - dense_3_accuracy_8: 0.0712 - dense_3_accuracy_9: 0.03 - ETA: 13s - loss: 20.8973 - dense_3_loss: 2.7822 - dense_3_accuracy: 5.7143e-04 - dense_3_accuracy_1: 0.4483 - dense_3_accuracy_2: 0.1934 - dense_3_accuracy_3: 0.0871 - dense_3_accuracy_4: 0.6757 - dense_3_accuracy_5: 0.0837 - dense_3_accuracy_6: 0.0129 - dense_3_accuracy_7: 0.8569 - dense_3_accuracy_8: 0.0691 - dense_3_accuracy_9: 0.04 - ETA: 13s - loss: 20.8432 - dense_3_loss: 2.7799 - dense_3_accuracy: 0.0022 - dense_3_accuracy_1: 0.4539 - dense_3_accuracy_2: 0.1986 - dense_3_accuracy_3: 0.0850 - dense_3_accuracy_4: 0.6847 - dense_3_accuracy_5: 0.0814 - dense_3_accuracy_6: 0.0125 - dense_3_accuracy_7: 0.8597 - dense_3_accuracy_8: 0.0753 - dense_3_accuracy_9: 0.0439   - ETA: 12s - loss: 20.8002 - dense_3_loss: 2.7794 - dense_3_accuracy: 0.0116 - dense_3_accuracy_1: 0.4581 - dense_3_accuracy_2: 0.2016 - dense_3_accuracy_3: 0.0835 - dense_3_accuracy_4: 0.6932 - dense_3_accuracy_5: 0.0792 - dense_3_accuracy_6: 0.0122 - dense_3_accuracy_7: 0.8624 - dense_3_accuracy_8: 0.0824 - dense_3_accuracy_9: 0.04 - ETA: 12s - loss: 20.7484 - dense_3_loss: 2.7774 - dense_3_accuracy: 0.0226 - dense_3_accuracy_1: 0.4611 - dense_3_accuracy_2: 0.2079 - dense_3_accuracy_3: 0.0847 - dense_3_accuracy_4: 0.7013 - dense_3_accuracy_5: 0.0771 - dense_3_accuracy_6: 0.0118 - dense_3_accuracy_7: 0.8661 - dense_3_accuracy_8: 0.0818 - dense_3_accuracy_9: 0.04 - ETA: 11s - loss: 20.6964 - dense_3_loss: 2.7755 - dense_3_accuracy: 0.0338 - dense_3_accuracy_1: 0.4628 - dense_3_accuracy_2: 0.2133 - dense_3_accuracy_3: 0.0854 - dense_3_accuracy_4: 0.7087 - dense_3_accuracy_5: 0.0751 - dense_3_accuracy_6: 0.0115 - dense_3_accuracy_7: 0.8687 - dense_3_accuracy_8: 0.0844 - dense_3_accuracy_9: 0.05 - ETA: 11s - loss: 20.6366 - dense_3_loss: 2.7717 - dense_3_accuracy: 0.0487 - dense_3_accuracy_1: 0.4678 - dense_3_accuracy_2: 0.2177 - dense_3_accuracy_3: 0.0870 - dense_3_accuracy_4: 0.7157 - dense_3_accuracy_5: 0.0733 - dense_3_accuracy_6: 0.0113 - dense_3_accuracy_7: 0.8708 - dense_3_accuracy_8: 0.0857 - dense_3_accuracy_9: 0.05 - ETA: 11s - loss: 20.5899 - dense_3_loss: 2.7715 - dense_3_accuracy: 0.0607 - dense_3_accuracy_1: 0.4695 - dense_3_accuracy_2: 0.2215 - dense_3_accuracy_3: 0.0868 - dense_3_accuracy_4: 0.7227 - dense_3_accuracy_5: 0.0715 - dense_3_accuracy_6: 0.0110 - dense_3_accuracy_7: 0.8739 - dense_3_accuracy_8: 0.0854 - dense_3_accuracy_9: 0.05 - ETA: 10s - loss: 20.5439 - dense_3_loss: 2.7722 - dense_3_accuracy: 0.0738 - dense_3_accuracy_1: 0.4729 - dense_3_accuracy_2: 0.2257 - dense_3_accuracy_3: 0.0869 - dense_3_accuracy_4: 0.7293 - dense_3_accuracy_5: 0.0698 - dense_3_accuracy_6: 0.0107 - dense_3_accuracy_7: 0.8769 - dense_3_accuracy_8: 0.0876 - dense_3_accuracy_9: 0.05 - ETA: 10s - loss: 20.4849 - dense_3_loss: 2.7708 - dense_3_accuracy: 0.0867 - dense_3_accuracy_1: 0.4781 - dense_3_accuracy_2: 0.2309 - dense_3_accuracy_3: 0.0856 - dense_3_accuracy_4: 0.7356 - dense_3_accuracy_5: 0.0681 - dense_3_accuracy_6: 0.0105 - dense_3_accuracy_7: 0.8763 - dense_3_accuracy_8: 0.0944 - dense_3_accuracy_9: 0.05 - ETA: 10s - loss: 20.4234 - dense_3_loss: 2.7658 - dense_3_accuracy: 0.0993 - dense_3_accuracy_1: 0.4836 - dense_3_accuracy_2: 0.2348 - dense_3_accuracy_3: 0.0841 - dense_3_accuracy_4: 0.7416 - dense_3_accuracy_5: 0.0666 - dense_3_accuracy_6: 0.0102 - dense_3_accuracy_7: 0.8789 - dense_3_accuracy_8: 0.0989 - dense_3_accuracy_9: 0.05 - ETA: 9s - loss: 20.3735 - dense_3_loss: 2.7665 - dense_3_accuracy: 0.1109 - dense_3_accuracy_1: 0.4889 - dense_3_accuracy_2: 0.2362 - dense_3_accuracy_3: 0.0844 - dense_3_accuracy_4: 0.7473 - dense_3_accuracy_5: 0.0651 - dense_3_accuracy_6: 0.0100 - dense_3_accuracy_7: 0.8816 - dense_3_accuracy_8: 0.0991 - dense_3_accuracy_9: 0.0600 - ETA: 9s - loss: 20.3183 - dense_3_loss: 2.7660 - dense_3_accuracy: 0.1230 - dense_3_accuracy_1: 0.4978 - dense_3_accuracy_2: 0.2387 - dense_3_accuracy_3: 0.0835 - dense_3_accuracy_4: 0.7522 - dense_3_accuracy_5: 0.0641 - dense_3_accuracy_6: 0.0098 - dense_3_accuracy_7: 0.8824 - dense_3_accuracy_8: 0.1004 - dense_3_accuracy_9: 0.061 - ETA: 9s - loss: 20.2684 - dense_3_loss: 2.7667 - dense_3_accuracy: 0.1332 - dense_3_accuracy_1: 0.5068 - dense_3_accuracy_2: 0.2404 - dense_3_accuracy_3: 0.0834 - dense_3_accuracy_4: 0.7543 - dense_3_accuracy_5: 0.0664 - dense_3_accuracy_6: 0.0098 - dense_3_accuracy_7: 0.8796 - dense_3_accuracy_8: 0.1034 - dense_3_accuracy_9: 0.063 - ETA: 8s - loss: 20.2142 - dense_3_loss: 2.7653 - dense_3_accuracy: 0.1431 - dense_3_accuracy_1: 0.5127 - dense_3_accuracy_2: 0.2438 - dense_3_accuracy_3: 0.0827 - dense_3_accuracy_4: 0.7585 - dense_3_accuracy_5: 0.0667 - dense_3_accuracy_6: 0.0096 - dense_3_accuracy_7: 0.8794 - dense_3_accuracy_8: 0.1056 - dense_3_accuracy_9: 0.064 - ETA: 8s - loss: 20.1568 - dense_3_loss: 2.7642 - dense_3_accuracy: 0.1543 - dense_3_accuracy_1: 0.5194 - dense_3_accuracy_2: 0.2463 - dense_3_accuracy_3: 0.0816 - dense_3_accuracy_4: 0.7633 - dense_3_accuracy_5: 0.0669 - dense_3_accuracy_6: 0.0094 - dense_3_accuracy_7: 0.8792 - dense_3_accuracy_8: 0.1090 - dense_3_accuracy_9: 0.0659"
     ]
    },
    {
     "name": "stdout",
     "output_type": "stream",
     "text": [
      " 7400/10000 [=====================>........] - ETA: 8s - loss: 20.1011 - dense_3_loss: 2.7635 - dense_3_accuracy: 0.1650 - dense_3_accuracy_1: 0.5260 - dense_3_accuracy_2: 0.2482 - dense_3_accuracy_3: 0.0804 - dense_3_accuracy_4: 0.7678 - dense_3_accuracy_5: 0.0664 - dense_3_accuracy_6: 0.0092 - dense_3_accuracy_7: 0.8778 - dense_3_accuracy_8: 0.1136 - dense_3_accuracy_9: 0.066 - ETA: 8s - loss: 20.0489 - dense_3_loss: 2.7620 - dense_3_accuracy: 0.1729 - dense_3_accuracy_1: 0.5316 - dense_3_accuracy_2: 0.2508 - dense_3_accuracy_3: 0.0796 - dense_3_accuracy_4: 0.7718 - dense_3_accuracy_5: 0.0665 - dense_3_accuracy_6: 0.0096 - dense_3_accuracy_7: 0.8765 - dense_3_accuracy_8: 0.1149 - dense_3_accuracy_9: 0.067 - ETA: 7s - loss: 19.9945 - dense_3_loss: 2.7614 - dense_3_accuracy: 0.1810 - dense_3_accuracy_1: 0.5385 - dense_3_accuracy_2: 0.2533 - dense_3_accuracy_3: 0.0796 - dense_3_accuracy_4: 0.7746 - dense_3_accuracy_5: 0.0687 - dense_3_accuracy_6: 0.0096 - dense_3_accuracy_7: 0.8758 - dense_3_accuracy_8: 0.1156 - dense_3_accuracy_9: 0.070 - ETA: 7s - loss: 19.9388 - dense_3_loss: 2.7602 - dense_3_accuracy: 0.1911 - dense_3_accuracy_1: 0.5455 - dense_3_accuracy_2: 0.2557 - dense_3_accuracy_3: 0.0789 - dense_3_accuracy_4: 0.7775 - dense_3_accuracy_5: 0.0702 - dense_3_accuracy_6: 0.0098 - dense_3_accuracy_7: 0.8755 - dense_3_accuracy_8: 0.1157 - dense_3_accuracy_9: 0.071 - ETA: 7s - loss: 19.8799 - dense_3_loss: 2.7548 - dense_3_accuracy: 0.1978 - dense_3_accuracy_1: 0.5517 - dense_3_accuracy_2: 0.2593 - dense_3_accuracy_3: 0.0794 - dense_3_accuracy_4: 0.7815 - dense_3_accuracy_5: 0.0711 - dense_3_accuracy_6: 0.0104 - dense_3_accuracy_7: 0.8744 - dense_3_accuracy_8: 0.1211 - dense_3_accuracy_9: 0.073 - ETA: 7s - loss: 19.8253 - dense_3_loss: 2.7528 - dense_3_accuracy: 0.2053 - dense_3_accuracy_1: 0.5576 - dense_3_accuracy_2: 0.2605 - dense_3_accuracy_3: 0.0795 - dense_3_accuracy_4: 0.7855 - dense_3_accuracy_5: 0.0709 - dense_3_accuracy_6: 0.0104 - dense_3_accuracy_7: 0.8722 - dense_3_accuracy_8: 0.1255 - dense_3_accuracy_9: 0.074 - ETA: 7s - loss: 19.7738 - dense_3_loss: 2.7544 - dense_3_accuracy: 0.2138 - dense_3_accuracy_1: 0.5636 - dense_3_accuracy_2: 0.2636 - dense_3_accuracy_3: 0.0796 - dense_3_accuracy_4: 0.7893 - dense_3_accuracy_5: 0.0696 - dense_3_accuracy_6: 0.0102 - dense_3_accuracy_7: 0.8737 - dense_3_accuracy_8: 0.1268 - dense_3_accuracy_9: 0.074 - ETA: 6s - loss: 19.7251 - dense_3_loss: 2.7550 - dense_3_accuracy: 0.2204 - dense_3_accuracy_1: 0.5695 - dense_3_accuracy_2: 0.2639 - dense_3_accuracy_3: 0.0795 - dense_3_accuracy_4: 0.7930 - dense_3_accuracy_5: 0.0684 - dense_3_accuracy_6: 0.0100 - dense_3_accuracy_7: 0.8760 - dense_3_accuracy_8: 0.1270 - dense_3_accuracy_9: 0.074 - ETA: 6s - loss: 19.6747 - dense_3_loss: 2.7531 - dense_3_accuracy: 0.2262 - dense_3_accuracy_1: 0.5752 - dense_3_accuracy_2: 0.2645 - dense_3_accuracy_3: 0.0793 - dense_3_accuracy_4: 0.7966 - dense_3_accuracy_5: 0.0672 - dense_3_accuracy_6: 0.0098 - dense_3_accuracy_7: 0.8781 - dense_3_accuracy_8: 0.1274 - dense_3_accuracy_9: 0.075 - ETA: 6s - loss: 19.6215 - dense_3_loss: 2.7514 - dense_3_accuracy: 0.2356 - dense_3_accuracy_1: 0.5814 - dense_3_accuracy_2: 0.2666 - dense_3_accuracy_3: 0.0781 - dense_3_accuracy_4: 0.8000 - dense_3_accuracy_5: 0.0661 - dense_3_accuracy_6: 0.0097 - dense_3_accuracy_7: 0.8795 - dense_3_accuracy_8: 0.1292 - dense_3_accuracy_9: 0.076 - ETA: 6s - loss: 19.5656 - dense_3_loss: 2.7487 - dense_3_accuracy: 0.2423 - dense_3_accuracy_1: 0.5872 - dense_3_accuracy_2: 0.2680 - dense_3_accuracy_3: 0.0775 - dense_3_accuracy_4: 0.8033 - dense_3_accuracy_5: 0.0655 - dense_3_accuracy_6: 0.0098 - dense_3_accuracy_7: 0.8810 - dense_3_accuracy_8: 0.1318 - dense_3_accuracy_9: 0.078 - ETA: 6s - loss: 19.5083 - dense_3_loss: 2.7461 - dense_3_accuracy: 0.2495 - dense_3_accuracy_1: 0.5926 - dense_3_accuracy_2: 0.2689 - dense_3_accuracy_3: 0.0782 - dense_3_accuracy_4: 0.8066 - dense_3_accuracy_5: 0.0723 - dense_3_accuracy_6: 0.0125 - dense_3_accuracy_7: 0.8821 - dense_3_accuracy_8: 0.1320 - dense_3_accuracy_9: 0.078 - ETA: 5s - loss: 19.4511 - dense_3_loss: 2.7421 - dense_3_accuracy: 0.2587 - dense_3_accuracy_1: 0.5977 - dense_3_accuracy_2: 0.2708 - dense_3_accuracy_3: 0.0792 - dense_3_accuracy_4: 0.8097 - dense_3_accuracy_5: 0.0829 - dense_3_accuracy_6: 0.0142 - dense_3_accuracy_7: 0.8821 - dense_3_accuracy_8: 0.1319 - dense_3_accuracy_9: 0.079 - ETA: 5s - loss: 19.3965 - dense_3_loss: 2.7401 - dense_3_accuracy: 0.2656 - dense_3_accuracy_1: 0.6022 - dense_3_accuracy_2: 0.2722 - dense_3_accuracy_3: 0.0792 - dense_3_accuracy_4: 0.8127 - dense_3_accuracy_5: 0.0892 - dense_3_accuracy_6: 0.0152 - dense_3_accuracy_7: 0.8837 - dense_3_accuracy_8: 0.1327 - dense_3_accuracy_9: 0.080 - ETA: 5s - loss: 19.3388 - dense_3_loss: 2.7387 - dense_3_accuracy: 0.2734 - dense_3_accuracy_1: 0.6070 - dense_3_accuracy_2: 0.2744 - dense_3_accuracy_3: 0.0789 - dense_3_accuracy_4: 0.8156 - dense_3_accuracy_5: 0.0989 - dense_3_accuracy_6: 0.0153 - dense_3_accuracy_7: 0.8852 - dense_3_accuracy_8: 0.1358 - dense_3_accuracy_9: 0.080 - ETA: 5s - loss: 19.2731 - dense_3_loss: 2.7382 - dense_3_accuracy: 0.2828 - dense_3_accuracy_1: 0.6125 - dense_3_accuracy_2: 0.2778 - dense_3_accuracy_3: 0.0782 - dense_3_accuracy_4: 0.8185 - dense_3_accuracy_5: 0.1083 - dense_3_accuracy_6: 0.0154 - dense_3_accuracy_7: 0.8869 - dense_3_accuracy_8: 0.1391 - dense_3_accuracy_9: 0.080 - ETA: 5s - loss: 19.2080 - dense_3_loss: 2.7364 - dense_3_accuracy: 0.2909 - dense_3_accuracy_1: 0.6180 - dense_3_accuracy_2: 0.2795 - dense_3_accuracy_3: 0.0777 - dense_3_accuracy_4: 0.8212 - dense_3_accuracy_5: 0.1170 - dense_3_accuracy_6: 0.0156 - dense_3_accuracy_7: 0.8886 - dense_3_accuracy_8: 0.1376 - dense_3_accuracy_9: 0.081 - ETA: 4s - loss: 19.1435 - dense_3_loss: 2.7340 - dense_3_accuracy: 0.2976 - dense_3_accuracy_1: 0.6221 - dense_3_accuracy_2: 0.2821 - dense_3_accuracy_3: 0.0773 - dense_3_accuracy_4: 0.8239 - dense_3_accuracy_5: 0.1267 - dense_3_accuracy_6: 0.0161 - dense_3_accuracy_7: 0.8903 - dense_3_accuracy_8: 0.1387 - dense_3_accuracy_9: 0.082 - ETA: 4s - loss: 19.0758 - dense_3_loss: 2.7307 - dense_3_accuracy: 0.3051 - dense_3_accuracy_1: 0.6268 - dense_3_accuracy_2: 0.2832 - dense_3_accuracy_3: 0.0775 - dense_3_accuracy_4: 0.8265 - dense_3_accuracy_5: 0.1356 - dense_3_accuracy_6: 0.0171 - dense_3_accuracy_7: 0.8919 - dense_3_accuracy_8: 0.1418 - dense_3_accuracy_9: 0.083 - ETA: 4s - loss: 19.0073 - dense_3_loss: 2.7299 - dense_3_accuracy: 0.3143 - dense_3_accuracy_1: 0.6313 - dense_3_accuracy_2: 0.2852 - dense_3_accuracy_3: 0.0771 - dense_3_accuracy_4: 0.8290 - dense_3_accuracy_5: 0.1436 - dense_3_accuracy_6: 0.0181 - dense_3_accuracy_7: 0.8935 - dense_3_accuracy_8: 0.1439 - dense_3_accuracy_9: 0.082 - ETA: 4s - loss: 18.9357 - dense_3_loss: 2.7263 - dense_3_accuracy: 0.3207 - dense_3_accuracy_1: 0.6359 - dense_3_accuracy_2: 0.2871 - dense_3_accuracy_3: 0.0761 - dense_3_accuracy_4: 0.8314 - dense_3_accuracy_5: 0.1501 - dense_3_accuracy_6: 0.0186 - dense_3_accuracy_7: 0.8950 - dense_3_accuracy_8: 0.1467 - dense_3_accuracy_9: 0.083 - ETA: 4s - loss: 18.8626 - dense_3_loss: 2.7227 - dense_3_accuracy: 0.3270 - dense_3_accuracy_1: 0.6396 - dense_3_accuracy_2: 0.2886 - dense_3_accuracy_3: 0.0756 - dense_3_accuracy_4: 0.8338 - dense_3_accuracy_5: 0.1575 - dense_3_accuracy_6: 0.0192 - dense_3_accuracy_7: 0.8965 - dense_3_accuracy_8: 0.1487 - dense_3_accuracy_9: 0.084 - ETA: 4s - loss: 18.7864 - dense_3_loss: 2.7197 - dense_3_accuracy: 0.3344 - dense_3_accuracy_1: 0.6436 - dense_3_accuracy_2: 0.2892 - dense_3_accuracy_3: 0.0758 - dense_3_accuracy_4: 0.8361 - dense_3_accuracy_5: 0.1660 - dense_3_accuracy_6: 0.0203 - dense_3_accuracy_7: 0.8979 - dense_3_accuracy_8: 0.1513 - dense_3_accuracy_9: 0.084 - ETA: 3s - loss: 18.7101 - dense_3_loss: 2.7172 - dense_3_accuracy: 0.3429 - dense_3_accuracy_1: 0.6482 - dense_3_accuracy_2: 0.2901 - dense_3_accuracy_3: 0.0763 - dense_3_accuracy_4: 0.8384 - dense_3_accuracy_5: 0.1745 - dense_3_accuracy_6: 0.0207 - dense_3_accuracy_7: 0.8993 - dense_3_accuracy_8: 0.1552 - dense_3_accuracy_9: 0.084 - ETA: 3s - loss: 18.6317 - dense_3_loss: 2.7127 - dense_3_accuracy: 0.3507 - dense_3_accuracy_1: 0.6516 - dense_3_accuracy_2: 0.2926 - dense_3_accuracy_3: 0.0761 - dense_3_accuracy_4: 0.8405 - dense_3_accuracy_5: 0.1832 - dense_3_accuracy_6: 0.0212 - dense_3_accuracy_7: 0.9007 - dense_3_accuracy_8: 0.1570 - dense_3_accuracy_9: 0.0853"
     ]
    },
    {
     "name": "stdout",
     "output_type": "stream",
     "text": [
      " 9900/10000 [============================>.] - ETA: 3s - loss: 18.5511 - dense_3_loss: 2.7079 - dense_3_accuracy: 0.3577 - dense_3_accuracy_1: 0.6555 - dense_3_accuracy_2: 0.2947 - dense_3_accuracy_3: 0.0768 - dense_3_accuracy_4: 0.8427 - dense_3_accuracy_5: 0.1925 - dense_3_accuracy_6: 0.0216 - dense_3_accuracy_7: 0.9020 - dense_3_accuracy_8: 0.1601 - dense_3_accuracy_9: 0.085 - ETA: 3s - loss: 18.4726 - dense_3_loss: 2.7028 - dense_3_accuracy: 0.3645 - dense_3_accuracy_1: 0.6593 - dense_3_accuracy_2: 0.2954 - dense_3_accuracy_3: 0.0770 - dense_3_accuracy_4: 0.8447 - dense_3_accuracy_5: 0.1995 - dense_3_accuracy_6: 0.0225 - dense_3_accuracy_7: 0.9033 - dense_3_accuracy_8: 0.1646 - dense_3_accuracy_9: 0.086 - ETA: 3s - loss: 18.3959 - dense_3_loss: 2.6987 - dense_3_accuracy: 0.3716 - dense_3_accuracy_1: 0.6626 - dense_3_accuracy_2: 0.2965 - dense_3_accuracy_3: 0.0778 - dense_3_accuracy_4: 0.8468 - dense_3_accuracy_5: 0.2060 - dense_3_accuracy_6: 0.0238 - dense_3_accuracy_7: 0.9045 - dense_3_accuracy_8: 0.1669 - dense_3_accuracy_9: 0.087 - ETA: 3s - loss: 18.3135 - dense_3_loss: 2.6936 - dense_3_accuracy: 0.3794 - dense_3_accuracy_1: 0.6662 - dense_3_accuracy_2: 0.2977 - dense_3_accuracy_3: 0.0783 - dense_3_accuracy_4: 0.8487 - dense_3_accuracy_5: 0.2118 - dense_3_accuracy_6: 0.0250 - dense_3_accuracy_7: 0.9058 - dense_3_accuracy_8: 0.1699 - dense_3_accuracy_9: 0.087 - ETA: 2s - loss: 18.2354 - dense_3_loss: 2.6890 - dense_3_accuracy: 0.3857 - dense_3_accuracy_1: 0.6695 - dense_3_accuracy_2: 0.2995 - dense_3_accuracy_3: 0.0787 - dense_3_accuracy_4: 0.8506 - dense_3_accuracy_5: 0.2187 - dense_3_accuracy_6: 0.0256 - dense_3_accuracy_7: 0.9070 - dense_3_accuracy_8: 0.1724 - dense_3_accuracy_9: 0.087 - ETA: 2s - loss: 18.1550 - dense_3_loss: 2.6841 - dense_3_accuracy: 0.3913 - dense_3_accuracy_1: 0.6726 - dense_3_accuracy_2: 0.3009 - dense_3_accuracy_3: 0.0793 - dense_3_accuracy_4: 0.8525 - dense_3_accuracy_5: 0.2259 - dense_3_accuracy_6: 0.0264 - dense_3_accuracy_7: 0.9081 - dense_3_accuracy_8: 0.1750 - dense_3_accuracy_9: 0.088 - ETA: 2s - loss: 18.0767 - dense_3_loss: 2.6796 - dense_3_accuracy: 0.3958 - dense_3_accuracy_1: 0.6756 - dense_3_accuracy_2: 0.3027 - dense_3_accuracy_3: 0.0798 - dense_3_accuracy_4: 0.8543 - dense_3_accuracy_5: 0.2320 - dense_3_accuracy_6: 0.0272 - dense_3_accuracy_7: 0.9093 - dense_3_accuracy_8: 0.1783 - dense_3_accuracy_9: 0.089 - ETA: 2s - loss: 18.0001 - dense_3_loss: 2.6753 - dense_3_accuracy: 0.4006 - dense_3_accuracy_1: 0.6785 - dense_3_accuracy_2: 0.3044 - dense_3_accuracy_3: 0.0800 - dense_3_accuracy_4: 0.8561 - dense_3_accuracy_5: 0.2382 - dense_3_accuracy_6: 0.0289 - dense_3_accuracy_7: 0.9104 - dense_3_accuracy_8: 0.1815 - dense_3_accuracy_9: 0.090 - ETA: 2s - loss: 17.9233 - dense_3_loss: 2.6705 - dense_3_accuracy: 0.4069 - dense_3_accuracy_1: 0.6814 - dense_3_accuracy_2: 0.3048 - dense_3_accuracy_3: 0.0807 - dense_3_accuracy_4: 0.8578 - dense_3_accuracy_5: 0.2435 - dense_3_accuracy_6: 0.0306 - dense_3_accuracy_7: 0.9114 - dense_3_accuracy_8: 0.1843 - dense_3_accuracy_9: 0.091 - ETA: 2s - loss: 17.8467 - dense_3_loss: 2.6656 - dense_3_accuracy: 0.4133 - dense_3_accuracy_1: 0.6843 - dense_3_accuracy_2: 0.3064 - dense_3_accuracy_3: 0.0807 - dense_3_accuracy_4: 0.8595 - dense_3_accuracy_5: 0.2499 - dense_3_accuracy_6: 0.0317 - dense_3_accuracy_7: 0.9125 - dense_3_accuracy_8: 0.1869 - dense_3_accuracy_9: 0.091 - ETA: 2s - loss: 17.7704 - dense_3_loss: 2.6614 - dense_3_accuracy: 0.4191 - dense_3_accuracy_1: 0.6871 - dense_3_accuracy_2: 0.3079 - dense_3_accuracy_3: 0.0811 - dense_3_accuracy_4: 0.8612 - dense_3_accuracy_5: 0.2549 - dense_3_accuracy_6: 0.0329 - dense_3_accuracy_7: 0.9135 - dense_3_accuracy_8: 0.1902 - dense_3_accuracy_9: 0.092 - ETA: 1s - loss: 17.6957 - dense_3_loss: 2.6574 - dense_3_accuracy: 0.4244 - dense_3_accuracy_1: 0.6899 - dense_3_accuracy_2: 0.3102 - dense_3_accuracy_3: 0.0815 - dense_3_accuracy_4: 0.8628 - dense_3_accuracy_5: 0.2616 - dense_3_accuracy_6: 0.0333 - dense_3_accuracy_7: 0.9145 - dense_3_accuracy_8: 0.1917 - dense_3_accuracy_9: 0.092 - ETA: 1s - loss: 17.6209 - dense_3_loss: 2.6529 - dense_3_accuracy: 0.4306 - dense_3_accuracy_1: 0.6931 - dense_3_accuracy_2: 0.3113 - dense_3_accuracy_3: 0.0823 - dense_3_accuracy_4: 0.8644 - dense_3_accuracy_5: 0.2664 - dense_3_accuracy_6: 0.0348 - dense_3_accuracy_7: 0.9155 - dense_3_accuracy_8: 0.1936 - dense_3_accuracy_9: 0.092 - ETA: 1s - loss: 17.5466 - dense_3_loss: 2.6483 - dense_3_accuracy: 0.4364 - dense_3_accuracy_1: 0.6957 - dense_3_accuracy_2: 0.3120 - dense_3_accuracy_3: 0.0828 - dense_3_accuracy_4: 0.8659 - dense_3_accuracy_5: 0.2715 - dense_3_accuracy_6: 0.0366 - dense_3_accuracy_7: 0.9165 - dense_3_accuracy_8: 0.1951 - dense_3_accuracy_9: 0.093 - ETA: 1s - loss: 17.4729 - dense_3_loss: 2.6444 - dense_3_accuracy: 0.4421 - dense_3_accuracy_1: 0.6983 - dense_3_accuracy_2: 0.3134 - dense_3_accuracy_3: 0.0834 - dense_3_accuracy_4: 0.8674 - dense_3_accuracy_5: 0.2772 - dense_3_accuracy_6: 0.0374 - dense_3_accuracy_7: 0.9174 - dense_3_accuracy_8: 0.1979 - dense_3_accuracy_9: 0.094 - ETA: 1s - loss: 17.4007 - dense_3_loss: 2.6407 - dense_3_accuracy: 0.4478 - dense_3_accuracy_1: 0.7011 - dense_3_accuracy_2: 0.3151 - dense_3_accuracy_3: 0.0843 - dense_3_accuracy_4: 0.8689 - dense_3_accuracy_5: 0.2821 - dense_3_accuracy_6: 0.0383 - dense_3_accuracy_7: 0.9183 - dense_3_accuracy_8: 0.1998 - dense_3_accuracy_9: 0.094 - ETA: 1s - loss: 17.3310 - dense_3_loss: 2.6373 - dense_3_accuracy: 0.4526 - dense_3_accuracy_1: 0.7032 - dense_3_accuracy_2: 0.3158 - dense_3_accuracy_3: 0.0843 - dense_3_accuracy_4: 0.8703 - dense_3_accuracy_5: 0.2874 - dense_3_accuracy_6: 0.0400 - dense_3_accuracy_7: 0.9192 - dense_3_accuracy_8: 0.2016 - dense_3_accuracy_9: 0.094 - ETA: 1s - loss: 17.2598 - dense_3_loss: 2.6331 - dense_3_accuracy: 0.4575 - dense_3_accuracy_1: 0.7057 - dense_3_accuracy_2: 0.3176 - dense_3_accuracy_3: 0.0849 - dense_3_accuracy_4: 0.8717 - dense_3_accuracy_5: 0.2933 - dense_3_accuracy_6: 0.0418 - dense_3_accuracy_7: 0.9201 - dense_3_accuracy_8: 0.2033 - dense_3_accuracy_9: 0.096 - ETA: 0s - loss: 17.1921 - dense_3_loss: 2.6297 - dense_3_accuracy: 0.4627 - dense_3_accuracy_1: 0.7082 - dense_3_accuracy_2: 0.3187 - dense_3_accuracy_3: 0.0849 - dense_3_accuracy_4: 0.8731 - dense_3_accuracy_5: 0.2983 - dense_3_accuracy_6: 0.0437 - dense_3_accuracy_7: 0.9210 - dense_3_accuracy_8: 0.2044 - dense_3_accuracy_9: 0.096 - ETA: 0s - loss: 17.1225 - dense_3_loss: 2.6261 - dense_3_accuracy: 0.4677 - dense_3_accuracy_1: 0.7104 - dense_3_accuracy_2: 0.3198 - dense_3_accuracy_3: 0.0862 - dense_3_accuracy_4: 0.8745 - dense_3_accuracy_5: 0.3038 - dense_3_accuracy_6: 0.0446 - dense_3_accuracy_7: 0.9218 - dense_3_accuracy_8: 0.2066 - dense_3_accuracy_9: 0.097 - ETA: 0s - loss: 17.0574 - dense_3_loss: 2.6231 - dense_3_accuracy: 0.4725 - dense_3_accuracy_1: 0.7127 - dense_3_accuracy_2: 0.3208 - dense_3_accuracy_3: 0.0869 - dense_3_accuracy_4: 0.8758 - dense_3_accuracy_5: 0.3086 - dense_3_accuracy_6: 0.0455 - dense_3_accuracy_7: 0.9226 - dense_3_accuracy_8: 0.2082 - dense_3_accuracy_9: 0.097 - ETA: 0s - loss: 16.9909 - dense_3_loss: 2.6191 - dense_3_accuracy: 0.4775 - dense_3_accuracy_1: 0.7152 - dense_3_accuracy_2: 0.3218 - dense_3_accuracy_3: 0.0872 - dense_3_accuracy_4: 0.8771 - dense_3_accuracy_5: 0.3135 - dense_3_accuracy_6: 0.0470 - dense_3_accuracy_7: 0.9234 - dense_3_accuracy_8: 0.2108 - dense_3_accuracy_9: 0.097 - ETA: 0s - loss: 16.9275 - dense_3_loss: 2.6165 - dense_3_accuracy: 0.4821 - dense_3_accuracy_1: 0.7173 - dense_3_accuracy_2: 0.3238 - dense_3_accuracy_3: 0.0871 - dense_3_accuracy_4: 0.8784 - dense_3_accuracy_5: 0.3182 - dense_3_accuracy_6: 0.0479 - dense_3_accuracy_7: 0.9242 - dense_3_accuracy_8: 0.2135 - dense_3_accuracy_9: 0.097 - ETA: 0s - loss: 16.8626 - dense_3_loss: 2.6139 - dense_3_accuracy: 0.4864 - dense_3_accuracy_1: 0.7194 - dense_3_accuracy_2: 0.3253 - dense_3_accuracy_3: 0.0879 - dense_3_accuracy_4: 0.8796 - dense_3_accuracy_5: 0.3240 - dense_3_accuracy_6: 0.0499 - dense_3_accuracy_7: 0.9250 - dense_3_accuracy_8: 0.2149 - dense_3_accuracy_9: 0.097 - ETA: 0s - loss: 16.7964 - dense_3_loss: 2.6111 - dense_3_accuracy: 0.4910 - dense_3_accuracy_1: 0.7218 - dense_3_accuracy_2: 0.3274 - dense_3_accuracy_3: 0.0886 - dense_3_accuracy_4: 0.8808 - dense_3_accuracy_5: 0.3298 - dense_3_accuracy_6: 0.0512 - dense_3_accuracy_7: 0.9258 - dense_3_accuracy_8: 0.2167 - dense_3_accuracy_9: 0.0982"
     ]
    },
    {
     "name": "stdout",
     "output_type": "stream",
     "text": [
      "10000/10000 [==============================] - 13s 1ms/step - loss: 16.7338 - dense_3_loss: 2.6084 - dense_3_accuracy: 0.4958 - dense_3_accuracy_1: 0.7240 - dense_3_accuracy_2: 0.3293 - dense_3_accuracy_3: 0.0897 - dense_3_accuracy_4: 0.8820 - dense_3_accuracy_5: 0.3348 - dense_3_accuracy_6: 0.0528 - dense_3_accuracy_7: 0.9265 - dense_3_accuracy_8: 0.2186 - dense_3_accuracy_9: 0.0983\n"
     ]
    },
    {
     "data": {
      "text/plain": [
       "<keras.callbacks.callbacks.History at 0x20753e986c8>"
      ]
     },
     "execution_count": 36,
     "metadata": {},
     "output_type": "execute_result"
    }
   ],
   "source": [
    "model.fit([Xoh, s0, c0], outputs, epochs=1, batch_size=100)"
   ]
  },
  {
   "cell_type": "markdown",
   "metadata": {},
   "source": [
    "While training you can see the loss as well as the accuracy on each of the 10 positions of the output. The table below gives you an example of what the accuracies could be if the batch had 2 examples: \n",
    "\n",
    "<img src=\"images/table.png\" style=\"width:700;height:200px;\"> <br>\n",
    "<caption><center>Thus, `dense_2_acc_8: 0.89` means that you are predicting the 7th character of the output correctly 89% of the time in the current batch of data. </center></caption>\n",
    "\n",
    "\n",
    "We have run this model for longer, and saved the weights. Run the next cell to load our weights. (By training a model for several minutes, you should be able to obtain a model of similar accuracy, but loading our model will save you time.) "
   ]
  },
  {
   "cell_type": "code",
   "execution_count": 158,
   "metadata": {},
   "outputs": [],
   "source": [
    "model.load_weights('models/model.h5')"
   ]
  },
  {
   "cell_type": "code",
   "execution_count": 159,
   "metadata": {},
   "outputs": [
    {
     "data": {
      "text/plain": [
       "(30, 37)"
      ]
     },
     "execution_count": 159,
     "metadata": {},
     "output_type": "execute_result"
    }
   ],
   "source": [
    "Xoh[1].shape"
   ]
  },
  {
   "cell_type": "code",
   "execution_count": 160,
   "metadata": {},
   "outputs": [],
   "source": [
    "prediction = model.predict([Xoh, s0, c0])"
   ]
  },
  {
   "cell_type": "code",
   "execution_count": 161,
   "metadata": {},
   "outputs": [
    {
     "data": {
      "text/plain": [
       "10000"
      ]
     },
     "execution_count": 161,
     "metadata": {},
     "output_type": "execute_result"
    }
   ],
   "source": [
    "len(prediction[0])"
   ]
  },
  {
   "cell_type": "code",
   "execution_count": 162,
   "metadata": {},
   "outputs": [],
   "source": [
    "prediction = np.argmax(prediction, axis = -1)"
   ]
  },
  {
   "cell_type": "code",
   "execution_count": 174,
   "metadata": {},
   "outputs": [
    {
     "name": "stdout",
     "output_type": "stream",
     "text": [
      "[[ 2  3  2 ...  3  3  3]\n",
      " [10  1 10 ...  1  1  1]\n",
      " [10  2  8 ...  2  2  1]\n",
      " ...\n",
      " [ 0  0  0 ...  0  0  0]\n",
      " [ 1  2  2 ...  3  3  1]\n",
      " [10  1  1 ...  8  3 10]]\n"
     ]
    }
   ],
   "source": [
    "print(prediction)"
   ]
  },
  {
   "cell_type": "code",
   "execution_count": 175,
   "metadata": {},
   "outputs": [
    {
     "data": {
      "text/plain": [
       "10"
      ]
     },
     "execution_count": 175,
     "metadata": {},
     "output_type": "execute_result"
    }
   ],
   "source": [
    "len(prediction)"
   ]
  },
  {
   "cell_type": "code",
   "execution_count": 173,
   "metadata": {},
   "outputs": [
    {
     "data": {
      "text/plain": [
       "(10, 10000)"
      ]
     },
     "execution_count": 173,
     "metadata": {},
     "output_type": "execute_result"
    }
   ],
   "source": [
    "prediction.shape"
   ]
  },
  {
   "cell_type": "code",
   "execution_count": 184,
   "metadata": {},
   "outputs": [],
   "source": [
    "output=[]\n",
    "for i in range(len(prediction)):\n",
    "    out=inv_machine_vocab[prediction[i][0]]\n",
    "    output.append(out)"
   ]
  },
  {
   "cell_type": "code",
   "execution_count": 185,
   "metadata": {},
   "outputs": [
    {
     "name": "stdout",
     "output_type": "stream",
     "text": [
      "1 9 9 8 - 0 5 - 0 9\n"
     ]
    }
   ],
   "source": [
    "print(*output)"
   ]
  },
  {
   "cell_type": "code",
   "execution_count": 180,
   "metadata": {},
   "outputs": [],
   "source": [
    "output=[]\n",
    "for i in range(len(prediction)):\n",
    "    out=prediction[i][0]\n",
    "    output.append(out)"
   ]
  },
  {
   "cell_type": "code",
   "execution_count": 181,
   "metadata": {},
   "outputs": [
    {
     "data": {
      "text/plain": [
       "[2, 10, 10, 9, 0, 1, 6, 0, 1, 10]"
      ]
     },
     "execution_count": 181,
     "metadata": {},
     "output_type": "execute_result"
    }
   ],
   "source": [
    "output"
   ]
  },
  {
   "cell_type": "code",
   "execution_count": 179,
   "metadata": {},
   "outputs": [
    {
     "data": {
      "text/plain": [
       "array([ 2, 10, 10,  9,  0,  1,  6,  0,  1, 10])"
      ]
     },
     "execution_count": 179,
     "metadata": {},
     "output_type": "execute_result"
    }
   ],
   "source": [
    "Y[0]"
   ]
  },
  {
   "cell_type": "code",
   "execution_count": 118,
   "metadata": {},
   "outputs": [
    {
     "data": {
      "text/plain": [
       "{0: '-',\n",
       " 1: '0',\n",
       " 2: '1',\n",
       " 3: '2',\n",
       " 4: '3',\n",
       " 5: '4',\n",
       " 6: '5',\n",
       " 7: '6',\n",
       " 8: '7',\n",
       " 9: '8',\n",
       " 10: '9'}"
      ]
     },
     "execution_count": 118,
     "metadata": {},
     "output_type": "execute_result"
    }
   ],
   "source": [
    "inv_machine_vocab"
   ]
  },
  {
   "cell_type": "markdown",
   "metadata": {},
   "source": [
    "You can now see the results on new examples."
   ]
  },
  {
   "cell_type": "code",
   "execution_count": 123,
   "metadata": {},
   "outputs": [
    {
     "ename": "ValueError",
     "evalue": "Error when checking input: expected input_6 to have 3 dimensions, but got array with shape (30, 37)",
     "output_type": "error",
     "traceback": [
      "\u001b[1;31m---------------------------------------------------------------------------\u001b[0m",
      "\u001b[1;31mValueError\u001b[0m                                Traceback (most recent call last)",
      "\u001b[1;32m<ipython-input-123-fa5870838618>\u001b[0m in \u001b[0;36m<module>\u001b[1;34m\u001b[0m\n\u001b[0;32m      4\u001b[0m     \u001b[0msource\u001b[0m \u001b[1;33m=\u001b[0m \u001b[0mstring_to_int\u001b[0m\u001b[1;33m(\u001b[0m\u001b[0mexample\u001b[0m\u001b[1;33m,\u001b[0m \u001b[0mTx\u001b[0m\u001b[1;33m,\u001b[0m \u001b[0mhuman_vocab\u001b[0m\u001b[1;33m)\u001b[0m\u001b[1;33m\u001b[0m\u001b[1;33m\u001b[0m\u001b[0m\n\u001b[0;32m      5\u001b[0m     \u001b[0msource\u001b[0m \u001b[1;33m=\u001b[0m \u001b[0mnp\u001b[0m\u001b[1;33m.\u001b[0m\u001b[0marray\u001b[0m\u001b[1;33m(\u001b[0m\u001b[0mlist\u001b[0m\u001b[1;33m(\u001b[0m\u001b[0mmap\u001b[0m\u001b[1;33m(\u001b[0m\u001b[1;32mlambda\u001b[0m \u001b[0mx\u001b[0m\u001b[1;33m:\u001b[0m \u001b[0mto_categorical\u001b[0m\u001b[1;33m(\u001b[0m\u001b[0mx\u001b[0m\u001b[1;33m,\u001b[0m \u001b[0mnum_classes\u001b[0m\u001b[1;33m=\u001b[0m\u001b[0mlen\u001b[0m\u001b[1;33m(\u001b[0m\u001b[0mhuman_vocab\u001b[0m\u001b[1;33m)\u001b[0m\u001b[1;33m)\u001b[0m\u001b[1;33m,\u001b[0m \u001b[0msource\u001b[0m\u001b[1;33m)\u001b[0m\u001b[1;33m)\u001b[0m\u001b[1;33m)\u001b[0m\u001b[1;33m\u001b[0m\u001b[1;33m\u001b[0m\u001b[0m\n\u001b[1;32m----> 6\u001b[1;33m \u001b[0mprediction\u001b[0m \u001b[1;33m=\u001b[0m \u001b[0mmodel\u001b[0m\u001b[1;33m.\u001b[0m\u001b[0mpredict\u001b[0m\u001b[1;33m(\u001b[0m\u001b[1;33m[\u001b[0m\u001b[0msource\u001b[0m\u001b[1;33m,\u001b[0m \u001b[0ms0\u001b[0m\u001b[1;33m,\u001b[0m \u001b[0mc0\u001b[0m\u001b[1;33m]\u001b[0m\u001b[1;33m)\u001b[0m\u001b[1;33m\u001b[0m\u001b[1;33m\u001b[0m\u001b[0m\n\u001b[0m\u001b[0;32m      7\u001b[0m \u001b[0mprediction\u001b[0m \u001b[1;33m=\u001b[0m \u001b[0mnp\u001b[0m\u001b[1;33m.\u001b[0m\u001b[0margmax\u001b[0m\u001b[1;33m(\u001b[0m\u001b[0mprediction\u001b[0m\u001b[1;33m,\u001b[0m \u001b[0maxis\u001b[0m \u001b[1;33m=\u001b[0m \u001b[1;33m-\u001b[0m\u001b[1;36m1\u001b[0m\u001b[1;33m)\u001b[0m\u001b[1;33m\u001b[0m\u001b[1;33m\u001b[0m\u001b[0m\n\u001b[0;32m      8\u001b[0m \u001b[0moutput\u001b[0m \u001b[1;33m=\u001b[0m \u001b[1;33m[\u001b[0m\u001b[0minv_machine_vocab\u001b[0m\u001b[1;33m[\u001b[0m\u001b[0mint\u001b[0m\u001b[1;33m(\u001b[0m\u001b[0mi\u001b[0m\u001b[1;33m)\u001b[0m\u001b[1;33m]\u001b[0m \u001b[1;32mfor\u001b[0m \u001b[0mi\u001b[0m \u001b[1;32min\u001b[0m \u001b[0mprediction\u001b[0m\u001b[1;33m]\u001b[0m\u001b[1;33m\u001b[0m\u001b[1;33m\u001b[0m\u001b[0m\n",
      "\u001b[1;32m~\\Anaconda3\\lib\\site-packages\\keras\\engine\\training.py\u001b[0m in \u001b[0;36mpredict\u001b[1;34m(self, x, batch_size, verbose, steps, callbacks, max_queue_size, workers, use_multiprocessing)\u001b[0m\n\u001b[0;32m   1439\u001b[0m \u001b[1;33m\u001b[0m\u001b[0m\n\u001b[0;32m   1440\u001b[0m         \u001b[1;31m# Case 2: Symbolic tensors or Numpy array-like.\u001b[0m\u001b[1;33m\u001b[0m\u001b[1;33m\u001b[0m\u001b[1;33m\u001b[0m\u001b[0m\n\u001b[1;32m-> 1441\u001b[1;33m         \u001b[0mx\u001b[0m\u001b[1;33m,\u001b[0m \u001b[0m_\u001b[0m\u001b[1;33m,\u001b[0m \u001b[0m_\u001b[0m \u001b[1;33m=\u001b[0m \u001b[0mself\u001b[0m\u001b[1;33m.\u001b[0m\u001b[0m_standardize_user_data\u001b[0m\u001b[1;33m(\u001b[0m\u001b[0mx\u001b[0m\u001b[1;33m)\u001b[0m\u001b[1;33m\u001b[0m\u001b[1;33m\u001b[0m\u001b[0m\n\u001b[0m\u001b[0;32m   1442\u001b[0m         \u001b[1;32mif\u001b[0m \u001b[0mself\u001b[0m\u001b[1;33m.\u001b[0m\u001b[0mstateful\u001b[0m\u001b[1;33m:\u001b[0m\u001b[1;33m\u001b[0m\u001b[1;33m\u001b[0m\u001b[0m\n\u001b[0;32m   1443\u001b[0m             \u001b[1;32mif\u001b[0m \u001b[0mx\u001b[0m\u001b[1;33m[\u001b[0m\u001b[1;36m0\u001b[0m\u001b[1;33m]\u001b[0m\u001b[1;33m.\u001b[0m\u001b[0mshape\u001b[0m\u001b[1;33m[\u001b[0m\u001b[1;36m0\u001b[0m\u001b[1;33m]\u001b[0m \u001b[1;33m>\u001b[0m \u001b[0mbatch_size\u001b[0m \u001b[1;32mand\u001b[0m \u001b[0mx\u001b[0m\u001b[1;33m[\u001b[0m\u001b[1;36m0\u001b[0m\u001b[1;33m]\u001b[0m\u001b[1;33m.\u001b[0m\u001b[0mshape\u001b[0m\u001b[1;33m[\u001b[0m\u001b[1;36m0\u001b[0m\u001b[1;33m]\u001b[0m \u001b[1;33m%\u001b[0m \u001b[0mbatch_size\u001b[0m \u001b[1;33m!=\u001b[0m \u001b[1;36m0\u001b[0m\u001b[1;33m:\u001b[0m\u001b[1;33m\u001b[0m\u001b[1;33m\u001b[0m\u001b[0m\n",
      "\u001b[1;32m~\\Anaconda3\\lib\\site-packages\\keras\\engine\\training.py\u001b[0m in \u001b[0;36m_standardize_user_data\u001b[1;34m(self, x, y, sample_weight, class_weight, check_array_lengths, batch_size)\u001b[0m\n\u001b[0;32m    577\u001b[0m             \u001b[0mfeed_input_shapes\u001b[0m\u001b[1;33m,\u001b[0m\u001b[1;33m\u001b[0m\u001b[1;33m\u001b[0m\u001b[0m\n\u001b[0;32m    578\u001b[0m             \u001b[0mcheck_batch_axis\u001b[0m\u001b[1;33m=\u001b[0m\u001b[1;32mFalse\u001b[0m\u001b[1;33m,\u001b[0m  \u001b[1;31m# Don't enforce the batch size.\u001b[0m\u001b[1;33m\u001b[0m\u001b[1;33m\u001b[0m\u001b[0m\n\u001b[1;32m--> 579\u001b[1;33m             exception_prefix='input')\n\u001b[0m\u001b[0;32m    580\u001b[0m \u001b[1;33m\u001b[0m\u001b[0m\n\u001b[0;32m    581\u001b[0m         \u001b[1;32mif\u001b[0m \u001b[0my\u001b[0m \u001b[1;32mis\u001b[0m \u001b[1;32mnot\u001b[0m \u001b[1;32mNone\u001b[0m\u001b[1;33m:\u001b[0m\u001b[1;33m\u001b[0m\u001b[1;33m\u001b[0m\u001b[0m\n",
      "\u001b[1;32m~\\Anaconda3\\lib\\site-packages\\keras\\engine\\training_utils.py\u001b[0m in \u001b[0;36mstandardize_input_data\u001b[1;34m(data, names, shapes, check_batch_axis, exception_prefix)\u001b[0m\n\u001b[0;32m    133\u001b[0m                         \u001b[1;34m': expected '\u001b[0m \u001b[1;33m+\u001b[0m \u001b[0mnames\u001b[0m\u001b[1;33m[\u001b[0m\u001b[0mi\u001b[0m\u001b[1;33m]\u001b[0m \u001b[1;33m+\u001b[0m \u001b[1;34m' to have '\u001b[0m \u001b[1;33m+\u001b[0m\u001b[1;33m\u001b[0m\u001b[1;33m\u001b[0m\u001b[0m\n\u001b[0;32m    134\u001b[0m                         \u001b[0mstr\u001b[0m\u001b[1;33m(\u001b[0m\u001b[0mlen\u001b[0m\u001b[1;33m(\u001b[0m\u001b[0mshape\u001b[0m\u001b[1;33m)\u001b[0m\u001b[1;33m)\u001b[0m \u001b[1;33m+\u001b[0m \u001b[1;34m' dimensions, but got array '\u001b[0m\u001b[1;33m\u001b[0m\u001b[1;33m\u001b[0m\u001b[0m\n\u001b[1;32m--> 135\u001b[1;33m                         'with shape ' + str(data_shape))\n\u001b[0m\u001b[0;32m    136\u001b[0m                 \u001b[1;32mif\u001b[0m \u001b[1;32mnot\u001b[0m \u001b[0mcheck_batch_axis\u001b[0m\u001b[1;33m:\u001b[0m\u001b[1;33m\u001b[0m\u001b[1;33m\u001b[0m\u001b[0m\n\u001b[0;32m    137\u001b[0m                     \u001b[0mdata_shape\u001b[0m \u001b[1;33m=\u001b[0m \u001b[0mdata_shape\u001b[0m\u001b[1;33m[\u001b[0m\u001b[1;36m1\u001b[0m\u001b[1;33m:\u001b[0m\u001b[1;33m]\u001b[0m\u001b[1;33m\u001b[0m\u001b[1;33m\u001b[0m\u001b[0m\n",
      "\u001b[1;31mValueError\u001b[0m: Error when checking input: expected input_6 to have 3 dimensions, but got array with shape (30, 37)"
     ]
    }
   ],
   "source": [
    "EXAMPLES = ['3 May 1979', '5 April 09', '21th of August 2016', 'Tue 10 Jul 2007', 'Saturday May 9 2018', 'March 3 2001', 'March 3rd 2001', '1 March 2001']\n",
    "for example in EXAMPLES:\n",
    "    \n",
    "    source = string_to_int(example, Tx, human_vocab)\n",
    "    source = np.array(list(map(lambda x: to_categorical(x, num_classes=len(human_vocab)), source))).swapaxes(0,1)\n",
    "    print(source.shape)\n",
    "    prediction = model.predict([source, s0, c0])\n",
    "    prediction = np.argmax(prediction, axis = -1)\n",
    "    output = [inv_machine_vocab[int(i)] for i in prediction]\n",
    "    \n",
    "    print(\"source:\", example)\n",
    "    print(\"output:\", ''.join(output),\"\\n\")"
   ]
  },
  {
   "cell_type": "markdown",
   "metadata": {},
   "source": [
    "You can also change these examples to test with your own examples. The next part will give you a better sense of what the attention mechanism is doing--i.e., what part of the input the network is paying attention to when generating a particular output character. "
   ]
  },
  {
   "cell_type": "markdown",
   "metadata": {},
   "source": [
    "## 3 - Visualizing Attention (Optional / Ungraded)\n",
    "\n",
    "Since the problem has a fixed output length of 10, it is also possible to carry out this task using 10 different softmax units to generate the 10 characters of the output. But one advantage of the attention model is that each part of the output (such as the month) knows it needs to depend only on a small part of the input (the characters in the input giving the month). We can  visualize what each part of the output is looking at which part of the input.\n",
    "\n",
    "Consider the task of translating \"Saturday 9 May 2018\" to \"2018-05-09\". If we visualize the computed $\\alpha^{\\langle t, t' \\rangle}$ we get this: \n",
    "\n",
    "<img src=\"images/date_attention.png\" style=\"width:600;height:300px;\"> <br>\n",
    "<caption><center> **Figure 8**: Full Attention Map</center></caption>\n",
    "\n",
    "Notice how the output ignores the \"Saturday\" portion of the input. None of the output timesteps are paying much attention to that portion of the input. We also see that 9 has been translated as 09 and May has been correctly translated into 05, with the output paying attention to the parts of the input it needs to to make the translation. The year mostly requires it to pay attention to the input's \"18\" in order to generate \"2018.\" "
   ]
  },
  {
   "cell_type": "markdown",
   "metadata": {},
   "source": [
    "### 3.1 - Getting the attention weights from the network\n",
    "\n",
    "Lets now visualize the attention values in your network. We'll propagate an example through the network, then visualize the values of $\\alpha^{\\langle t, t' \\rangle}$. \n",
    "\n",
    "To figure out where the attention values are located, let's start by printing a summary of the model ."
   ]
  },
  {
   "cell_type": "code",
   "execution_count": 40,
   "metadata": {},
   "outputs": [
    {
     "name": "stdout",
     "output_type": "stream",
     "text": [
      "Model: \"model_1\"\n",
      "__________________________________________________________________________________________________\n",
      "Layer (type)                    Output Shape         Param #     Connected to                     \n",
      "==================================================================================================\n",
      "input_1 (InputLayer)            (None, 30, 37)       0                                            \n",
      "__________________________________________________________________________________________________\n",
      "s0 (InputLayer)                 (None, 64)           0                                            \n",
      "__________________________________________________________________________________________________\n",
      "bidirectional_1 (Bidirectional) (None, 30, 64)       17920       input_1[0][0]                    \n",
      "__________________________________________________________________________________________________\n",
      "repeat_vector_1 (RepeatVector)  (None, 30, 64)       0           s0[0][0]                         \n",
      "                                                                 lstm_1[0][0]                     \n",
      "                                                                 lstm_1[1][0]                     \n",
      "                                                                 lstm_1[2][0]                     \n",
      "                                                                 lstm_1[3][0]                     \n",
      "                                                                 lstm_1[4][0]                     \n",
      "                                                                 lstm_1[5][0]                     \n",
      "                                                                 lstm_1[6][0]                     \n",
      "                                                                 lstm_1[7][0]                     \n",
      "                                                                 lstm_1[8][0]                     \n",
      "__________________________________________________________________________________________________\n",
      "concatenate_1 (Concatenate)     (None, 30, 128)      0           bidirectional_1[0][0]            \n",
      "                                                                 repeat_vector_1[0][0]            \n",
      "                                                                 bidirectional_1[0][0]            \n",
      "                                                                 repeat_vector_1[1][0]            \n",
      "                                                                 bidirectional_1[0][0]            \n",
      "                                                                 repeat_vector_1[2][0]            \n",
      "                                                                 bidirectional_1[0][0]            \n",
      "                                                                 repeat_vector_1[3][0]            \n",
      "                                                                 bidirectional_1[0][0]            \n",
      "                                                                 repeat_vector_1[4][0]            \n",
      "                                                                 bidirectional_1[0][0]            \n",
      "                                                                 repeat_vector_1[5][0]            \n",
      "                                                                 bidirectional_1[0][0]            \n",
      "                                                                 repeat_vector_1[6][0]            \n",
      "                                                                 bidirectional_1[0][0]            \n",
      "                                                                 repeat_vector_1[7][0]            \n",
      "                                                                 bidirectional_1[0][0]            \n",
      "                                                                 repeat_vector_1[8][0]            \n",
      "                                                                 bidirectional_1[0][0]            \n",
      "                                                                 repeat_vector_1[9][0]            \n",
      "__________________________________________________________________________________________________\n",
      "dense_1 (Dense)                 (None, 30, 10)       1290        concatenate_1[0][0]              \n",
      "                                                                 concatenate_1[1][0]              \n",
      "                                                                 concatenate_1[2][0]              \n",
      "                                                                 concatenate_1[3][0]              \n",
      "                                                                 concatenate_1[4][0]              \n",
      "                                                                 concatenate_1[5][0]              \n",
      "                                                                 concatenate_1[6][0]              \n",
      "                                                                 concatenate_1[7][0]              \n",
      "                                                                 concatenate_1[8][0]              \n",
      "                                                                 concatenate_1[9][0]              \n",
      "__________________________________________________________________________________________________\n",
      "dense_2 (Dense)                 (None, 30, 1)        11          dense_1[0][0]                    \n",
      "                                                                 dense_1[1][0]                    \n",
      "                                                                 dense_1[2][0]                    \n",
      "                                                                 dense_1[3][0]                    \n",
      "                                                                 dense_1[4][0]                    \n",
      "                                                                 dense_1[5][0]                    \n",
      "                                                                 dense_1[6][0]                    \n",
      "                                                                 dense_1[7][0]                    \n",
      "                                                                 dense_1[8][0]                    \n",
      "                                                                 dense_1[9][0]                    \n",
      "__________________________________________________________________________________________________\n",
      "attention_weights (Activation)  (None, 30, 1)        0           dense_2[0][0]                    \n",
      "                                                                 dense_2[1][0]                    \n",
      "                                                                 dense_2[2][0]                    \n",
      "                                                                 dense_2[3][0]                    \n",
      "                                                                 dense_2[4][0]                    \n",
      "                                                                 dense_2[5][0]                    \n",
      "                                                                 dense_2[6][0]                    \n",
      "                                                                 dense_2[7][0]                    \n",
      "                                                                 dense_2[8][0]                    \n",
      "                                                                 dense_2[9][0]                    \n",
      "__________________________________________________________________________________________________\n",
      "dot_1 (Dot)                     (None, 1, 64)        0           attention_weights[0][0]          \n",
      "                                                                 bidirectional_1[0][0]            \n",
      "                                                                 attention_weights[1][0]          \n",
      "                                                                 bidirectional_1[0][0]            \n",
      "                                                                 attention_weights[2][0]          \n",
      "                                                                 bidirectional_1[0][0]            \n",
      "                                                                 attention_weights[3][0]          \n",
      "                                                                 bidirectional_1[0][0]            \n",
      "                                                                 attention_weights[4][0]          \n",
      "                                                                 bidirectional_1[0][0]            \n",
      "                                                                 attention_weights[5][0]          \n",
      "                                                                 bidirectional_1[0][0]            \n",
      "                                                                 attention_weights[6][0]          \n",
      "                                                                 bidirectional_1[0][0]            \n",
      "                                                                 attention_weights[7][0]          \n",
      "                                                                 bidirectional_1[0][0]            \n",
      "                                                                 attention_weights[8][0]          \n",
      "                                                                 bidirectional_1[0][0]            \n",
      "                                                                 attention_weights[9][0]          \n",
      "                                                                 bidirectional_1[0][0]            \n",
      "__________________________________________________________________________________________________\n",
      "c0 (InputLayer)                 (None, 64)           0                                            \n",
      "__________________________________________________________________________________________________\n",
      "lstm_1 (LSTM)                   [(None, 64), (None,  33024       dot_1[0][0]                      \n",
      "                                                                 s0[0][0]                         \n",
      "                                                                 c0[0][0]                         \n",
      "                                                                 dot_1[1][0]                      \n",
      "                                                                 lstm_1[0][0]                     \n",
      "                                                                 lstm_1[0][2]                     \n",
      "                                                                 dot_1[2][0]                      \n",
      "                                                                 lstm_1[1][0]                     \n",
      "                                                                 lstm_1[1][2]                     \n",
      "                                                                 dot_1[3][0]                      \n",
      "                                                                 lstm_1[2][0]                     \n",
      "                                                                 lstm_1[2][2]                     \n",
      "                                                                 dot_1[4][0]                      \n",
      "                                                                 lstm_1[3][0]                     \n",
      "                                                                 lstm_1[3][2]                     \n",
      "                                                                 dot_1[5][0]                      \n",
      "                                                                 lstm_1[4][0]                     \n",
      "                                                                 lstm_1[4][2]                     \n",
      "                                                                 dot_1[6][0]                      \n",
      "                                                                 lstm_1[5][0]                     \n",
      "                                                                 lstm_1[5][2]                     \n",
      "                                                                 dot_1[7][0]                      \n",
      "                                                                 lstm_1[6][0]                     \n",
      "                                                                 lstm_1[6][2]                     \n",
      "                                                                 dot_1[8][0]                      \n",
      "                                                                 lstm_1[7][0]                     \n",
      "                                                                 lstm_1[7][2]                     \n",
      "                                                                 dot_1[9][0]                      \n",
      "                                                                 lstm_1[8][0]                     \n",
      "                                                                 lstm_1[8][2]                     \n",
      "__________________________________________________________________________________________________\n",
      "dense_3 (Dense)                 (None, 11)           715         lstm_1[0][0]                     \n",
      "                                                                 lstm_1[1][0]                     \n",
      "                                                                 lstm_1[2][0]                     \n",
      "                                                                 lstm_1[3][0]                     \n",
      "                                                                 lstm_1[4][0]                     \n",
      "                                                                 lstm_1[5][0]                     \n",
      "                                                                 lstm_1[6][0]                     \n",
      "                                                                 lstm_1[7][0]                     \n",
      "                                                                 lstm_1[8][0]                     \n",
      "                                                                 lstm_1[9][0]                     \n",
      "==================================================================================================\n",
      "Total params: 52,960\n",
      "Trainable params: 52,960\n",
      "Non-trainable params: 0\n",
      "__________________________________________________________________________________________________\n"
     ]
    }
   ],
   "source": [
    "model.summary()"
   ]
  },
  {
   "cell_type": "markdown",
   "metadata": {},
   "source": [
    "Navigate through the output of `model.summary()` above. You can see that the layer named `attention_weights` outputs the `alphas` of shape (m, 30, 1) before `dot_2` computes the context vector for every time step $t = 0, \\ldots, T_y-1$. Let's get the attention weights from this layer.\n",
    "\n",
    "The function `attention_map()` pulls out the attention values from your model and plots them."
   ]
  },
  {
   "cell_type": "code",
   "execution_count": 41,
   "metadata": {
    "scrolled": false
   },
   "outputs": [
    {
     "data": {
      "text/plain": [
       "<Figure size 432x288 with 0 Axes>"
      ]
     },
     "metadata": {},
     "output_type": "display_data"
    },
    {
     "data": {
      "image/png": "[encoded data removed]",
      "text/plain": [
       "<Figure size 576x612 with 2 Axes>"
      ]
     },
     "metadata": {
      "needs_background": "light"
     },
     "output_type": "display_data"
    }
   ],
   "source": [
    "attention_map = plot_attention_map(model, human_vocab, inv_machine_vocab, \"Tuesday 09 Oct 1993\", num = 7, n_s = 64);"
   ]
  },
  {
   "cell_type": "markdown",
   "metadata": {},
   "source": [
    "On the generated plot you can observe the values of the attention weights for each character of the predicted output. Examine this plot and check that the places where the network is paying attention makes sense to you.\n",
    "\n",
    "In the date translation application, you will observe that most of the time attention helps predict the year, and doesn't have much impact on predicting the day or month."
   ]
  },
  {
   "cell_type": "markdown",
   "metadata": {},
   "source": [
    "### Congratulations!\n",
    "\n",
    "\n",
    "You have come to the end of this assignment \n",
    "\n",
    "## Here's what you should remember\n",
    "\n",
    "- Machine translation models can be used to map from one sequence to another. They are useful not just for translating human languages (like French->English) but also for tasks like date format translation. \n",
    "- An attention mechanism allows a network to focus on the most relevant parts of the input when producing a specific part of the output. \n",
    "- A network using an attention mechanism can translate from inputs of length $T_x$ to outputs of length $T_y$, where $T_x$ and $T_y$ can be different. \n",
    "- You can visualize attention weights $\\alpha^{\\langle t,t' \\rangle}$ to see what the network is paying attention to while generating each output."
   ]
  },
  {
   "cell_type": "markdown",
   "metadata": {},
   "source": [
    "Congratulations on finishing this assignment! You are now able to implement an attention model and use it to learn complex mappings from one sequence to another. "
   ]
  }
 ],
 "metadata": {
  "coursera": {
   "course_slug": "nlp-sequence-models",
   "graded_item_id": "n16CQ",
   "launcher_item_id": "npjGi"
  },
  "kernelspec": {
   "display_name": "Python 3",
   "language": "python",
   "name": "python3"
  },
  "language_info": {
   "codemirror_mode": {
    "name": "ipython",
    "version": 3
   },
   "file_extension": ".py",
   "mimetype": "text/x-python",
   "name": "python",
   "nbconvert_exporter": "python",
   "pygments_lexer": "ipython3",
   "version": "3.7.4"
  }
 },
 "nbformat": 4,
 "nbformat_minor": 2
}
