{
 "cells": [
  {
   "cell_type": "code",
   "execution_count": 1,
   "metadata": {},
   "outputs": [
    {
     "name": "stderr",
     "output_type": "stream",
     "text": [
      "Using TensorFlow backend.\n"
     ]
    }
   ],
   "source": [
    "from keras.layers import Bidirectional, Concatenate, Permute, Dot, Input, LSTM, Multiply\n",
    "from keras.layers import RepeatVector, Dense, Activation, Lambda\n",
    "from keras.optimizers import Adam\n",
    "from keras.utils import to_categorical\n",
    "from keras.models import load_model, Model\n",
    "import keras.backend as K\n",
    "import numpy as np\n",
    "\n",
    "from faker import Faker\n",
    "import random\n",
    "from tqdm import tqdm\n",
    "from babel.dates import format_date\n",
    "from nmt_utils import *\n",
    "import matplotlib.pyplot as plt\n",
    "%matplotlib inline"
   ]
  },
  {
   "cell_type": "code",
   "execution_count": 2,
   "metadata": {},
   "outputs": [],
   "source": [
    "fake = Faker()\n",
    "Faker.seed(12345)\n",
    "random.seed(12345)"
   ]
  },
  {
   "cell_type": "code",
   "execution_count": 3,
   "metadata": {},
   "outputs": [],
   "source": [
    "def load_datee():\n",
    "    \"\"\"\n",
    "        Loads some fake dates \n",
    "        :returns: tuple containing human readable string, machine readable string, and date object\n",
    "    \"\"\"\n",
    "    dt = fake.date_object()\n",
    "\n",
    "    try:\n",
    "        human_readable = format_date(dt, format=random.choice(FORMATS),  locale='en_US') # locale=random.choice(LOCALES))\n",
    "        human_readable = human_readable.lower()\n",
    "        human_readable = human_readable.replace(',','')\n",
    "        machine_readable = dt.isoformat()\n",
    "        \n",
    "    except AttributeError as e:\n",
    "        return None, None, None\n",
    "\n",
    "    return human_readable, machine_readable, dt"
   ]
  },
  {
   "cell_type": "code",
   "execution_count": 4,
   "metadata": {},
   "outputs": [],
   "source": [
    "def load_datasett(m):\n",
    "    \"\"\"\n",
    "        Loads a dataset with m examples and vocabularies\n",
    "        :m: the number of examples to generate\n",
    "    \"\"\"\n",
    "    \n",
    "    human_vocab = set()\n",
    "    machine_vocab = set()\n",
    "    dataset = []\n",
    "    Tx = 30\n",
    "    \n",
    "\n",
    "    for i in tqdm(range(m)):\n",
    "        h, m, _ = load_datee()\n",
    "        if h is not None:\n",
    "            dataset.append((h, m))\n",
    "            human_vocab.update(tuple(h))\n",
    "            machine_vocab.update(tuple(m))\n",
    "    \n",
    "    human = dict(zip(sorted(human_vocab) + ['<unk>', '<pad>'], \n",
    "                     list(range(len(human_vocab) + 2))))\n",
    "    inv_machine = dict(enumerate(sorted(machine_vocab)))\n",
    "    machine = {v:k for k,v in inv_machine.items()}\n",
    " \n",
    "    return dataset, human, machine, inv_machine\n"
   ]
  },
  {
   "cell_type": "code",
   "execution_count": 5,
   "metadata": {},
   "outputs": [
    {
     "name": "stderr",
     "output_type": "stream",
     "text": [
      "100%|██████████| 10000/10000 [00:00<00:00, 27176.48it/s]\n"
     ]
    }
   ],
   "source": [
    "m = 10000\n",
    "dataset, human_vocab, machine_vocab, inv_machine_vocab = load_datasett(m)"
   ]
  },
  {
   "cell_type": "code",
   "execution_count": 6,
   "metadata": {},
   "outputs": [
    {
     "data": {
      "text/plain": [
       "10000"
      ]
     },
     "execution_count": 6,
     "metadata": {},
     "output_type": "execute_result"
    }
   ],
   "source": [
    "len(dataset)"
   ]
  },
  {
   "cell_type": "code",
   "execution_count": 7,
   "metadata": {},
   "outputs": [
    {
     "data": {
      "text/plain": [
       "37"
      ]
     },
     "execution_count": 7,
     "metadata": {},
     "output_type": "execute_result"
    }
   ],
   "source": [
    "len(human_vocab)"
   ]
  },
  {
   "cell_type": "code",
   "execution_count": 8,
   "metadata": {},
   "outputs": [
    {
     "data": {
      "text/plain": [
       "11"
      ]
     },
     "execution_count": 8,
     "metadata": {},
     "output_type": "execute_result"
    }
   ],
   "source": [
    "len(machine_vocab)"
   ]
  },
  {
   "cell_type": "code",
   "execution_count": 9,
   "metadata": {},
   "outputs": [
    {
     "data": {
      "text/plain": [
       "{' ': 0,\n",
       " '.': 1,\n",
       " '/': 2,\n",
       " '0': 3,\n",
       " '1': 4,\n",
       " '2': 5,\n",
       " '3': 6,\n",
       " '4': 7,\n",
       " '5': 8,\n",
       " '6': 9,\n",
       " '7': 10,\n",
       " '8': 11,\n",
       " '9': 12,\n",
       " 'a': 13,\n",
       " 'b': 14,\n",
       " 'c': 15,\n",
       " 'd': 16,\n",
       " 'e': 17,\n",
       " 'f': 18,\n",
       " 'g': 19,\n",
       " 'h': 20,\n",
       " 'i': 21,\n",
       " 'j': 22,\n",
       " 'l': 23,\n",
       " 'm': 24,\n",
       " 'n': 25,\n",
       " 'o': 26,\n",
       " 'p': 27,\n",
       " 'r': 28,\n",
       " 's': 29,\n",
       " 't': 30,\n",
       " 'u': 31,\n",
       " 'v': 32,\n",
       " 'w': 33,\n",
       " 'y': 34,\n",
       " '<unk>': 35,\n",
       " '<pad>': 36}"
      ]
     },
     "execution_count": 9,
     "metadata": {},
     "output_type": "execute_result"
    }
   ],
   "source": [
    "human_vocab"
   ]
  },
  {
   "cell_type": "code",
   "execution_count": 10,
   "metadata": {},
   "outputs": [
    {
     "data": {
      "text/plain": [
       "{'-': 0,\n",
       " '0': 1,\n",
       " '1': 2,\n",
       " '2': 3,\n",
       " '3': 4,\n",
       " '4': 5,\n",
       " '5': 6,\n",
       " '6': 7,\n",
       " '7': 8,\n",
       " '8': 9,\n",
       " '9': 10}"
      ]
     },
     "execution_count": 10,
     "metadata": {},
     "output_type": "execute_result"
    }
   ],
   "source": [
    "machine_vocab"
   ]
  },
  {
   "cell_type": "code",
   "execution_count": 11,
   "metadata": {},
   "outputs": [
    {
     "data": {
      "text/plain": [
       "{0: '-',\n",
       " 1: '0',\n",
       " 2: '1',\n",
       " 3: '2',\n",
       " 4: '3',\n",
       " 5: '4',\n",
       " 6: '5',\n",
       " 7: '6',\n",
       " 8: '7',\n",
       " 9: '8',\n",
       " 10: '9'}"
      ]
     },
     "execution_count": 11,
     "metadata": {},
     "output_type": "execute_result"
    }
   ],
   "source": [
    "inv_machine_vocab"
   ]
  },
  {
   "cell_type": "code",
   "execution_count": 12,
   "metadata": {},
   "outputs": [
    {
     "name": "stdout",
     "output_type": "stream",
     "text": [
      "('9 may 1998', '1998-05-09')\n",
      "('10.11.19', '2019-11-10')\n",
      "('9/10/70', '1970-09-10')\n",
      "('saturday april 28 1990', '1990-04-28')\n",
      "('thursday january 26 1995', '1995-01-26')\n",
      "('monday march 7 1983', '1983-03-07')\n",
      "('sunday may 22 1988', '1988-05-22')\n",
      "('08 jul 2008', '2008-07-08')\n",
      "('8 sep 1999', '1999-09-08')\n",
      "('thursday january 1 1981', '1981-01-01')\n"
     ]
    }
   ],
   "source": [
    "for i in range(10):\n",
    "    print(dataset[i])"
   ]
  },
  {
   "cell_type": "code",
   "execution_count": 13,
   "metadata": {},
   "outputs": [
    {
     "data": {
      "text/plain": [
       "'9 may 1998'"
      ]
     },
     "execution_count": 13,
     "metadata": {},
     "output_type": "execute_result"
    }
   ],
   "source": [
    "dataset[0][0]"
   ]
  },
  {
   "cell_type": "code",
   "execution_count": 14,
   "metadata": {},
   "outputs": [],
   "source": [
    "X=[]\n",
    "for i in range(len(dataset[0][0])):\n",
    "    X.append(human_vocab[dataset[0][0][i]])\n",
    "a=30-len(dataset[0][0])\n",
    "for i in range(a):\n",
    "    X.append(36)"
   ]
  },
  {
   "cell_type": "code",
   "execution_count": 15,
   "metadata": {},
   "outputs": [
    {
     "name": "stdout",
     "output_type": "stream",
     "text": [
      "[12, 0, 24, 13, 34, 0, 4, 12, 12, 11, 36, 36, 36, 36, 36, 36, 36, 36, 36, 36, 36, 36, 36, 36, 36, 36, 36, 36, 36, 36]\n"
     ]
    }
   ],
   "source": [
    "print(X)"
   ]
  },
  {
   "cell_type": "code",
   "execution_count": 16,
   "metadata": {},
   "outputs": [
    {
     "data": {
      "text/plain": [
       "array([12,  0, 24, 13, 34,  0,  4, 12, 12, 11, 36, 36, 36, 36, 36, 36, 36,\n",
       "       36, 36, 36, 36, 36, 36, 36, 36, 36, 36, 36, 36, 36])"
      ]
     },
     "execution_count": 16,
     "metadata": {},
     "output_type": "execute_result"
    }
   ],
   "source": [
    "np.asarray(X)"
   ]
  },
  {
   "cell_type": "code",
   "execution_count": 17,
   "metadata": {},
   "outputs": [],
   "source": [
    "def preprocess_data_X(dataset,human_vocab):\n",
    "    X_data=[]\n",
    "    for i in range(len(dataset)):\n",
    "        X=[]\n",
    "        for j in range(len(dataset[i][0])):\n",
    "            X.append(human_vocab[dataset[i][0][j]])\n",
    "        a=30-len(dataset[i][0])\n",
    "        for k in range(a):\n",
    "            X.append(36)\n",
    "        X=np.asarray(X)\n",
    "        X_data.append(X)\n",
    "    return X_data"
   ]
  },
  {
   "cell_type": "code",
   "execution_count": 18,
   "metadata": {},
   "outputs": [],
   "source": [
    "X=preprocess_data_X(dataset,human_vocab)\n",
    "X=np.asarray(X)"
   ]
  },
  {
   "cell_type": "code",
   "execution_count": 19,
   "metadata": {},
   "outputs": [
    {
     "data": {
      "text/plain": [
       "(10000, 30)"
      ]
     },
     "execution_count": 19,
     "metadata": {},
     "output_type": "execute_result"
    }
   ],
   "source": [
    "X.shape"
   ]
  },
  {
   "cell_type": "code",
   "execution_count": 20,
   "metadata": {},
   "outputs": [],
   "source": [
    "def preprocess_data_Y(dataset,machine_vocab):\n",
    "    Y_data=[]\n",
    "    for i in range(len(dataset)):\n",
    "        Y=[]\n",
    "        for j in range(len(dataset[i][1])):\n",
    "            Y.append(machine_vocab[dataset[i][1][j]])\n",
    "        Y=np.asarray(Y)\n",
    "        Y_data.append(Y)\n",
    "    return Y_data"
   ]
  },
  {
   "cell_type": "code",
   "execution_count": 21,
   "metadata": {},
   "outputs": [],
   "source": [
    "Y=preprocess_data_Y(dataset,machine_vocab)\n",
    "Y=np.asarray(Y)"
   ]
  },
  {
   "cell_type": "code",
   "execution_count": 22,
   "metadata": {},
   "outputs": [
    {
     "data": {
      "text/plain": [
       "(10000, 10)"
      ]
     },
     "execution_count": 22,
     "metadata": {},
     "output_type": "execute_result"
    }
   ],
   "source": [
    "Y.shape"
   ]
  },
  {
   "cell_type": "code",
   "execution_count": 23,
   "metadata": {},
   "outputs": [],
   "source": [
    "X_oh = np.array(list(map(lambda x: to_categorical(x, num_classes=len(human_vocab)), X)))\n",
    "Y_oh = np.array(list(map(lambda x: to_categorical(x, num_classes=len(machine_vocab)), Y)))"
   ]
  },
  {
   "cell_type": "code",
   "execution_count": 24,
   "metadata": {},
   "outputs": [
    {
     "data": {
      "text/plain": [
       "(10000, 30, 37)"
      ]
     },
     "execution_count": 24,
     "metadata": {},
     "output_type": "execute_result"
    }
   ],
   "source": [
    "X_oh.shape"
   ]
  },
  {
   "cell_type": "code",
   "execution_count": 25,
   "metadata": {},
   "outputs": [
    {
     "data": {
      "text/plain": [
       "(10000, 10, 11)"
      ]
     },
     "execution_count": 25,
     "metadata": {},
     "output_type": "execute_result"
    }
   ],
   "source": [
    "Y_oh.shape"
   ]
  },
  {
   "cell_type": "code",
   "execution_count": 26,
   "metadata": {},
   "outputs": [],
   "source": [
    "Tx=30\n",
    "Ty=10\n",
    "n_a=32\n",
    "n_s=64"
   ]
  },
  {
   "cell_type": "code",
   "execution_count": 27,
   "metadata": {},
   "outputs": [],
   "source": [
    "# creating layers globally for attention mechanism\n",
    "repeat_layer = RepeatVector(Tx)\n",
    "concatenate_layer = Concatenate(axis=-1)\n",
    "dense1_layer = Dense(10,activation='tanh')\n",
    "dense2_layer = Dense(1,activation='relu')\n",
    "softmax_layer = Activation(softmax, name='attention_weights')\n",
    "dot_layer = Dot(axes=1)"
   ]
  },
  {
   "cell_type": "code",
   "execution_count": 28,
   "metadata": {},
   "outputs": [
    {
     "name": "stdout",
     "output_type": "stream",
     "text": [
      "<keras.layers.core.RepeatVector object at 0x00000135B862AC48>\n",
      "<keras.layers.merge.Concatenate object at 0x00000135ACD1E5C8>\n",
      "<keras.layers.core.Dense object at 0x00000135B8639BC8>\n",
      "<keras.layers.core.Dense object at 0x00000135B863C6C8>\n",
      "<keras.layers.core.Activation object at 0x00000135B863C888>\n",
      "<keras.layers.merge.Dot object at 0x00000135B863C108>\n"
     ]
    }
   ],
   "source": [
    "print(repeat_layer)\n",
    "print(concatenate_layer)\n",
    "print(dense1_layer)\n",
    "print(dense2_layer)\n",
    "print(softmax_layer)\n",
    "print(dot_layer)"
   ]
  },
  {
   "cell_type": "code",
   "execution_count": 29,
   "metadata": {},
   "outputs": [],
   "source": [
    "def one_timestep_attention(a,s0):\n",
    "    \n",
    "    s_prev = repeat_layer(s0)\n",
    "    concatenated_output = concatenate_layer([a,s_prev])\n",
    "    e = dense1_layer(concatenated_output)\n",
    "    energies = dense2_layer(e)\n",
    "    alphas = softmax_layer(energies)\n",
    "    context = dot_layer([alphas,a])\n",
    "    \n",
    "    return context"
   ]
  },
  {
   "cell_type": "code",
   "execution_count": 44,
   "metadata": {},
   "outputs": [],
   "source": [
    "# creating layer for model globally\n",
    "post_attention_LSTM_layer = LSTM(n_s,return_state=True)\n",
    "# output_layer = Activation(softmax,name='Y_pred')\n",
    "output_layer = Dense(len(machine_vocab), activation=softmax)"
   ]
  },
  {
   "cell_type": "code",
   "execution_count": 107,
   "metadata": {},
   "outputs": [],
   "source": [
    "def model(Tx,Ty,n_s,n_a,human_vocab_size):\n",
    "    outputs=[]\n",
    "    X=Input(shape=(Tx,human_vocab_size))\n",
    "    s0 = Input(shape=(n_s, ))\n",
    "    c0 = Input(shape=(n_s, ))\n",
    "    s=s0\n",
    "    c=c0\n",
    "    a=Bidirectional(LSTM(n_a,return_sequences=True))(X)\n",
    "    for i in range(Ty):\n",
    "        context = one_timestep_attention(a,s)\n",
    "        s,_,c = post_attention_LSTM_layer(context,initial_state=[s,c])\n",
    "        output = output_layer(s)\n",
    "        outputs.append(output)\n",
    "    model = Model(inputs=[X,s0,c0],outputs=outputs)\n",
    "    return model"
   ]
  },
  {
   "cell_type": "code",
   "execution_count": 108,
   "metadata": {},
   "outputs": [],
   "source": [
    "model = model(Tx,Ty,n_s,n_a,len(human_vocab))"
   ]
  },
  {
   "cell_type": "code",
   "execution_count": 109,
   "metadata": {},
   "outputs": [
    {
     "name": "stdout",
     "output_type": "stream",
     "text": [
      "Model: \"model_4\"\n",
      "__________________________________________________________________________________________________\n",
      "Layer (type)                    Output Shape         Param #     Connected to                     \n",
      "==================================================================================================\n",
      "input_10 (InputLayer)           (None, 30, 37)       0                                            \n",
      "__________________________________________________________________________________________________\n",
      "input_11 (InputLayer)           (None, 64)           0                                            \n",
      "__________________________________________________________________________________________________\n",
      "bidirectional_4 (Bidirectional) (None, 30, 64)       17920       input_10[0][0]                   \n",
      "__________________________________________________________________________________________________\n",
      "repeat_vector_1 (RepeatVector)  (None, 30, 64)       0           input_11[0][0]                   \n",
      "                                                                 lstm_3[20][0]                    \n",
      "                                                                 lstm_3[21][0]                    \n",
      "                                                                 lstm_3[22][0]                    \n",
      "                                                                 lstm_3[23][0]                    \n",
      "                                                                 lstm_3[24][0]                    \n",
      "                                                                 lstm_3[25][0]                    \n",
      "                                                                 lstm_3[26][0]                    \n",
      "                                                                 lstm_3[27][0]                    \n",
      "                                                                 lstm_3[28][0]                    \n",
      "__________________________________________________________________________________________________\n",
      "concatenate_1 (Concatenate)     (None, 30, 128)      0           bidirectional_4[0][0]            \n",
      "                                                                 repeat_vector_1[30][0]           \n",
      "                                                                 bidirectional_4[0][0]            \n",
      "                                                                 repeat_vector_1[31][0]           \n",
      "                                                                 bidirectional_4[0][0]            \n",
      "                                                                 repeat_vector_1[32][0]           \n",
      "                                                                 bidirectional_4[0][0]            \n",
      "                                                                 repeat_vector_1[33][0]           \n",
      "                                                                 bidirectional_4[0][0]            \n",
      "                                                                 repeat_vector_1[34][0]           \n",
      "                                                                 bidirectional_4[0][0]            \n",
      "                                                                 repeat_vector_1[35][0]           \n",
      "                                                                 bidirectional_4[0][0]            \n",
      "                                                                 repeat_vector_1[36][0]           \n",
      "                                                                 bidirectional_4[0][0]            \n",
      "                                                                 repeat_vector_1[37][0]           \n",
      "                                                                 bidirectional_4[0][0]            \n",
      "                                                                 repeat_vector_1[38][0]           \n",
      "                                                                 bidirectional_4[0][0]            \n",
      "                                                                 repeat_vector_1[39][0]           \n",
      "__________________________________________________________________________________________________\n",
      "dense_1 (Dense)                 (None, 30, 10)       1290        concatenate_1[30][0]             \n",
      "                                                                 concatenate_1[31][0]             \n",
      "                                                                 concatenate_1[32][0]             \n",
      "                                                                 concatenate_1[33][0]             \n",
      "                                                                 concatenate_1[34][0]             \n",
      "                                                                 concatenate_1[35][0]             \n",
      "                                                                 concatenate_1[36][0]             \n",
      "                                                                 concatenate_1[37][0]             \n",
      "                                                                 concatenate_1[38][0]             \n",
      "                                                                 concatenate_1[39][0]             \n",
      "__________________________________________________________________________________________________\n",
      "dense_2 (Dense)                 (None, 30, 1)        11          dense_1[30][0]                   \n",
      "                                                                 dense_1[31][0]                   \n",
      "                                                                 dense_1[32][0]                   \n",
      "                                                                 dense_1[33][0]                   \n",
      "                                                                 dense_1[34][0]                   \n",
      "                                                                 dense_1[35][0]                   \n",
      "                                                                 dense_1[36][0]                   \n",
      "                                                                 dense_1[37][0]                   \n",
      "                                                                 dense_1[38][0]                   \n",
      "                                                                 dense_1[39][0]                   \n",
      "__________________________________________________________________________________________________\n",
      "attention_weights (Activation)  (None, 30, 1)        0           dense_2[30][0]                   \n",
      "                                                                 dense_2[31][0]                   \n",
      "                                                                 dense_2[32][0]                   \n",
      "                                                                 dense_2[33][0]                   \n",
      "                                                                 dense_2[34][0]                   \n",
      "                                                                 dense_2[35][0]                   \n",
      "                                                                 dense_2[36][0]                   \n",
      "                                                                 dense_2[37][0]                   \n",
      "                                                                 dense_2[38][0]                   \n",
      "                                                                 dense_2[39][0]                   \n",
      "__________________________________________________________________________________________________\n",
      "dot_1 (Dot)                     (None, 1, 64)        0           attention_weights[30][0]         \n",
      "                                                                 bidirectional_4[0][0]            \n",
      "                                                                 attention_weights[31][0]         \n",
      "                                                                 bidirectional_4[0][0]            \n",
      "                                                                 attention_weights[32][0]         \n",
      "                                                                 bidirectional_4[0][0]            \n",
      "                                                                 attention_weights[33][0]         \n",
      "                                                                 bidirectional_4[0][0]            \n"
     ]
    },
    {
     "name": "stdout",
     "output_type": "stream",
     "text": [
      "                                                                 attention_weights[34][0]         \n",
      "                                                                 bidirectional_4[0][0]            \n",
      "                                                                 attention_weights[35][0]         \n",
      "                                                                 bidirectional_4[0][0]            \n",
      "                                                                 attention_weights[36][0]         \n",
      "                                                                 bidirectional_4[0][0]            \n",
      "                                                                 attention_weights[37][0]         \n",
      "                                                                 bidirectional_4[0][0]            \n",
      "                                                                 attention_weights[38][0]         \n",
      "                                                                 bidirectional_4[0][0]            \n",
      "                                                                 attention_weights[39][0]         \n",
      "                                                                 bidirectional_4[0][0]            \n",
      "__________________________________________________________________________________________________\n",
      "input_12 (InputLayer)           (None, 64)           0                                            \n",
      "__________________________________________________________________________________________________\n",
      "lstm_3 (LSTM)                   [(None, 64), (None,  33024       dot_1[30][0]                     \n",
      "                                                                 input_11[0][0]                   \n",
      "                                                                 input_12[0][0]                   \n",
      "                                                                 dot_1[31][0]                     \n",
      "                                                                 lstm_3[20][0]                    \n",
      "                                                                 lstm_3[20][2]                    \n",
      "                                                                 dot_1[32][0]                     \n",
      "                                                                 lstm_3[21][0]                    \n",
      "                                                                 lstm_3[21][2]                    \n",
      "                                                                 dot_1[33][0]                     \n",
      "                                                                 lstm_3[22][0]                    \n",
      "                                                                 lstm_3[22][2]                    \n",
      "                                                                 dot_1[34][0]                     \n",
      "                                                                 lstm_3[23][0]                    \n",
      "                                                                 lstm_3[23][2]                    \n",
      "                                                                 dot_1[35][0]                     \n",
      "                                                                 lstm_3[24][0]                    \n",
      "                                                                 lstm_3[24][2]                    \n",
      "                                                                 dot_1[36][0]                     \n",
      "                                                                 lstm_3[25][0]                    \n",
      "                                                                 lstm_3[25][2]                    \n",
      "                                                                 dot_1[37][0]                     \n",
      "                                                                 lstm_3[26][0]                    \n",
      "                                                                 lstm_3[26][2]                    \n",
      "                                                                 dot_1[38][0]                     \n",
      "                                                                 lstm_3[27][0]                    \n",
      "                                                                 lstm_3[27][2]                    \n",
      "                                                                 dot_1[39][0]                     \n",
      "                                                                 lstm_3[28][0]                    \n",
      "                                                                 lstm_3[28][2]                    \n",
      "__________________________________________________________________________________________________\n",
      "dense_3 (Dense)                 (None, 11)           715         lstm_3[20][0]                    \n",
      "                                                                 lstm_3[21][0]                    \n",
      "                                                                 lstm_3[22][0]                    \n",
      "                                                                 lstm_3[23][0]                    \n",
      "                                                                 lstm_3[24][0]                    \n",
      "                                                                 lstm_3[25][0]                    \n",
      "                                                                 lstm_3[26][0]                    \n",
      "                                                                 lstm_3[27][0]                    \n",
      "                                                                 lstm_3[28][0]                    \n",
      "                                                                 lstm_3[29][0]                    \n",
      "==================================================================================================\n",
      "Total params: 52,960\n",
      "Trainable params: 52,960\n",
      "Non-trainable params: 0\n",
      "__________________________________________________________________________________________________\n"
     ]
    }
   ],
   "source": [
    "model.summary()"
   ]
  },
  {
   "cell_type": "code",
   "execution_count": 110,
   "metadata": {},
   "outputs": [],
   "source": [
    "# model.compile(optimizer='adam',loss='categorical_crossentropy',metrics=['accuracy'])\n",
    "opt =  Adam(lr=0.005, beta_1=0.9, beta_2=0.999, decay=0.01)\n",
    "model.compile(optimizer=opt, loss='categorical_crossentropy', metrics=['accuracy'])"
   ]
  },
  {
   "cell_type": "code",
   "execution_count": 111,
   "metadata": {},
   "outputs": [
    {
     "name": "stdout",
     "output_type": "stream",
     "text": [
      "(10000, 64)\n",
      "(10000, 64)\n"
     ]
    }
   ],
   "source": [
    "s0=np.zeros((m,n_s))\n",
    "c0=np.zeros((m,n_s))\n",
    "print(s0.shape)\n",
    "print(c0.shape)"
   ]
  },
  {
   "cell_type": "code",
   "execution_count": 112,
   "metadata": {},
   "outputs": [],
   "source": [
    "outputs = list(Y_oh.swapaxes(0,1))"
   ]
  },
  {
   "cell_type": "code",
   "execution_count": 113,
   "metadata": {},
   "outputs": [
    {
     "name": "stdout",
     "output_type": "stream",
     "text": [
      "Epoch 1/1\n"
     ]
    },
    {
     "name": "stdout",
     "output_type": "stream",
     "text": [
      " 2500/10000 [======>.......................] - ETA: 6:46 - loss: 22.2877 - dense_3_loss: 2.6321 - dense_3_accuracy: 0.6400 - dense_3_accuracy_1: 0.0000e+00 - dense_3_accuracy_2: 0.1700 - dense_3_accuracy_3: 0.0800 - dense_3_accuracy_4: 0.4600 - dense_3_accuracy_5: 0.1000 - dense_3_accuracy_6: 0.1100 - dense_3_accuracy_7: 0.0700 - dense_3_accuracy_8: 0.3600 - dense_3_accuracy_9: 0.110 - ETA: 3:25 - loss: 21.3278 - dense_3_loss: 2.8147 - dense_3_accuracy: 0.5950 - dense_3_accuracy_1: 0.2900 - dense_3_accuracy_2: 0.1950 - dense_3_accuracy_3: 0.0500 - dense_3_accuracy_4: 0.7300 - dense_3_accuracy_5: 0.0500 - dense_3_accuracy_6: 0.0800 - dense_3_accuracy_7: 0.4250 - dense_3_accuracy_8: 0.2550 - dense_3_accuracy_9: 0.0950    - ETA: 2:18 - loss: 20.7704 - dense_3_loss: 2.8404 - dense_3_accuracy: 0.5667 - dense_3_accuracy_1: 0.3700 - dense_3_accuracy_2: 0.1900 - dense_3_accuracy_3: 0.0433 - dense_3_accuracy_4: 0.8200 - dense_3_accuracy_5: 0.2567 - dense_3_accuracy_6: 0.0800 - dense_3_accuracy_7: 0.2833 - dense_3_accuracy_8: 0.2600 - dense_3_accuracy_9: 0.086 - ETA: 1:44 - loss: 20.1269 - dense_3_loss: 2.7774 - dense_3_accuracy: 0.5700 - dense_3_accuracy_1: 0.4275 - dense_3_accuracy_2: 0.2125 - dense_3_accuracy_3: 0.0350 - dense_3_accuracy_4: 0.8650 - dense_3_accuracy_5: 0.3450 - dense_3_accuracy_6: 0.0875 - dense_3_accuracy_7: 0.4125 - dense_3_accuracy_8: 0.2725 - dense_3_accuracy_9: 0.102 - ETA: 1:25 - loss: 19.3863 - dense_3_loss: 2.7540 - dense_3_accuracy: 0.5960 - dense_3_accuracy_1: 0.4820 - dense_3_accuracy_2: 0.2180 - dense_3_accuracy_3: 0.0280 - dense_3_accuracy_4: 0.8920 - dense_3_accuracy_5: 0.4180 - dense_3_accuracy_6: 0.0840 - dense_3_accuracy_7: 0.5300 - dense_3_accuracy_8: 0.2760 - dense_3_accuracy_9: 0.108 - ETA: 1:11 - loss: 18.7760 - dense_3_loss: 2.7735 - dense_3_accuracy: 0.5983 - dense_3_accuracy_1: 0.5033 - dense_3_accuracy_2: 0.2167 - dense_3_accuracy_3: 0.0433 - dense_3_accuracy_4: 0.9100 - dense_3_accuracy_5: 0.4850 - dense_3_accuracy_6: 0.0900 - dense_3_accuracy_7: 0.6083 - dense_3_accuracy_8: 0.2900 - dense_3_accuracy_9: 0.103 - ETA: 1:02 - loss: 18.2362 - dense_3_loss: 2.7627 - dense_3_accuracy: 0.6029 - dense_3_accuracy_1: 0.5214 - dense_3_accuracy_2: 0.2129 - dense_3_accuracy_3: 0.0443 - dense_3_accuracy_4: 0.9229 - dense_3_accuracy_5: 0.5286 - dense_3_accuracy_6: 0.0971 - dense_3_accuracy_7: 0.6643 - dense_3_accuracy_8: 0.2971 - dense_3_accuracy_9: 0.112 - ETA: 54s - loss: 17.7893 - dense_3_loss: 2.7736 - dense_3_accuracy: 0.6037 - dense_3_accuracy_1: 0.5350 - dense_3_accuracy_2: 0.2062 - dense_3_accuracy_3: 0.0437 - dense_3_accuracy_4: 0.9325 - dense_3_accuracy_5: 0.5638 - dense_3_accuracy_6: 0.1000 - dense_3_accuracy_7: 0.7063 - dense_3_accuracy_8: 0.3013 - dense_3_accuracy_9: 0.110 - ETA: 48s - loss: 17.3521 - dense_3_loss: 2.7777 - dense_3_accuracy: 0.6100 - dense_3_accuracy_1: 0.5633 - dense_3_accuracy_2: 0.2189 - dense_3_accuracy_3: 0.0467 - dense_3_accuracy_4: 0.9400 - dense_3_accuracy_5: 0.5889 - dense_3_accuracy_6: 0.1089 - dense_3_accuracy_7: 0.7389 - dense_3_accuracy_8: 0.3011 - dense_3_accuracy_9: 0.10 - ETA: 44s - loss: 16.9707 - dense_3_loss: 2.7763 - dense_3_accuracy: 0.6120 - dense_3_accuracy_1: 0.5860 - dense_3_accuracy_2: 0.2270 - dense_3_accuracy_3: 0.0540 - dense_3_accuracy_4: 0.9460 - dense_3_accuracy_5: 0.6040 - dense_3_accuracy_6: 0.1230 - dense_3_accuracy_7: 0.7650 - dense_3_accuracy_8: 0.3120 - dense_3_accuracy_9: 0.10 - ETA: 40s - loss: 16.6199 - dense_3_loss: 2.7581 - dense_3_accuracy: 0.6136 - dense_3_accuracy_1: 0.6082 - dense_3_accuracy_2: 0.2391 - dense_3_accuracy_3: 0.0591 - dense_3_accuracy_4: 0.9509 - dense_3_accuracy_5: 0.6173 - dense_3_accuracy_6: 0.1227 - dense_3_accuracy_7: 0.7864 - dense_3_accuracy_8: 0.3173 - dense_3_accuracy_9: 0.10 - ETA: 36s - loss: 16.3105 - dense_3_loss: 2.7466 - dense_3_accuracy: 0.6158 - dense_3_accuracy_1: 0.6200 - dense_3_accuracy_2: 0.2475 - dense_3_accuracy_3: 0.0642 - dense_3_accuracy_4: 0.9550 - dense_3_accuracy_5: 0.6350 - dense_3_accuracy_6: 0.1292 - dense_3_accuracy_7: 0.8042 - dense_3_accuracy_8: 0.3175 - dense_3_accuracy_9: 0.09 - ETA: 34s - loss: 16.0153 - dense_3_loss: 2.7269 - dense_3_accuracy: 0.6185 - dense_3_accuracy_1: 0.6323 - dense_3_accuracy_2: 0.2577 - dense_3_accuracy_3: 0.0692 - dense_3_accuracy_4: 0.9585 - dense_3_accuracy_5: 0.6492 - dense_3_accuracy_6: 0.1331 - dense_3_accuracy_7: 0.8192 - dense_3_accuracy_8: 0.3100 - dense_3_accuracy_9: 0.09 - ETA: 31s - loss: 15.7579 - dense_3_loss: 2.7032 - dense_3_accuracy: 0.6200 - dense_3_accuracy_1: 0.6529 - dense_3_accuracy_2: 0.2586 - dense_3_accuracy_3: 0.0729 - dense_3_accuracy_4: 0.9614 - dense_3_accuracy_5: 0.6636 - dense_3_accuracy_6: 0.1386 - dense_3_accuracy_7: 0.8321 - dense_3_accuracy_8: 0.3100 - dense_3_accuracy_9: 0.10 - ETA: 29s - loss: 15.4862 - dense_3_loss: 2.6844 - dense_3_accuracy: 0.6193 - dense_3_accuracy_1: 0.6660 - dense_3_accuracy_2: 0.2700 - dense_3_accuracy_3: 0.0713 - dense_3_accuracy_4: 0.9640 - dense_3_accuracy_5: 0.6727 - dense_3_accuracy_6: 0.1473 - dense_3_accuracy_7: 0.8433 - dense_3_accuracy_8: 0.3153 - dense_3_accuracy_9: 0.10 - ETA: 27s - loss: 15.2252 - dense_3_loss: 2.6660 - dense_3_accuracy: 0.6231 - dense_3_accuracy_1: 0.6806 - dense_3_accuracy_2: 0.2825 - dense_3_accuracy_3: 0.0750 - dense_3_accuracy_4: 0.9663 - dense_3_accuracy_5: 0.6837 - dense_3_accuracy_6: 0.1513 - dense_3_accuracy_7: 0.8531 - dense_3_accuracy_8: 0.3212 - dense_3_accuracy_9: 0.10 - ETA: 26s - loss: 14.9871 - dense_3_loss: 2.6463 - dense_3_accuracy: 0.6241 - dense_3_accuracy_1: 0.6876 - dense_3_accuracy_2: 0.2900 - dense_3_accuracy_3: 0.0776 - dense_3_accuracy_4: 0.9682 - dense_3_accuracy_5: 0.6882 - dense_3_accuracy_6: 0.1618 - dense_3_accuracy_7: 0.8618 - dense_3_accuracy_8: 0.3253 - dense_3_accuracy_9: 0.10 - ETA: 25s - loss: 14.7892 - dense_3_loss: 2.6327 - dense_3_accuracy: 0.6228 - dense_3_accuracy_1: 0.6983 - dense_3_accuracy_2: 0.2950 - dense_3_accuracy_3: 0.0806 - dense_3_accuracy_4: 0.9700 - dense_3_accuracy_5: 0.6906 - dense_3_accuracy_6: 0.1661 - dense_3_accuracy_7: 0.8694 - dense_3_accuracy_8: 0.3300 - dense_3_accuracy_9: 0.10 - ETA: 23s - loss: 14.5779 - dense_3_loss: 2.6211 - dense_3_accuracy: 0.6316 - dense_3_accuracy_1: 0.7111 - dense_3_accuracy_2: 0.3026 - dense_3_accuracy_3: 0.0863 - dense_3_accuracy_4: 0.9716 - dense_3_accuracy_5: 0.6984 - dense_3_accuracy_6: 0.1721 - dense_3_accuracy_7: 0.8763 - dense_3_accuracy_8: 0.3353 - dense_3_accuracy_9: 0.11 - ETA: 22s - loss: 14.3875 - dense_3_loss: 2.6078 - dense_3_accuracy: 0.6345 - dense_3_accuracy_1: 0.7220 - dense_3_accuracy_2: 0.3110 - dense_3_accuracy_3: 0.0900 - dense_3_accuracy_4: 0.9730 - dense_3_accuracy_5: 0.7015 - dense_3_accuracy_6: 0.1755 - dense_3_accuracy_7: 0.8825 - dense_3_accuracy_8: 0.3370 - dense_3_accuracy_9: 0.11 - ETA: 21s - loss: 14.2135 - dense_3_loss: 2.5941 - dense_3_accuracy: 0.6419 - dense_3_accuracy_1: 0.7319 - dense_3_accuracy_2: 0.3129 - dense_3_accuracy_3: 0.0895 - dense_3_accuracy_4: 0.9743 - dense_3_accuracy_5: 0.7090 - dense_3_accuracy_6: 0.1767 - dense_3_accuracy_7: 0.8881 - dense_3_accuracy_8: 0.3390 - dense_3_accuracy_9: 0.11 - ETA: 20s - loss: 14.0418 - dense_3_loss: 2.5824 - dense_3_accuracy: 0.6441 - dense_3_accuracy_1: 0.7377 - dense_3_accuracy_2: 0.3168 - dense_3_accuracy_3: 0.0936 - dense_3_accuracy_4: 0.9755 - dense_3_accuracy_5: 0.7182 - dense_3_accuracy_6: 0.1800 - dense_3_accuracy_7: 0.8932 - dense_3_accuracy_8: 0.3455 - dense_3_accuracy_9: 0.11 - ETA: 20s - loss: 13.8767 - dense_3_loss: 2.5694 - dense_3_accuracy: 0.6491 - dense_3_accuracy_1: 0.7435 - dense_3_accuracy_2: 0.3283 - dense_3_accuracy_3: 0.0970 - dense_3_accuracy_4: 0.9765 - dense_3_accuracy_5: 0.7239 - dense_3_accuracy_6: 0.1878 - dense_3_accuracy_7: 0.8978 - dense_3_accuracy_8: 0.3465 - dense_3_accuracy_9: 0.12 - ETA: 19s - loss: 13.7298 - dense_3_loss: 2.5564 - dense_3_accuracy: 0.6567 - dense_3_accuracy_1: 0.7471 - dense_3_accuracy_2: 0.3358 - dense_3_accuracy_3: 0.0983 - dense_3_accuracy_4: 0.9775 - dense_3_accuracy_5: 0.7287 - dense_3_accuracy_6: 0.1925 - dense_3_accuracy_7: 0.9021 - dense_3_accuracy_8: 0.3471 - dense_3_accuracy_9: 0.12 - ETA: 18s - loss: 13.5748 - dense_3_loss: 2.5458 - dense_3_accuracy: 0.6672 - dense_3_accuracy_1: 0.7564 - dense_3_accuracy_2: 0.3464 - dense_3_accuracy_3: 0.0992 - dense_3_accuracy_4: 0.9784 - dense_3_accuracy_5: 0.7356 - dense_3_accuracy_6: 0.2000 - dense_3_accuracy_7: 0.9060 - dense_3_accuracy_8: 0.3476 - dense_3_accuracy_9: 0.1236\b\b\b\b\b\b\b\b\b\b\b\b\b\b\b\b\b\b\b\b\b\b\b\b\b\b\b\b\b\b\b\b\b\b\b\b\b\b\b\b\b\b\b\b\b\b\b\b\b\b\b\b\b\b\b\b\b\b\b\b\b\b\b\b\b\b\b\b\b\b\b\b\b\b\b\b\b\b\b\b\b\b\b\b\b\b\b\b\b\b\b\b\b\b\b\b\b\b\b\b\b\b\b\b\b\b\b\b\b\b\b\b\b\b\b\b\b\b\b\b\b\b\b\b\b\b\b\b\b\b\b\b\b\b\b\b\b\b\b\b\b\b\b\b\b\b\b\b\b\b\b\b\b\b\b\b\b\b\b\b\b\b\b\b\b\b\b\b\b\b\b\b\b\b\b\b\b\b\b\b\b\b\b\b\b\b\b\b\b\b\b\b\b\b\b\b\b\b\b\b\b\b\b\b\b\b\b\b\b\b\b\b\b\b\b\b\b\b\b\b\b\b\b\b\b\b\b\b\b\b\b\b\b\b\b\b\b\b\b\b\b\b\b\b\b\b\b\b\b\b\b\b\b\b\b\b\b\b\b\b\b\b\b\b\b\b\b\b\b\b\b\b\b\b\b\b\b\b\b\b\b\b\b\b\b\b\b\b\b\b\b\b\b\b\b\b\b\b\b\b\b\b\b\b\b\b\b\b\b\b\b\b\b\b\b\b\b\b\b\b\b\b\b\b\b\b\b\b\b\b\b\b\b\b\b\b\b\b\b\b\b\b\b\b\b\b\b\b\b\b\b\b\b\b\b\b\b\b\b\b\b\b\b\b\b\b\b\b\b\b\b\b\b\b\b\b\b\b\b\b\b\b"
     ]
    },
    {
     "name": "stdout",
     "output_type": "stream",
     "text": [
      " 5000/10000 [==============>...............] - ETA: 17s - loss: 13.4344 - dense_3_loss: 2.5381 - dense_3_accuracy: 0.6735 - dense_3_accuracy_1: 0.7623 - dense_3_accuracy_2: 0.3531 - dense_3_accuracy_3: 0.1008 - dense_3_accuracy_4: 0.9792 - dense_3_accuracy_5: 0.7423 - dense_3_accuracy_6: 0.2096 - dense_3_accuracy_7: 0.9096 - dense_3_accuracy_8: 0.3500 - dense_3_accuracy_9: 0.12 - ETA: 16s - loss: 13.2867 - dense_3_loss: 2.5264 - dense_3_accuracy: 0.6811 - dense_3_accuracy_1: 0.7689 - dense_3_accuracy_2: 0.3633 - dense_3_accuracy_3: 0.1044 - dense_3_accuracy_4: 0.9800 - dense_3_accuracy_5: 0.7478 - dense_3_accuracy_6: 0.2130 - dense_3_accuracy_7: 0.9130 - dense_3_accuracy_8: 0.3537 - dense_3_accuracy_9: 0.12 - ETA: 16s - loss: 13.1558 - dense_3_loss: 2.5173 - dense_3_accuracy: 0.6900 - dense_3_accuracy_1: 0.7757 - dense_3_accuracy_2: 0.3693 - dense_3_accuracy_3: 0.1075 - dense_3_accuracy_4: 0.9807 - dense_3_accuracy_5: 0.7500 - dense_3_accuracy_6: 0.2218 - dense_3_accuracy_7: 0.9161 - dense_3_accuracy_8: 0.3568 - dense_3_accuracy_9: 0.12 - ETA: 15s - loss: 13.0336 - dense_3_loss: 2.5096 - dense_3_accuracy: 0.6972 - dense_3_accuracy_1: 0.7814 - dense_3_accuracy_2: 0.3734 - dense_3_accuracy_3: 0.1141 - dense_3_accuracy_4: 0.9814 - dense_3_accuracy_5: 0.7541 - dense_3_accuracy_6: 0.2221 - dense_3_accuracy_7: 0.9190 - dense_3_accuracy_8: 0.3583 - dense_3_accuracy_9: 0.12 - ETA: 15s - loss: 12.9139 - dense_3_loss: 2.4994 - dense_3_accuracy: 0.7040 - dense_3_accuracy_1: 0.7867 - dense_3_accuracy_2: 0.3807 - dense_3_accuracy_3: 0.1197 - dense_3_accuracy_4: 0.9820 - dense_3_accuracy_5: 0.7573 - dense_3_accuracy_6: 0.2240 - dense_3_accuracy_7: 0.9217 - dense_3_accuracy_8: 0.3577 - dense_3_accuracy_9: 0.12 - ETA: 14s - loss: 12.7938 - dense_3_loss: 2.4897 - dense_3_accuracy: 0.7103 - dense_3_accuracy_1: 0.7923 - dense_3_accuracy_2: 0.3890 - dense_3_accuracy_3: 0.1210 - dense_3_accuracy_4: 0.9826 - dense_3_accuracy_5: 0.7629 - dense_3_accuracy_6: 0.2287 - dense_3_accuracy_7: 0.9242 - dense_3_accuracy_8: 0.3603 - dense_3_accuracy_9: 0.12 - ETA: 14s - loss: 12.6820 - dense_3_loss: 2.4827 - dense_3_accuracy: 0.7163 - dense_3_accuracy_1: 0.7978 - dense_3_accuracy_2: 0.3944 - dense_3_accuracy_3: 0.1253 - dense_3_accuracy_4: 0.9831 - dense_3_accuracy_5: 0.7678 - dense_3_accuracy_6: 0.2381 - dense_3_accuracy_7: 0.9266 - dense_3_accuracy_8: 0.3609 - dense_3_accuracy_9: 0.12 - ETA: 13s - loss: 12.5777 - dense_3_loss: 2.4724 - dense_3_accuracy: 0.7239 - dense_3_accuracy_1: 0.8033 - dense_3_accuracy_2: 0.4021 - dense_3_accuracy_3: 0.1273 - dense_3_accuracy_4: 0.9836 - dense_3_accuracy_5: 0.7724 - dense_3_accuracy_6: 0.2427 - dense_3_accuracy_7: 0.9288 - dense_3_accuracy_8: 0.3603 - dense_3_accuracy_9: 0.13 - ETA: 13s - loss: 12.4630 - dense_3_loss: 2.4657 - dense_3_accuracy: 0.7303 - dense_3_accuracy_1: 0.8076 - dense_3_accuracy_2: 0.4088 - dense_3_accuracy_3: 0.1309 - dense_3_accuracy_4: 0.9841 - dense_3_accuracy_5: 0.7756 - dense_3_accuracy_6: 0.2497 - dense_3_accuracy_7: 0.9309 - dense_3_accuracy_8: 0.3644 - dense_3_accuracy_9: 0.13 - ETA: 12s - loss: 12.3666 - dense_3_loss: 2.4596 - dense_3_accuracy: 0.7363 - dense_3_accuracy_1: 0.8117 - dense_3_accuracy_2: 0.4134 - dense_3_accuracy_3: 0.1331 - dense_3_accuracy_4: 0.9846 - dense_3_accuracy_5: 0.7786 - dense_3_accuracy_6: 0.2523 - dense_3_accuracy_7: 0.9329 - dense_3_accuracy_8: 0.3669 - dense_3_accuracy_9: 0.13 - ETA: 12s - loss: 12.2663 - dense_3_loss: 2.4563 - dense_3_accuracy: 0.7408 - dense_3_accuracy_1: 0.8153 - dense_3_accuracy_2: 0.4192 - dense_3_accuracy_3: 0.1372 - dense_3_accuracy_4: 0.9850 - dense_3_accuracy_5: 0.7825 - dense_3_accuracy_6: 0.2589 - dense_3_accuracy_7: 0.9347 - dense_3_accuracy_8: 0.3711 - dense_3_accuracy_9: 0.13 - ETA: 11s - loss: 12.1653 - dense_3_loss: 2.4485 - dense_3_accuracy: 0.7462 - dense_3_accuracy_1: 0.8189 - dense_3_accuracy_2: 0.4232 - dense_3_accuracy_3: 0.1438 - dense_3_accuracy_4: 0.9854 - dense_3_accuracy_5: 0.7849 - dense_3_accuracy_6: 0.2619 - dense_3_accuracy_7: 0.9365 - dense_3_accuracy_8: 0.3751 - dense_3_accuracy_9: 0.13 - ETA: 11s - loss: 12.0684 - dense_3_loss: 2.4413 - dense_3_accuracy: 0.7513 - dense_3_accuracy_1: 0.8237 - dense_3_accuracy_2: 0.4247 - dense_3_accuracy_3: 0.1489 - dense_3_accuracy_4: 0.9858 - dense_3_accuracy_5: 0.7879 - dense_3_accuracy_6: 0.2671 - dense_3_accuracy_7: 0.9382 - dense_3_accuracy_8: 0.3761 - dense_3_accuracy_9: 0.13 - ETA: 11s - loss: 11.9789 - dense_3_loss: 2.4351 - dense_3_accuracy: 0.7556 - dense_3_accuracy_1: 0.8272 - dense_3_accuracy_2: 0.4308 - dense_3_accuracy_3: 0.1497 - dense_3_accuracy_4: 0.9862 - dense_3_accuracy_5: 0.7908 - dense_3_accuracy_6: 0.2715 - dense_3_accuracy_7: 0.9397 - dense_3_accuracy_8: 0.3790 - dense_3_accuracy_9: 0.13 - ETA: 10s - loss: 11.8885 - dense_3_loss: 2.4295 - dense_3_accuracy: 0.7595 - dense_3_accuracy_1: 0.8298 - dense_3_accuracy_2: 0.4383 - dense_3_accuracy_3: 0.1525 - dense_3_accuracy_4: 0.9865 - dense_3_accuracy_5: 0.7935 - dense_3_accuracy_6: 0.2775 - dense_3_accuracy_7: 0.9413 - dense_3_accuracy_8: 0.3835 - dense_3_accuracy_9: 0.14 - ETA: 10s - loss: 11.7988 - dense_3_loss: 2.4245 - dense_3_accuracy: 0.7637 - dense_3_accuracy_1: 0.8329 - dense_3_accuracy_2: 0.4441 - dense_3_accuracy_3: 0.1571 - dense_3_accuracy_4: 0.9868 - dense_3_accuracy_5: 0.7963 - dense_3_accuracy_6: 0.2827 - dense_3_accuracy_7: 0.9427 - dense_3_accuracy_8: 0.3863 - dense_3_accuracy_9: 0.14 - ETA: 10s - loss: 11.7067 - dense_3_loss: 2.4178 - dense_3_accuracy: 0.7679 - dense_3_accuracy_1: 0.8364 - dense_3_accuracy_2: 0.4500 - dense_3_accuracy_3: 0.1633 - dense_3_accuracy_4: 0.9871 - dense_3_accuracy_5: 0.8000 - dense_3_accuracy_6: 0.2886 - dense_3_accuracy_7: 0.9440 - dense_3_accuracy_8: 0.3876 - dense_3_accuracy_9: 0.14 - ETA: 9s - loss: 11.6155 - dense_3_loss: 2.4112 - dense_3_accuracy: 0.7716 - dense_3_accuracy_1: 0.8391 - dense_3_accuracy_2: 0.4528 - dense_3_accuracy_3: 0.1679 - dense_3_accuracy_4: 0.9874 - dense_3_accuracy_5: 0.8037 - dense_3_accuracy_6: 0.2944 - dense_3_accuracy_7: 0.9453 - dense_3_accuracy_8: 0.3912 - dense_3_accuracy_9: 0.1451 - ETA: 9s - loss: 11.5315 - dense_3_loss: 2.4063 - dense_3_accuracy: 0.7755 - dense_3_accuracy_1: 0.8423 - dense_3_accuracy_2: 0.4605 - dense_3_accuracy_3: 0.1750 - dense_3_accuracy_4: 0.9877 - dense_3_accuracy_5: 0.8057 - dense_3_accuracy_6: 0.2975 - dense_3_accuracy_7: 0.9466 - dense_3_accuracy_8: 0.3925 - dense_3_accuracy_9: 0.145 - ETA: 9s - loss: 11.4564 - dense_3_loss: 2.4037 - dense_3_accuracy: 0.7787 - dense_3_accuracy_1: 0.8444 - dense_3_accuracy_2: 0.4680 - dense_3_accuracy_3: 0.1802 - dense_3_accuracy_4: 0.9880 - dense_3_accuracy_5: 0.8089 - dense_3_accuracy_6: 0.3033 - dense_3_accuracy_7: 0.9478 - dense_3_accuracy_8: 0.3947 - dense_3_accuracy_9: 0.146 - ETA: 8s - loss: 11.3692 - dense_3_loss: 2.3975 - dense_3_accuracy: 0.7826 - dense_3_accuracy_1: 0.8474 - dense_3_accuracy_2: 0.4733 - dense_3_accuracy_3: 0.1878 - dense_3_accuracy_4: 0.9883 - dense_3_accuracy_5: 0.8122 - dense_3_accuracy_6: 0.3067 - dense_3_accuracy_7: 0.9489 - dense_3_accuracy_8: 0.3974 - dense_3_accuracy_9: 0.148 - ETA: 8s - loss: 11.2833 - dense_3_loss: 2.3919 - dense_3_accuracy: 0.7855 - dense_3_accuracy_1: 0.8496 - dense_3_accuracy_2: 0.4785 - dense_3_accuracy_3: 0.1949 - dense_3_accuracy_4: 0.9885 - dense_3_accuracy_5: 0.8153 - dense_3_accuracy_6: 0.3119 - dense_3_accuracy_7: 0.9500 - dense_3_accuracy_8: 0.3994 - dense_3_accuracy_9: 0.150 - ETA: 8s - loss: 11.2036 - dense_3_loss: 2.3844 - dense_3_accuracy: 0.7890 - dense_3_accuracy_1: 0.8521 - dense_3_accuracy_2: 0.4854 - dense_3_accuracy_3: 0.2013 - dense_3_accuracy_4: 0.9887 - dense_3_accuracy_5: 0.8181 - dense_3_accuracy_6: 0.3146 - dense_3_accuracy_7: 0.9510 - dense_3_accuracy_8: 0.4015 - dense_3_accuracy_9: 0.153 - ETA: 8s - loss: 11.1143 - dense_3_loss: 2.3775 - dense_3_accuracy: 0.7927 - dense_3_accuracy_1: 0.8549 - dense_3_accuracy_2: 0.4916 - dense_3_accuracy_3: 0.2100 - dense_3_accuracy_4: 0.9890 - dense_3_accuracy_5: 0.8206 - dense_3_accuracy_6: 0.3210 - dense_3_accuracy_7: 0.9520 - dense_3_accuracy_8: 0.4035 - dense_3_accuracy_9: 0.154 - ETA: 7s - loss: 11.0397 - dense_3_loss: 2.3715 - dense_3_accuracy: 0.7946 - dense_3_accuracy_1: 0.8560 - dense_3_accuracy_2: 0.4966 - dense_3_accuracy_3: 0.2164 - dense_3_accuracy_4: 0.9892 - dense_3_accuracy_5: 0.8236 - dense_3_accuracy_6: 0.3236 - dense_3_accuracy_7: 0.9530 - dense_3_accuracy_8: 0.4068 - dense_3_accuracy_9: 0.1548"
     ]
    },
    {
     "name": "stdout",
     "output_type": "stream",
     "text": [
      " 7500/10000 [=====================>........] - ETA: 7s - loss: 10.9636 - dense_3_loss: 2.3645 - dense_3_accuracy: 0.7978 - dense_3_accuracy_1: 0.8582 - dense_3_accuracy_2: 0.4998 - dense_3_accuracy_3: 0.2235 - dense_3_accuracy_4: 0.9894 - dense_3_accuracy_5: 0.8255 - dense_3_accuracy_6: 0.3275 - dense_3_accuracy_7: 0.9539 - dense_3_accuracy_8: 0.4098 - dense_3_accuracy_9: 0.156 - ETA: 7s - loss: 10.8845 - dense_3_loss: 2.3591 - dense_3_accuracy: 0.8010 - dense_3_accuracy_1: 0.8602 - dense_3_accuracy_2: 0.5037 - dense_3_accuracy_3: 0.2315 - dense_3_accuracy_4: 0.9896 - dense_3_accuracy_5: 0.8273 - dense_3_accuracy_6: 0.3335 - dense_3_accuracy_7: 0.9548 - dense_3_accuracy_8: 0.4110 - dense_3_accuracy_9: 0.157 - ETA: 7s - loss: 10.8057 - dense_3_loss: 2.3538 - dense_3_accuracy: 0.8032 - dense_3_accuracy_1: 0.8617 - dense_3_accuracy_2: 0.5092 - dense_3_accuracy_3: 0.2387 - dense_3_accuracy_4: 0.9898 - dense_3_accuracy_5: 0.8291 - dense_3_accuracy_6: 0.3385 - dense_3_accuracy_7: 0.9557 - dense_3_accuracy_8: 0.4138 - dense_3_accuracy_9: 0.159 - ETA: 7s - loss: 10.7272 - dense_3_loss: 2.3485 - dense_3_accuracy: 0.8063 - dense_3_accuracy_1: 0.8639 - dense_3_accuracy_2: 0.5146 - dense_3_accuracy_3: 0.2478 - dense_3_accuracy_4: 0.9900 - dense_3_accuracy_5: 0.8313 - dense_3_accuracy_6: 0.3435 - dense_3_accuracy_7: 0.9565 - dense_3_accuracy_8: 0.4154 - dense_3_accuracy_9: 0.161 - ETA: 6s - loss: 10.6556 - dense_3_loss: 2.3440 - dense_3_accuracy: 0.8084 - dense_3_accuracy_1: 0.8651 - dense_3_accuracy_2: 0.5200 - dense_3_accuracy_3: 0.2553 - dense_3_accuracy_4: 0.9902 - dense_3_accuracy_5: 0.8336 - dense_3_accuracy_6: 0.3480 - dense_3_accuracy_7: 0.9573 - dense_3_accuracy_8: 0.4182 - dense_3_accuracy_9: 0.162 - ETA: 6s - loss: 10.5723 - dense_3_loss: 2.3368 - dense_3_accuracy: 0.8118 - dense_3_accuracy_1: 0.8675 - dense_3_accuracy_2: 0.5252 - dense_3_accuracy_3: 0.2636 - dense_3_accuracy_4: 0.9904 - dense_3_accuracy_5: 0.8363 - dense_3_accuracy_6: 0.3525 - dense_3_accuracy_7: 0.9580 - dense_3_accuracy_8: 0.4187 - dense_3_accuracy_9: 0.165 - ETA: 6s - loss: 10.4916 - dense_3_loss: 2.3305 - dense_3_accuracy: 0.8149 - dense_3_accuracy_1: 0.8698 - dense_3_accuracy_2: 0.5296 - dense_3_accuracy_3: 0.2721 - dense_3_accuracy_4: 0.9905 - dense_3_accuracy_5: 0.8379 - dense_3_accuracy_6: 0.3577 - dense_3_accuracy_7: 0.9586 - dense_3_accuracy_8: 0.4209 - dense_3_accuracy_9: 0.165 - ETA: 6s - loss: 10.4155 - dense_3_loss: 2.3273 - dense_3_accuracy: 0.8176 - dense_3_accuracy_1: 0.8717 - dense_3_accuracy_2: 0.5345 - dense_3_accuracy_3: 0.2807 - dense_3_accuracy_4: 0.9907 - dense_3_accuracy_5: 0.8400 - dense_3_accuracy_6: 0.3631 - dense_3_accuracy_7: 0.9593 - dense_3_accuracy_8: 0.4234 - dense_3_accuracy_9: 0.166 - ETA: 5s - loss: 10.3418 - dense_3_loss: 2.3218 - dense_3_accuracy: 0.8198 - dense_3_accuracy_1: 0.8737 - dense_3_accuracy_2: 0.5403 - dense_3_accuracy_3: 0.2878 - dense_3_accuracy_4: 0.9908 - dense_3_accuracy_5: 0.8419 - dense_3_accuracy_6: 0.3692 - dense_3_accuracy_7: 0.9600 - dense_3_accuracy_8: 0.4258 - dense_3_accuracy_9: 0.168 - ETA: 5s - loss: 10.2675 - dense_3_loss: 2.3149 - dense_3_accuracy: 0.8220 - dense_3_accuracy_1: 0.8750 - dense_3_accuracy_2: 0.5453 - dense_3_accuracy_3: 0.2955 - dense_3_accuracy_4: 0.9910 - dense_3_accuracy_5: 0.8438 - dense_3_accuracy_6: 0.3738 - dense_3_accuracy_7: 0.9607 - dense_3_accuracy_8: 0.4265 - dense_3_accuracy_9: 0.171 - ETA: 5s - loss: 10.1942 - dense_3_loss: 2.3106 - dense_3_accuracy: 0.8244 - dense_3_accuracy_1: 0.8766 - dense_3_accuracy_2: 0.5510 - dense_3_accuracy_3: 0.3034 - dense_3_accuracy_4: 0.9911 - dense_3_accuracy_5: 0.8457 - dense_3_accuracy_6: 0.3782 - dense_3_accuracy_7: 0.9613 - dense_3_accuracy_8: 0.4293 - dense_3_accuracy_9: 0.173 - ETA: 5s - loss: 10.1196 - dense_3_loss: 2.3061 - dense_3_accuracy: 0.8271 - dense_3_accuracy_1: 0.8785 - dense_3_accuracy_2: 0.5571 - dense_3_accuracy_3: 0.3124 - dense_3_accuracy_4: 0.9913 - dense_3_accuracy_5: 0.8476 - dense_3_accuracy_6: 0.3831 - dense_3_accuracy_7: 0.9619 - dense_3_accuracy_8: 0.4302 - dense_3_accuracy_9: 0.174 - ETA: 5s - loss: 10.0470 - dense_3_loss: 2.2988 - dense_3_accuracy: 0.8295 - dense_3_accuracy_1: 0.8803 - dense_3_accuracy_2: 0.5613 - dense_3_accuracy_3: 0.3194 - dense_3_accuracy_4: 0.9914 - dense_3_accuracy_5: 0.8494 - dense_3_accuracy_6: 0.3875 - dense_3_accuracy_7: 0.9625 - dense_3_accuracy_8: 0.4332 - dense_3_accuracy_9: 0.176 - ETA: 5s - loss: 9.9756 - dense_3_loss: 2.2932 - dense_3_accuracy: 0.8317 - dense_3_accuracy_1: 0.8819 - dense_3_accuracy_2: 0.5655 - dense_3_accuracy_3: 0.3264 - dense_3_accuracy_4: 0.9916 - dense_3_accuracy_5: 0.8512 - dense_3_accuracy_6: 0.3925 - dense_3_accuracy_7: 0.9631 - dense_3_accuracy_8: 0.4345 - dense_3_accuracy_9: 0.178 - ETA: 4s - loss: 9.9069 - dense_3_loss: 2.2887 - dense_3_accuracy: 0.8337 - dense_3_accuracy_1: 0.8834 - dense_3_accuracy_2: 0.5698 - dense_3_accuracy_3: 0.3345 - dense_3_accuracy_4: 0.9917 - dense_3_accuracy_5: 0.8529 - dense_3_accuracy_6: 0.3971 - dense_3_accuracy_7: 0.9637 - dense_3_accuracy_8: 0.4371 - dense_3_accuracy_9: 0.18 - ETA: 4s - loss: 9.8366 - dense_3_loss: 2.2854 - dense_3_accuracy: 0.8359 - dense_3_accuracy_1: 0.8850 - dense_3_accuracy_2: 0.5739 - dense_3_accuracy_3: 0.3427 - dense_3_accuracy_4: 0.9918 - dense_3_accuracy_5: 0.8548 - dense_3_accuracy_6: 0.4032 - dense_3_accuracy_7: 0.9642 - dense_3_accuracy_8: 0.4391 - dense_3_accuracy_9: 0.18 - ETA: 4s - loss: 9.7692 - dense_3_loss: 2.2809 - dense_3_accuracy: 0.8378 - dense_3_accuracy_1: 0.8861 - dense_3_accuracy_2: 0.5776 - dense_3_accuracy_3: 0.3507 - dense_3_accuracy_4: 0.9919 - dense_3_accuracy_5: 0.8567 - dense_3_accuracy_6: 0.4084 - dense_3_accuracy_7: 0.9648 - dense_3_accuracy_8: 0.4410 - dense_3_accuracy_9: 0.18 - ETA: 4s - loss: 9.7062 - dense_3_loss: 2.2767 - dense_3_accuracy: 0.8399 - dense_3_accuracy_1: 0.8875 - dense_3_accuracy_2: 0.5822 - dense_3_accuracy_3: 0.3578 - dense_3_accuracy_4: 0.9921 - dense_3_accuracy_5: 0.8579 - dense_3_accuracy_6: 0.4129 - dense_3_accuracy_7: 0.9653 - dense_3_accuracy_8: 0.4425 - dense_3_accuracy_9: 0.18 - ETA: 4s - loss: 9.6339 - dense_3_loss: 2.2713 - dense_3_accuracy: 0.8417 - dense_3_accuracy_1: 0.8890 - dense_3_accuracy_2: 0.5864 - dense_3_accuracy_3: 0.3655 - dense_3_accuracy_4: 0.9922 - dense_3_accuracy_5: 0.8594 - dense_3_accuracy_6: 0.4190 - dense_3_accuracy_7: 0.9658 - dense_3_accuracy_8: 0.4451 - dense_3_accuracy_9: 0.18 - ETA: 4s - loss: 9.5622 - dense_3_loss: 2.2646 - dense_3_accuracy: 0.8439 - dense_3_accuracy_1: 0.8904 - dense_3_accuracy_2: 0.5907 - dense_3_accuracy_3: 0.3734 - dense_3_accuracy_4: 0.9923 - dense_3_accuracy_5: 0.8610 - dense_3_accuracy_6: 0.4237 - dense_3_accuracy_7: 0.9663 - dense_3_accuracy_8: 0.4487 - dense_3_accuracy_9: 0.18 - ETA: 3s - loss: 9.4970 - dense_3_loss: 2.2611 - dense_3_accuracy: 0.8456 - dense_3_accuracy_1: 0.8918 - dense_3_accuracy_2: 0.5939 - dense_3_accuracy_3: 0.3808 - dense_3_accuracy_4: 0.9924 - dense_3_accuracy_5: 0.8624 - dense_3_accuracy_6: 0.4277 - dense_3_accuracy_7: 0.9668 - dense_3_accuracy_8: 0.4515 - dense_3_accuracy_9: 0.18 - ETA: 3s - loss: 9.4365 - dense_3_loss: 2.2574 - dense_3_accuracy: 0.8469 - dense_3_accuracy_1: 0.8928 - dense_3_accuracy_2: 0.5978 - dense_3_accuracy_3: 0.3878 - dense_3_accuracy_4: 0.9925 - dense_3_accuracy_5: 0.8639 - dense_3_accuracy_6: 0.4328 - dense_3_accuracy_7: 0.9672 - dense_3_accuracy_8: 0.4528 - dense_3_accuracy_9: 0.19 - ETA: 3s - loss: 9.3728 - dense_3_loss: 2.2529 - dense_3_accuracy: 0.8488 - dense_3_accuracy_1: 0.8941 - dense_3_accuracy_2: 0.6011 - dense_3_accuracy_3: 0.3951 - dense_3_accuracy_4: 0.9926 - dense_3_accuracy_5: 0.8656 - dense_3_accuracy_6: 0.4374 - dense_3_accuracy_7: 0.9677 - dense_3_accuracy_8: 0.4551 - dense_3_accuracy_9: 0.19 - ETA: 3s - loss: 9.3081 - dense_3_loss: 2.2474 - dense_3_accuracy: 0.8501 - dense_3_accuracy_1: 0.8950 - dense_3_accuracy_2: 0.6049 - dense_3_accuracy_3: 0.4023 - dense_3_accuracy_4: 0.9927 - dense_3_accuracy_5: 0.8670 - dense_3_accuracy_6: 0.4418 - dense_3_accuracy_7: 0.9681 - dense_3_accuracy_8: 0.4582 - dense_3_accuracy_9: 0.19 - ETA: 3s - loss: 9.2419 - dense_3_loss: 2.2426 - dense_3_accuracy: 0.8520 - dense_3_accuracy_1: 0.8964 - dense_3_accuracy_2: 0.6092 - dense_3_accuracy_3: 0.4096 - dense_3_accuracy_4: 0.9928 - dense_3_accuracy_5: 0.8680 - dense_3_accuracy_6: 0.4471 - dense_3_accuracy_7: 0.9685 - dense_3_accuracy_8: 0.4604 - dense_3_accuracy_9: 0.1957"
     ]
    },
    {
     "name": "stdout",
     "output_type": "stream",
     "text": [
      "10000/10000 [==============================] - ETA: 3s - loss: 9.1782 - dense_3_loss: 2.2368 - dense_3_accuracy: 0.8533 - dense_3_accuracy_1: 0.8971 - dense_3_accuracy_2: 0.6134 - dense_3_accuracy_3: 0.4170 - dense_3_accuracy_4: 0.9929 - dense_3_accuracy_5: 0.8695 - dense_3_accuracy_6: 0.4508 - dense_3_accuracy_7: 0.9689 - dense_3_accuracy_8: 0.4630 - dense_3_accuracy_9: 0.19 - ETA: 2s - loss: 9.1203 - dense_3_loss: 2.2318 - dense_3_accuracy: 0.8543 - dense_3_accuracy_1: 0.8979 - dense_3_accuracy_2: 0.6171 - dense_3_accuracy_3: 0.4234 - dense_3_accuracy_4: 0.9930 - dense_3_accuracy_5: 0.8705 - dense_3_accuracy_6: 0.4547 - dense_3_accuracy_7: 0.9694 - dense_3_accuracy_8: 0.4639 - dense_3_accuracy_9: 0.19 - ETA: 2s - loss: 9.0598 - dense_3_loss: 2.2257 - dense_3_accuracy: 0.8556 - dense_3_accuracy_1: 0.8990 - dense_3_accuracy_2: 0.6203 - dense_3_accuracy_3: 0.4296 - dense_3_accuracy_4: 0.9931 - dense_3_accuracy_5: 0.8714 - dense_3_accuracy_6: 0.4577 - dense_3_accuracy_7: 0.9697 - dense_3_accuracy_8: 0.4658 - dense_3_accuracy_9: 0.20 - ETA: 2s - loss: 8.9978 - dense_3_loss: 2.2187 - dense_3_accuracy: 0.8572 - dense_3_accuracy_1: 0.9003 - dense_3_accuracy_2: 0.6237 - dense_3_accuracy_3: 0.4354 - dense_3_accuracy_4: 0.9932 - dense_3_accuracy_5: 0.8723 - dense_3_accuracy_6: 0.4624 - dense_3_accuracy_7: 0.9701 - dense_3_accuracy_8: 0.4673 - dense_3_accuracy_9: 0.20 - ETA: 2s - loss: 8.9362 - dense_3_loss: 2.2127 - dense_3_accuracy: 0.8587 - dense_3_accuracy_1: 0.9010 - dense_3_accuracy_2: 0.6275 - dense_3_accuracy_3: 0.4414 - dense_3_accuracy_4: 0.9933 - dense_3_accuracy_5: 0.8734 - dense_3_accuracy_6: 0.4669 - dense_3_accuracy_7: 0.9705 - dense_3_accuracy_8: 0.4689 - dense_3_accuracy_9: 0.20 - ETA: 2s - loss: 8.8768 - dense_3_loss: 2.2064 - dense_3_accuracy: 0.8601 - dense_3_accuracy_1: 0.9019 - dense_3_accuracy_2: 0.6311 - dense_3_accuracy_3: 0.4477 - dense_3_accuracy_4: 0.9933 - dense_3_accuracy_5: 0.8744 - dense_3_accuracy_6: 0.4707 - dense_3_accuracy_7: 0.9709 - dense_3_accuracy_8: 0.4712 - dense_3_accuracy_9: 0.20 - ETA: 2s - loss: 8.8210 - dense_3_loss: 2.2006 - dense_3_accuracy: 0.8612 - dense_3_accuracy_1: 0.9026 - dense_3_accuracy_2: 0.6343 - dense_3_accuracy_3: 0.4537 - dense_3_accuracy_4: 0.9934 - dense_3_accuracy_5: 0.8756 - dense_3_accuracy_6: 0.4757 - dense_3_accuracy_7: 0.9712 - dense_3_accuracy_8: 0.4730 - dense_3_accuracy_9: 0.21 - ETA: 2s - loss: 8.7623 - dense_3_loss: 2.1959 - dense_3_accuracy: 0.8629 - dense_3_accuracy_1: 0.9036 - dense_3_accuracy_2: 0.6376 - dense_3_accuracy_3: 0.4598 - dense_3_accuracy_4: 0.9935 - dense_3_accuracy_5: 0.8770 - dense_3_accuracy_6: 0.4796 - dense_3_accuracy_7: 0.9716 - dense_3_accuracy_8: 0.4759 - dense_3_accuracy_9: 0.21 - ETA: 1s - loss: 8.7049 - dense_3_loss: 2.1887 - dense_3_accuracy: 0.8642 - dense_3_accuracy_1: 0.9044 - dense_3_accuracy_2: 0.6402 - dense_3_accuracy_3: 0.4655 - dense_3_accuracy_4: 0.9936 - dense_3_accuracy_5: 0.8779 - dense_3_accuracy_6: 0.4840 - dense_3_accuracy_7: 0.9719 - dense_3_accuracy_8: 0.4781 - dense_3_accuracy_9: 0.21 - ETA: 1s - loss: 8.6491 - dense_3_loss: 2.1821 - dense_3_accuracy: 0.8652 - dense_3_accuracy_1: 0.9054 - dense_3_accuracy_2: 0.6433 - dense_3_accuracy_3: 0.4712 - dense_3_accuracy_4: 0.9936 - dense_3_accuracy_5: 0.8791 - dense_3_accuracy_6: 0.4874 - dense_3_accuracy_7: 0.9722 - dense_3_accuracy_8: 0.4798 - dense_3_accuracy_9: 0.21 - ETA: 1s - loss: 8.5934 - dense_3_loss: 2.1761 - dense_3_accuracy: 0.8664 - dense_3_accuracy_1: 0.9064 - dense_3_accuracy_2: 0.6462 - dense_3_accuracy_3: 0.4763 - dense_3_accuracy_4: 0.9937 - dense_3_accuracy_5: 0.8805 - dense_3_accuracy_6: 0.4910 - dense_3_accuracy_7: 0.9726 - dense_3_accuracy_8: 0.4820 - dense_3_accuracy_9: 0.21 - ETA: 1s - loss: 8.5395 - dense_3_loss: 2.1707 - dense_3_accuracy: 0.8675 - dense_3_accuracy_1: 0.9070 - dense_3_accuracy_2: 0.6491 - dense_3_accuracy_3: 0.4818 - dense_3_accuracy_4: 0.9938 - dense_3_accuracy_5: 0.8814 - dense_3_accuracy_6: 0.4948 - dense_3_accuracy_7: 0.9729 - dense_3_accuracy_8: 0.4834 - dense_3_accuracy_9: 0.22 - ETA: 1s - loss: 8.4821 - dense_3_loss: 2.1629 - dense_3_accuracy: 0.8687 - dense_3_accuracy_1: 0.9081 - dense_3_accuracy_2: 0.6519 - dense_3_accuracy_3: 0.4873 - dense_3_accuracy_4: 0.9939 - dense_3_accuracy_5: 0.8826 - dense_3_accuracy_6: 0.4988 - dense_3_accuracy_7: 0.9732 - dense_3_accuracy_8: 0.4853 - dense_3_accuracy_9: 0.22 - ETA: 1s - loss: 8.4328 - dense_3_loss: 2.1572 - dense_3_accuracy: 0.8698 - dense_3_accuracy_1: 0.9085 - dense_3_accuracy_2: 0.6544 - dense_3_accuracy_3: 0.4927 - dense_3_accuracy_4: 0.9939 - dense_3_accuracy_5: 0.8836 - dense_3_accuracy_6: 0.5016 - dense_3_accuracy_7: 0.9735 - dense_3_accuracy_8: 0.4880 - dense_3_accuracy_9: 0.22 - ETA: 1s - loss: 8.3767 - dense_3_loss: 2.1490 - dense_3_accuracy: 0.8710 - dense_3_accuracy_1: 0.9094 - dense_3_accuracy_2: 0.6574 - dense_3_accuracy_3: 0.4978 - dense_3_accuracy_4: 0.9940 - dense_3_accuracy_5: 0.8847 - dense_3_accuracy_6: 0.5050 - dense_3_accuracy_7: 0.9738 - dense_3_accuracy_8: 0.4904 - dense_3_accuracy_9: 0.22 - ETA: 1s - loss: 8.3203 - dense_3_loss: 2.1400 - dense_3_accuracy: 0.8719 - dense_3_accuracy_1: 0.9102 - dense_3_accuracy_2: 0.6608 - dense_3_accuracy_3: 0.5029 - dense_3_accuracy_4: 0.9941 - dense_3_accuracy_5: 0.8857 - dense_3_accuracy_6: 0.5087 - dense_3_accuracy_7: 0.9741 - dense_3_accuracy_8: 0.4927 - dense_3_accuracy_9: 0.23 - ETA: 0s - loss: 8.2686 - dense_3_loss: 2.1326 - dense_3_accuracy: 0.8728 - dense_3_accuracy_1: 0.9109 - dense_3_accuracy_2: 0.6636 - dense_3_accuracy_3: 0.5072 - dense_3_accuracy_4: 0.9941 - dense_3_accuracy_5: 0.8864 - dense_3_accuracy_6: 0.5124 - dense_3_accuracy_7: 0.9743 - dense_3_accuracy_8: 0.4955 - dense_3_accuracy_9: 0.23 - ETA: 0s - loss: 8.2187 - dense_3_loss: 2.1278 - dense_3_accuracy: 0.8739 - dense_3_accuracy_1: 0.9116 - dense_3_accuracy_2: 0.6666 - dense_3_accuracy_3: 0.5119 - dense_3_accuracy_4: 0.9942 - dense_3_accuracy_5: 0.8874 - dense_3_accuracy_6: 0.5159 - dense_3_accuracy_7: 0.9746 - dense_3_accuracy_8: 0.4977 - dense_3_accuracy_9: 0.23 - ETA: 0s - loss: 8.1684 - dense_3_loss: 2.1207 - dense_3_accuracy: 0.8749 - dense_3_accuracy_1: 0.9123 - dense_3_accuracy_2: 0.6694 - dense_3_accuracy_3: 0.5157 - dense_3_accuracy_4: 0.9943 - dense_3_accuracy_5: 0.8884 - dense_3_accuracy_6: 0.5194 - dense_3_accuracy_7: 0.9749 - dense_3_accuracy_8: 0.4997 - dense_3_accuracy_9: 0.23 - ETA: 0s - loss: 8.1215 - dense_3_loss: 2.1119 - dense_3_accuracy: 0.8761 - dense_3_accuracy_1: 0.9132 - dense_3_accuracy_2: 0.6716 - dense_3_accuracy_3: 0.5205 - dense_3_accuracy_4: 0.9943 - dense_3_accuracy_5: 0.8892 - dense_3_accuracy_6: 0.5217 - dense_3_accuracy_7: 0.9752 - dense_3_accuracy_8: 0.5013 - dense_3_accuracy_9: 0.24 - ETA: 0s - loss: 8.0721 - dense_3_loss: 2.1043 - dense_3_accuracy: 0.8770 - dense_3_accuracy_1: 0.9136 - dense_3_accuracy_2: 0.6741 - dense_3_accuracy_3: 0.5253 - dense_3_accuracy_4: 0.9944 - dense_3_accuracy_5: 0.8900 - dense_3_accuracy_6: 0.5246 - dense_3_accuracy_7: 0.9754 - dense_3_accuracy_8: 0.5035 - dense_3_accuracy_9: 0.24 - ETA: 0s - loss: 8.0202 - dense_3_loss: 2.0944 - dense_3_accuracy: 0.8782 - dense_3_accuracy_1: 0.9145 - dense_3_accuracy_2: 0.6767 - dense_3_accuracy_3: 0.5299 - dense_3_accuracy_4: 0.9944 - dense_3_accuracy_5: 0.8906 - dense_3_accuracy_6: 0.5272 - dense_3_accuracy_7: 0.9757 - dense_3_accuracy_8: 0.5059 - dense_3_accuracy_9: 0.24 - ETA: 0s - loss: 7.9678 - dense_3_loss: 2.0860 - dense_3_accuracy: 0.8795 - dense_3_accuracy_1: 0.9154 - dense_3_accuracy_2: 0.6797 - dense_3_accuracy_3: 0.5344 - dense_3_accuracy_4: 0.9945 - dense_3_accuracy_5: 0.8915 - dense_3_accuracy_6: 0.5304 - dense_3_accuracy_7: 0.9759 - dense_3_accuracy_8: 0.5090 - dense_3_accuracy_9: 0.25 - ETA: 0s - loss: 7.9194 - dense_3_loss: 2.0784 - dense_3_accuracy: 0.8805 - dense_3_accuracy_1: 0.9163 - dense_3_accuracy_2: 0.6821 - dense_3_accuracy_3: 0.5382 - dense_3_accuracy_4: 0.9945 - dense_3_accuracy_5: 0.8926 - dense_3_accuracy_6: 0.5337 - dense_3_accuracy_7: 0.9762 - dense_3_accuracy_8: 0.5116 - dense_3_accuracy_9: 0.25 - 12s 1ms/step - loss: 7.8666 - dense_3_loss: 2.0679 - dense_3_accuracy: 0.8814 - dense_3_accuracy_1: 0.9169 - dense_3_accuracy_2: 0.6849 - dense_3_accuracy_3: 0.5425 - dense_3_accuracy_4: 0.9946 - dense_3_accuracy_5: 0.8937 - dense_3_accuracy_6: 0.5366 - dense_3_accuracy_7: 0.9764 - dense_3_accuracy_8: 0.5146 - dense_3_accuracy_9: 0.2590\n"
     ]
    },
    {
     "data": {
      "text/plain": [
       "<keras.callbacks.callbacks.History at 0x135f45de048>"
      ]
     },
     "execution_count": 113,
     "metadata": {},
     "output_type": "execute_result"
    }
   ],
   "source": [
    "model.fit([X_oh,s0,c0],outputs,epochs=1,batch_size=100)"
   ]
  },
  {
   "cell_type": "code",
   "execution_count": 114,
   "metadata": {},
   "outputs": [],
   "source": [
    "model.load_weights('models/model.h5')"
   ]
  },
  {
   "cell_type": "code",
   "execution_count": 115,
   "metadata": {},
   "outputs": [],
   "source": [
    "prediction = model.predict([X_oh,s0,c0])"
   ]
  },
  {
   "cell_type": "code",
   "execution_count": 116,
   "metadata": {},
   "outputs": [
    {
     "name": "stdout",
     "output_type": "stream",
     "text": [
      "[array([[2.6088838e-11, 6.3822824e-08, 9.9998188e-01, ..., 4.8161457e-09,\n",
      "        2.9087920e-07, 1.3107003e-05],\n",
      "       [2.8338750e-08, 2.0119222e-05, 4.0740613e-02, ..., 1.3152727e-08,\n",
      "        1.5659752e-07, 7.5371742e-07],\n",
      "       [5.5637277e-09, 3.0860741e-05, 9.7720271e-01, ..., 2.3642508e-05,\n",
      "        1.7438088e-06, 1.4035256e-05],\n",
      "       ...,\n",
      "       [7.6414244e-09, 1.3443561e-05, 1.4835117e-04, ..., 9.6848429e-10,\n",
      "        7.2417827e-09, 1.0684141e-08],\n",
      "       [4.0109648e-11, 4.8570438e-08, 9.9997640e-01, ..., 4.4348781e-06,\n",
      "        2.1020394e-07, 7.8001503e-06],\n",
      "       [4.4748254e-09, 1.3930190e-05, 4.5602821e-05, ..., 6.9536482e-10,\n",
      "        6.2133552e-09, 8.1373841e-09]], dtype=float32), array([[1.05072845e-14, 6.98603856e-07, 2.82881530e-07, ...,\n",
      "        3.45538070e-10, 1.21142392e-07, 9.99998927e-01],\n",
      "       [5.20977983e-11, 9.95485961e-01, 4.82890231e-04, ...,\n",
      "        1.93118832e-09, 2.65753126e-08, 3.90636548e-03],\n",
      "       [2.97418340e-11, 2.23968681e-02, 1.32804344e-05, ...,\n",
      "        1.49457844e-03, 4.14945703e-07, 9.76076782e-01],\n",
      "       ...,\n",
      "       [1.65234285e-11, 9.99903321e-01, 4.41830616e-06, ...,\n",
      "        5.51406143e-10, 4.24228486e-10, 6.64117579e-06],\n",
      "       [4.80777093e-13, 6.81597066e-06, 9.42977351e-07, ...,\n",
      "        1.01537968e-04, 4.87120566e-08, 9.99889493e-01],\n",
      "       [5.41734539e-12, 9.99956727e-01, 7.18002468e-07, ...,\n",
      "        1.92687644e-10, 2.59614191e-10, 3.45469471e-06]], dtype=float32), array([[4.5944552e-13, 2.4741355e-05, 3.7081343e-06, ..., 3.7061475e-06,\n",
      "        5.6621974e-04, 9.9940157e-01],\n",
      "       [4.3674626e-12, 3.0094876e-03, 9.9649519e-01, ..., 6.5020703e-07,\n",
      "        2.5381341e-06, 4.8834173e-04],\n",
      "       [2.7565011e-11, 9.5676951e-06, 1.0508259e-03, ..., 9.9889648e-01,\n",
      "        2.1972892e-05, 1.7144554e-05],\n",
      "       ...,\n",
      "       [3.9030529e-11, 1.2537160e-04, 9.9982232e-01, ..., 2.0935538e-05,\n",
      "        2.3201368e-07, 4.9202924e-08],\n",
      "       [4.8537099e-12, 3.9718390e-07, 1.6270855e-05, ..., 9.9988878e-01,\n",
      "        4.0082646e-06, 8.6741529e-05],\n",
      "       [2.9230146e-11, 4.2711067e-04, 9.9948967e-01, ..., 3.0224990e-05,\n",
      "        4.5964654e-07, 2.6252664e-07]], dtype=float32), array([[3.97231133e-07, 7.43331384e-06, 2.83289519e-05, ...,\n",
      "        1.06880441e-04, 9.99647260e-01, 1.68062368e-04],\n",
      "       [6.87701632e-11, 1.07290187e-04, 1.36570400e-03, ...,\n",
      "        1.54582460e-06, 1.00455709e-05, 9.98507917e-01],\n",
      "       [3.88157275e-08, 9.97747481e-01, 4.65887606e-05, ...,\n",
      "        3.79761477e-05, 2.68410372e-06, 1.42032013e-03],\n",
      "       ...,\n",
      "       [5.00659098e-06, 3.06769252e-05, 4.59038652e-04, ...,\n",
      "        5.54173021e-05, 7.09272058e-07, 1.11471411e-06],\n",
      "       [7.27172278e-07, 1.45002505e-05, 8.58625663e-06, ...,\n",
      "        6.14847304e-05, 2.49342271e-08, 1.67528749e-04],\n",
      "       [5.54817973e-07, 1.39631084e-04, 1.61950040e-04, ...,\n",
      "        1.77651513e-04, 1.04271328e-06, 6.02309274e-06]], dtype=float32), array([[9.9999189e-01, 7.6068540e-07, 6.6698384e-08, ..., 1.1746641e-10,\n",
      "        8.0359559e-09, 2.3559482e-10],\n",
      "       [9.9918693e-01, 5.5208783e-08, 7.7479339e-04, ..., 2.1489936e-09,\n",
      "        5.2751073e-08, 1.7492192e-10],\n",
      "       [9.9996626e-01, 1.4532177e-05, 6.3805223e-06, ..., 2.2468305e-09,\n",
      "        4.2933930e-08, 8.4694562e-10],\n",
      "       ...,\n",
      "       [9.9999404e-01, 3.5002061e-09, 3.4347838e-06, ..., 3.4630222e-11,\n",
      "        6.6218298e-10, 1.5662863e-11],\n",
      "       [9.9999607e-01, 1.3988914e-07, 7.4132494e-08, ..., 6.0620946e-11,\n",
      "        2.9935926e-10, 4.0572254e-11],\n",
      "       [9.9998772e-01, 1.6173277e-07, 4.4505239e-08, ..., 2.3875693e-09,\n",
      "        1.9270952e-09, 4.4694193e-11]], dtype=float32), array([[5.92744342e-08, 9.99993086e-01, 6.16564148e-06, ...,\n",
      "        7.17726323e-10, 6.71501049e-11, 6.49444276e-09],\n",
      "       [9.63850439e-08, 4.00025368e-04, 9.99599636e-01, ...,\n",
      "        1.47155881e-11, 2.04542092e-10, 3.40067835e-10],\n",
      "       [3.93939104e-07, 9.67447996e-01, 3.25465091e-02, ...,\n",
      "        1.71018921e-09, 1.40307401e-08, 1.45845917e-07],\n",
      "       ...,\n",
      "       [1.44397930e-07, 1.47292840e-05, 9.99983191e-01, ...,\n",
      "        9.09660281e-12, 1.86617860e-10, 1.83611559e-09],\n",
      "       [3.75019340e-07, 9.99965906e-01, 5.45177363e-06, ...,\n",
      "        5.02641428e-10, 1.08725662e-09, 1.17385985e-08],\n",
      "       [3.90478635e-06, 9.96297657e-01, 2.87778705e-04, ...,\n",
      "        2.90178662e-07, 8.17126633e-09, 9.30018444e-08]], dtype=float32), array([[6.7502292e-06, 1.9069335e-04, 2.4660589e-04, ..., 2.7156817e-05,\n",
      "        1.3788423e-08, 1.8816442e-03],\n",
      "       [1.1251847e-06, 3.0533844e-04, 9.9963844e-01, ..., 1.6423664e-08,\n",
      "        5.5244371e-08, 8.7921656e-08],\n",
      "       [5.2787309e-05, 2.7457261e-01, 6.2064830e-02, ..., 1.9646862e-03,\n",
      "        2.3128001e-03, 5.9873337e-01],\n",
      "       ...,\n",
      "       [7.7507502e-07, 9.9715626e-01, 1.1405629e-04, ..., 2.5840590e-08,\n",
      "        2.0811483e-07, 2.2858144e-03],\n",
      "       [2.1726621e-05, 1.5132749e-05, 1.5604555e-05, ..., 7.3808181e-08,\n",
      "        4.0665955e-07, 1.0476947e-06],\n",
      "       [1.8163897e-07, 1.2002105e-06, 2.0619002e-06, ..., 1.3451139e-05,\n",
      "        1.7620606e-07, 7.4362174e-07]], dtype=float32), array([[9.9999118e-01, 5.3496674e-09, 1.2605364e-08, ..., 1.6548269e-09,\n",
      "        1.6340300e-08, 3.9486774e-09],\n",
      "       [9.9999619e-01, 4.1765916e-10, 1.5048298e-06, ..., 3.4234839e-09,\n",
      "        8.9394394e-09, 2.0282677e-11],\n",
      "       [9.9999905e-01, 7.1654155e-11, 1.1050862e-07, ..., 1.2563882e-09,\n",
      "        2.9381397e-08, 7.6225429e-11],\n",
      "       ...,\n",
      "       [9.9973983e-01, 9.4770867e-09, 2.4444374e-04, ..., 9.2086276e-07,\n",
      "        7.4785976e-07, 1.5104868e-09],\n",
      "       [9.9988866e-01, 6.0006244e-08, 7.4063683e-10, ..., 3.0443950e-10,\n",
      "        1.1892010e-08, 2.5041495e-11],\n",
      "       [9.9999130e-01, 2.3218910e-10, 9.4861844e-12, ..., 3.0220768e-08,\n",
      "        1.4631072e-08, 1.8208740e-11]], dtype=float32), array([[2.9341594e-04, 6.4051676e-01, 3.3128050e-01, ..., 8.0416930e-06,\n",
      "        3.5184617e-05, 1.3710729e-02],\n",
      "       [6.3352645e-06, 1.5752517e-05, 9.9997187e-01, ..., 4.1279311e-08,\n",
      "        1.9189706e-08, 9.9700493e-08],\n",
      "       [1.1796947e-06, 4.2445565e-05, 9.9994981e-01, ..., 2.3792973e-08,\n",
      "        4.1951157e-08, 6.4789134e-07],\n",
      "       ...,\n",
      "       [2.2669774e-06, 9.3021090e-06, 9.9997282e-01, ..., 9.5544362e-07,\n",
      "        6.3351798e-08, 3.6829519e-07],\n",
      "       [6.6265369e-07, 9.9980098e-01, 5.0968596e-05, ..., 8.7815737e-09,\n",
      "        5.4265328e-08, 7.1674413e-07],\n",
      "       [1.6027874e-06, 1.4844970e-05, 3.8845170e-07, ..., 1.3931088e-06,\n",
      "        3.3932594e-08, 4.0292186e-08]], dtype=float32), array([[3.1531753e-11, 6.0726215e-05, 1.3786967e-05, ..., 8.4229384e-07,\n",
      "        7.7909851e-07, 9.9991703e-01],\n",
      "       [7.9955430e-07, 9.9686724e-01, 1.4711596e-04, ..., 3.9635503e-07,\n",
      "        1.8176066e-06, 1.9748223e-03],\n",
      "       [3.4752570e-09, 9.6881068e-01, 3.1918258e-05, ..., 2.2393908e-07,\n",
      "        1.5427634e-06, 3.1099202e-02],\n",
      "       ...,\n",
      "       [8.5833295e-07, 1.2628439e-06, 1.3624370e-02, ..., 9.8362124e-01,\n",
      "        1.8423700e-04, 2.2120348e-03],\n",
      "       [4.7149797e-06, 1.1654066e-06, 9.8609962e-06, ..., 7.8565281e-06,\n",
      "        7.9391873e-05, 3.2460205e-06],\n",
      "       [2.5454176e-06, 3.1211076e-07, 3.9763108e-05, ..., 9.9934047e-01,\n",
      "        8.5303276e-05, 8.0699145e-05]], dtype=float32)]\n"
     ]
    }
   ],
   "source": [
    "print(prediction)"
   ]
  },
  {
   "cell_type": "code",
   "execution_count": 117,
   "metadata": {},
   "outputs": [],
   "source": [
    "prediction = np.argmax(prediction, axis = -1)"
   ]
  },
  {
   "cell_type": "code",
   "execution_count": 118,
   "metadata": {},
   "outputs": [
    {
     "name": "stdout",
     "output_type": "stream",
     "text": [
      "[[ 2  3  2 ...  3  2  3]\n",
      " [10  1 10 ...  1 10  1]\n",
      " [10  2  8 ...  2  8  2]\n",
      " ...\n",
      " [ 0  0  0 ...  0  0  0]\n",
      " [ 1  2  2 ...  2  1  3]\n",
      " [10  1  1 ...  8  5  8]]\n"
     ]
    }
   ],
   "source": [
    "print(prediction)"
   ]
  },
  {
   "cell_type": "code",
   "execution_count": 119,
   "metadata": {},
   "outputs": [
    {
     "data": {
      "text/plain": [
       "array([[ 2, 10, 10, ...,  0,  1, 10],\n",
       "       [ 3,  1,  2, ...,  0,  2,  1],\n",
       "       [ 2, 10,  8, ...,  0,  2,  1],\n",
       "       ...,\n",
       "       [ 3,  1,  2, ...,  0,  2,  8],\n",
       "       [ 2, 10,  8, ...,  0,  1,  5],\n",
       "       [ 3,  1,  2, ...,  0,  3,  8]])"
      ]
     },
     "execution_count": 119,
     "metadata": {},
     "output_type": "execute_result"
    }
   ],
   "source": [
    "Y"
   ]
  },
  {
   "cell_type": "code",
   "execution_count": 120,
   "metadata": {},
   "outputs": [
    {
     "data": {
      "text/plain": [
       "(10, 10000)"
      ]
     },
     "execution_count": 120,
     "metadata": {},
     "output_type": "execute_result"
    }
   ],
   "source": [
    "prediction.shape"
   ]
  },
  {
   "cell_type": "code",
   "execution_count": 121,
   "metadata": {},
   "outputs": [
    {
     "data": {
      "text/plain": [
       "(10000, 10)"
      ]
     },
     "execution_count": 121,
     "metadata": {},
     "output_type": "execute_result"
    }
   ],
   "source": [
    "Y.shape"
   ]
  },
  {
   "cell_type": "code",
   "execution_count": 122,
   "metadata": {},
   "outputs": [
    {
     "data": {
      "text/plain": [
       "array([2, 3, 2, ..., 3, 2, 3], dtype=int64)"
      ]
     },
     "execution_count": 122,
     "metadata": {},
     "output_type": "execute_result"
    }
   ],
   "source": [
    "prediction[0]"
   ]
  },
  {
   "cell_type": "code",
   "execution_count": 123,
   "metadata": {},
   "outputs": [
    {
     "data": {
      "text/plain": [
       "array([ 2, 10, 10,  9,  0,  1,  6,  0,  1, 10])"
      ]
     },
     "execution_count": 123,
     "metadata": {},
     "output_type": "execute_result"
    }
   ],
   "source": [
    "Y[0]"
   ]
  },
  {
   "cell_type": "code",
   "execution_count": 126,
   "metadata": {},
   "outputs": [],
   "source": [
    "prediction=prediction.swapaxes(0,1)"
   ]
  },
  {
   "cell_type": "code",
   "execution_count": 127,
   "metadata": {},
   "outputs": [
    {
     "data": {
      "text/plain": [
       "(10000, 10)"
      ]
     },
     "execution_count": 127,
     "metadata": {},
     "output_type": "execute_result"
    }
   ],
   "source": [
    "prediction.shape"
   ]
  },
  {
   "cell_type": "code",
   "execution_count": 128,
   "metadata": {},
   "outputs": [
    {
     "data": {
      "text/plain": [
       "array([ 2, 10, 10,  9,  0,  1,  6,  0,  1, 10], dtype=int64)"
      ]
     },
     "execution_count": 128,
     "metadata": {},
     "output_type": "execute_result"
    }
   ],
   "source": [
    "prediction[0]"
   ]
  },
  {
   "cell_type": "code",
   "execution_count": 124,
   "metadata": {},
   "outputs": [],
   "source": [
    "output=[]\n",
    "for i in range(len(prediction)):\n",
    "    out=prediction[i][0]\n",
    "    output.append(out)"
   ]
  },
  {
   "cell_type": "code",
   "execution_count": 125,
   "metadata": {},
   "outputs": [
    {
     "data": {
      "text/plain": [
       "[2, 10, 10, 9, 0, 1, 6, 0, 1, 10]"
      ]
     },
     "execution_count": 125,
     "metadata": {},
     "output_type": "execute_result"
    }
   ],
   "source": [
    "output"
   ]
  },
  {
   "cell_type": "code",
   "execution_count": 130,
   "metadata": {},
   "outputs": [
    {
     "name": "stdout",
     "output_type": "stream",
     "text": [
      "10000\n"
     ]
    }
   ],
   "source": [
    "c=0\n",
    "for i in range(prediction.shape[0]):\n",
    "    if prediction[i].all()==Y[i].all():\n",
    "        c=c+1\n",
    "print(c)"
   ]
  },
  {
   "cell_type": "code",
   "execution_count": null,
   "metadata": {},
   "outputs": [],
   "source": []
  }
 ],
 "metadata": {
  "kernelspec": {
   "display_name": "Python 3",
   "language": "python",
   "name": "python3"
  },
  "language_info": {
   "codemirror_mode": {
    "name": "ipython",
    "version": 3
   },
   "file_extension": ".py",
   "mimetype": "text/x-python",
   "name": "python",
   "nbconvert_exporter": "python",
   "pygments_lexer": "ipython3",
   "version": "3.7.4"
  }
 },
 "nbformat": 4,
 "nbformat_minor": 2
}
